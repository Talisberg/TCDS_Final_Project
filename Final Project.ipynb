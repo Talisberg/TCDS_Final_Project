{
 "cells": [
  {
   "cell_type": "code",
   "execution_count": 92,
   "metadata": {
    "collapsed": true
   },
   "outputs": [],
   "source": [
    "import pandas as pd\n",
    "import os\n",
    "import numpy as np\n",
    "import matplotlib.pyplot as plt\n",
    "import missingno as msno\n",
    "import seaborn as sns\n",
    "\n",
    "%matplotlib inline\n",
    "\n",
    "import warnings\n",
    "warnings.simplefilter(action='ignore', category=FutureWarning)"
   ]
  },
  {
   "cell_type": "code",
   "execution_count": 93,
   "metadata": {},
   "outputs": [],
   "source": [
    "from imblearn.over_sampling import RandomOverSampler, SMOTE\n",
    "from imblearn.under_sampling import RandomUnderSampler\n",
    "import scikitplot as skplt"
   ]
  },
  {
   "cell_type": "code",
   "execution_count": 94,
   "metadata": {
    "collapsed": true
   },
   "outputs": [],
   "source": [
    "from sklearn.preprocessing import MinMaxScaler\n",
    "import statsmodels.formula.api as sm\n",
    "pd.options.display.float_format = '{:,.4f}'.format"
   ]
  },
  {
   "cell_type": "code",
   "execution_count": 95,
   "metadata": {
    "collapsed": true
   },
   "outputs": [],
   "source": [
    "from sklearn import *\n",
    "from lightgbm import LGBMClassifier\n",
    "import warnings\n",
    "warnings.filterwarnings('ignore')\n",
    "\n",
    "from sklearn.model_selection import RandomizedSearchCV, GridSearchCV\n",
    "from sklearn.metrics import roc_auc_score\n",
    "from sklearn.ensemble import RandomForestClassifier\n",
    "from sklearn.preprocessing import LabelEncoder\n",
    "from sklearn.model_selection import train_test_split\n",
    "from sklearn.tree import DecisionTreeClassifier\n",
    "from sklearn.model_selection import cross_val_score\n",
    "from sklearn.model_selection import StratifiedKFold\n",
    "from datetime import datetime\n",
    "import math\n",
    "\n",
    "from sklearn.metrics import roc_curve, auc\n",
    "import numpy as np\n",
    "from collections import Counter\n",
    "import pandas as pd \n",
    "import xgboost as xgb\n",
    "from lightgbm import LGBMClassifier\n",
    "from catboost import CatBoostClassifier"
   ]
  },
  {
   "cell_type": "markdown",
   "metadata": {},
   "source": [
    "### Functions Declaration"
   ]
  },
  {
   "cell_type": "code",
   "execution_count": 96,
   "metadata": {
    "collapsed": true
   },
   "outputs": [],
   "source": [
    "def feature_importance_table(X, y, cutoff=2):\n",
    "    #CatBoost\n",
    "    print('running CatBoost')\n",
    "    cat_cls = CatBoostClassifier(iterations=100,learning_rate=0.05,verbose=False)\n",
    "    cat_cls.fit(X,y)\n",
    "    \n",
    "    \n",
    "    #random forest\n",
    "    print('running RF')\n",
    "    rf_cls = RandomForestClassifier()\n",
    "    rf_cls.fit(X, y)\n",
    "\n",
    "    # LIGHT\n",
    "    print('running LIGHTGBM')\n",
    "    light_cls = LGBMClassifier()\n",
    "    light_cls.fit(X, y)\n",
    "    \n",
    "    #create numpy for return data\n",
    "   \n",
    "    light = pd.Series(light_cls.feature_importances_)\n",
    "    cat = pd.Series(cat_cls.feature_importances_)\n",
    "    rf = pd.Series(rf_cls.feature_importances_)\n",
    "    \n",
    "      \n",
    "    coaf_df = pd.DataFrame(index=X.columns.tolist()) \n",
    "    \n",
    "    coaf_df['LIGHTGBM'] = light.values\n",
    "    coaf_df['CatBoost'] = cat.values\n",
    "    coaf_df['RND_FOREST'] = rf.values\n",
    "    \n",
    "    #store the data\n",
    "    return coaf_df, light_cls, cat_cls, rf_cls"
   ]
  },
  {
   "cell_type": "code",
   "execution_count": 97,
   "metadata": {},
   "outputs": [],
   "source": [
    "def col_Recommendation(df,return_cols = 0):\n",
    "    '''Functions gets a DataFrame and calssifies the columns into \n",
    "        Dummies Classification, Target Encoding and Further Engineering\n",
    "        if return_cols = 1, the function return list of columns for one-hot-encoding and target encoding\n",
    "        Otherwise, it returns blank lists'''\n",
    "\n",
    "    col_nunique_dictionary = dict(df.nunique()) # get unique_values from each \n",
    "    dummies = []\n",
    "    target_encoding = []\n",
    "    drop = {}\n",
    "    \n",
    "    for key,val in col_nunique_dictionary.items():\n",
    "        if df[key].dtype == 'O':\n",
    "            \n",
    "            if val < 10:\n",
    "                dummies.append(key)\n",
    "            elif 10<=val<2000:\n",
    "                target_encoding.append(key)\n",
    "\n",
    "            elif val >= 2000:\n",
    "                print(\"Please consider engineering column: {}\\n It Has {} unique values\".format(key,val))\n",
    "        \n",
    "        else:\n",
    "            if 2< val < 10:\n",
    "                dummies.append(key)\n",
    "            \n",
    "            elif 10 <= val < 2000:\n",
    "                target_encoding.append(key)\n",
    "            \n",
    "            elif val > 2000:\n",
    "                print(\"Please consider engineering column: {}\\n It Has {} unique values\".format(key,val))\n",
    "    \n",
    "    if drop != {}:\n",
    "        print(\"Please consider engineering columns: {}\\nThese columns have more than 200K unique values\".format(drop.keys()))\n",
    "    \n",
    "    if return_cols:\n",
    "        return dummies, target_encoding\n",
    "\n",
    "    else:\n",
    "        return [],[]\n",
    "      "
   ]
  },
  {
   "cell_type": "code",
   "execution_count": 98,
   "metadata": {
    "collapsed": true
   },
   "outputs": [],
   "source": [
    "def target_encoder(df,criterias,target='install'):\n",
    "    benchmark = len(df[df[target] ==1])/len(df)\n",
    "    for criteria in criterias:\n",
    "        classifier = pd.DataFrame(df[criteria][df[target] == 1]\\\n",
    "                        .value_counts(dropna=False)/df[criteria].value_counts(dropna=False))\\\n",
    "                        .fillna(0)\n",
    "        classifier /= benchmark\n",
    "        df = df.join(classifier,on=criteria,rsuffix='_mean').drop(criteria,axis=1)\n",
    "    \n",
    "    return df"
   ]
  },
  {
   "cell_type": "code",
   "execution_count": 99,
   "metadata": {
    "collapsed": true
   },
   "outputs": [],
   "source": [
    "# create a dictionary of hour time frame in order to divide the day shifts \n",
    "def time_frame_dict(time_frame_hr):\n",
    "    hr_dict = {}\n",
    "    for i in range(0,24,time_frame_hr):\n",
    "        hr_dict[range(i,i+time_frame_hr)] = '{:2d} - {:2d}'.format(i,i+time_frame_hr)\n",
    "    \n",
    "    return hr_dict\n",
    "        "
   ]
  },
  {
   "cell_type": "code",
   "execution_count": 100,
   "metadata": {
    "collapsed": true
   },
   "outputs": [],
   "source": [
    "def hourgroup(a,dic):\n",
    "    \"\"\"divides the day to 3 shifts of 8 hours\"\"\"\n",
    "    \n",
    "    for key, value in dic.items():\n",
    "        if a in key:\n",
    "            \n",
    "            return value"
   ]
  },
  {
   "cell_type": "code",
   "execution_count": 101,
   "metadata": {
    "collapsed": true
   },
   "outputs": [],
   "source": [
    "def convert_to_local_timeframe(col,time_frame_hr = 1):\n",
    "    hr_dict = time_frame_dict(time_frame_hr)\n",
    "    \n",
    "    temp = pd.DataFrame()\n",
    "    temp['day'] = col.apply(lambda x: x.weekday())\n",
    "    temp['local_hour'] = col.apply(lambda x: x.hour)\n",
    "    \n",
    "    print(temp.local_hour.nunique())\n",
    "    temp['hour_range'] = temp.local_hour.apply(hourgroup, args = (hr_dict,))\n",
    "    \n",
    "    return temp.hour_range"
   ]
  },
  {
   "cell_type": "code",
   "execution_count": 102,
   "metadata": {
    "collapsed": true
   },
   "outputs": [],
   "source": [
    "def zscore_outliers(df,col, cutoff=3.0, return_thresholds=False):\n",
    "    \"\"\"\n",
    "    Return a boolean mask of outliers for a series\n",
    "    using standard deviation, works column-wise.\n",
    "    param nstd:\n",
    "        Set number of standard deviations from the mean\n",
    "        to consider an outlier\n",
    "    :type nstd: ``float``\n",
    "    param return_thresholds:\n",
    "        True returns the lower and upper bounds, good for plotting.\n",
    "        False returns the masked array \n",
    "    :type return_thresholds: ``bool``\n",
    "    \"\"\"\n",
    "\n",
    "    if df[col].mean():\n",
    "        dmean = df[col].mean()\n",
    "        dsd = df[col].std()\n",
    "        rng = dsd * cutoff\n",
    "        lower = dmean - rng\n",
    "        upper = dmean + rng\n",
    "        if return_thresholds:\n",
    "            return lower, upper\n",
    "        else:\n",
    "            return [True if z < lower or z > upper else False for z in df[col]]\n",
    "    \n",
    "    else:\n",
    "        pass\n"
   ]
  },
  {
   "cell_type": "code",
   "execution_count": 103,
   "metadata": {
    "collapsed": true
   },
   "outputs": [],
   "source": [
    "def missing_table(df):\n",
    "    missing_table = pd.DataFrame(df.isna().sum()).rename({0:'No_of_Vals'},axis=1)\n",
    "    missing_table = missing_table[missing_table.iloc[:,0]>0]\n",
    "    missing_table['%_of_Total'] = 100*missing_table.No_of_Vals/len(df)\n",
    "    missing_table = missing_table.sort_values(by='%_of_Total',ascending= False).round(2)\n",
    "    \n",
    "    return missing_table "
   ]
  },
  {
   "cell_type": "code",
   "execution_count": 104,
   "metadata": {
    "collapsed": true
   },
   "outputs": [],
   "source": [
    "def osv_normalizer(x):\n",
    "    \"\"\"Reformat Operation System Version across all ssps\"\"\"\n",
    "\n",
    "    try:\n",
    "        if np.isnan(x):\n",
    "            return x\n",
    "    except:\n",
    "        pass\n",
    "\n",
    "    if len(x) > 12 or len(x) < 1:\n",
    "        return \"OTHER\"\n",
    "\n",
    "    elif 1< len(x) < 3:\n",
    "        return str(x)\n",
    "\n",
    "    norm = x\n",
    "    Flag = True\n",
    "    while Flag:\n",
    "        if (norm[-1] == '0') and (not norm[-2].isnumeric()):\n",
    "            norm = norm[:-2]\n",
    "        else:\n",
    "            Flag = False\n",
    "    return str(norm)"
   ]
  },
  {
   "cell_type": "code",
   "execution_count": 105,
   "metadata": {
    "collapsed": true
   },
   "outputs": [],
   "source": [
    "pd.set_option('mode.chained_assignment', None)"
   ]
  },
  {
   "cell_type": "markdown",
   "metadata": {},
   "source": [
    "### Files Input"
   ]
  },
  {
   "cell_type": "code",
   "execution_count": 106,
   "metadata": {
    "collapsed": true
   },
   "outputs": [],
   "source": [
    "os.chdir(r'C:\\Users\\Tal\\Desktop\\Final Project\\TABLES')\n",
    "df = pd.read_csv('installs_imprs_db.csv')"
   ]
  },
  {
   "cell_type": "code",
   "execution_count": 107,
   "metadata": {
    "collapsed": true
   },
   "outputs": [],
   "source": [
    "rating = pd.read_csv('AppRating.csv').set_index('plBundle') # rating for each app in which the ad is shown\n",
    "category = pd.read_csv('AppCategory.csv').set_index('plBundle') # category for each app in which the ad is shown\n",
    "crid = pd.read_csv('CRID Data.csv').set_index('crid') # information about each creative (video showed) \n",
    "timezone = pd.read_csv('us_tz.csv') # conversion dictionary from through state time difference from utc time"
   ]
  },
  {
   "cell_type": "code",
   "execution_count": 108,
   "metadata": {
    "collapsed": true
   },
   "outputs": [],
   "source": [
    "timezone = timezone[['abbr','utc_diff']]\n",
    "timezone['utc_diff'] = pd.to_timedelta(abs(timezone.utc_diff),unit='h')\n",
    "timezone = pd.DataFrame(timezone.set_index('abbr'))"
   ]
  },
  {
   "cell_type": "code",
   "execution_count": 109,
   "metadata": {},
   "outputs": [
    {
     "name": "stdout",
     "output_type": "stream",
     "text": [
      "Size of master_df data before enrichments (544213, 31)\n"
     ]
    }
   ],
   "source": [
    "print('Size of master_df data before enrichments', df.shape)"
   ]
  },
  {
   "cell_type": "markdown",
   "metadata": {},
   "source": [
    "Let's add all the enrichments to master df"
   ]
  },
  {
   "cell_type": "code",
   "execution_count": 110,
   "metadata": {},
   "outputs": [
    {
     "data": {
      "text/html": [
       "<div>\n",
       "<style scoped>\n",
       "    .dataframe tbody tr th:only-of-type {\n",
       "        vertical-align: middle;\n",
       "    }\n",
       "\n",
       "    .dataframe tbody tr th {\n",
       "        vertical-align: top;\n",
       "    }\n",
       "\n",
       "    .dataframe thead th {\n",
       "        text-align: right;\n",
       "    }\n",
       "</style>\n",
       "<table border=\"1\" class=\"dataframe\">\n",
       "  <thead>\n",
       "    <tr style=\"text-align: right;\">\n",
       "      <th></th>\n",
       "      <th>Unnamed: 0</th>\n",
       "      <th>time</th>\n",
       "      <th>bidtime</th>\n",
       "      <th>bidid</th>\n",
       "      <th>crid</th>\n",
       "      <th>deviceid</th>\n",
       "      <th>devlang</th>\n",
       "      <th>sspid</th>\n",
       "      <th>bundle</th>\n",
       "      <th>contype</th>\n",
       "      <th>...</th>\n",
       "      <th>uascreenpixelswidth</th>\n",
       "      <th>uascreenpixelsheight</th>\n",
       "      <th>uascreeninchesdiagonal</th>\n",
       "      <th>ppi</th>\n",
       "      <th>ssps</th>\n",
       "      <th>apps</th>\n",
       "      <th>agebucket</th>\n",
       "      <th>gender</th>\n",
       "      <th>bundletotalfc</th>\n",
       "      <th>install</th>\n",
       "    </tr>\n",
       "  </thead>\n",
       "  <tbody>\n",
       "    <tr>\n",
       "      <th>0</th>\n",
       "      <td>4</td>\n",
       "      <td>1548845128734</td>\n",
       "      <td>1548845084493</td>\n",
       "      <td>674a6c69-532e-45ac-8f07-81d60a9a06eb</td>\n",
       "      <td>1468</td>\n",
       "      <td>df23d29a-3750-4789-8b2c-4cca6a36772e</td>\n",
       "      <td>en</td>\n",
       "      <td>chartboost</td>\n",
       "      <td>com.mindstormstudios.coinparty.google</td>\n",
       "      <td>2.0000</td>\n",
       "      <td>...</td>\n",
       "      <td>1,440.0000</td>\n",
       "      <td>3,120.0000</td>\n",
       "      <td>6.4000</td>\n",
       "      <td>536.9200</td>\n",
       "      <td>4.0000</td>\n",
       "      <td>5.0000</td>\n",
       "      <td>NaN</td>\n",
       "      <td>NaN</td>\n",
       "      <td>2.0000</td>\n",
       "      <td>0.0000</td>\n",
       "    </tr>\n",
       "    <tr>\n",
       "      <th>1</th>\n",
       "      <td>6</td>\n",
       "      <td>1548845135161</td>\n",
       "      <td>1548844905459</td>\n",
       "      <td>232a81e4-60cb-4e9b-a862-afa2a4a797a3</td>\n",
       "      <td>1169</td>\n",
       "      <td>0bd1dc48-3b67-43c5-bc1f-106172d74790</td>\n",
       "      <td>en</td>\n",
       "      <td>unity_us</td>\n",
       "      <td>com.vegasslotspocket.heartofdiamond</td>\n",
       "      <td>2.0000</td>\n",
       "      <td>...</td>\n",
       "      <td>720.0000</td>\n",
       "      <td>1,280.0000</td>\n",
       "      <td>5.0000</td>\n",
       "      <td>293.7200</td>\n",
       "      <td>6.0000</td>\n",
       "      <td>8.0000</td>\n",
       "      <td>NaN</td>\n",
       "      <td>NaN</td>\n",
       "      <td>3.0000</td>\n",
       "      <td>0.0000</td>\n",
       "    </tr>\n",
       "    <tr>\n",
       "      <th>2</th>\n",
       "      <td>11</td>\n",
       "      <td>1548845213873</td>\n",
       "      <td>1548845209785</td>\n",
       "      <td>6d9feae9-1d70-4429-97ec-f6ae6aad14a1</td>\n",
       "      <td>1194</td>\n",
       "      <td>959e3d81-edde-4b01-a168-1b7a6f336eed</td>\n",
       "      <td>en</td>\n",
       "      <td>chartboost</td>\n",
       "      <td>com.zealgames.cashmania</td>\n",
       "      <td>2.0000</td>\n",
       "      <td>...</td>\n",
       "      <td>720.0000</td>\n",
       "      <td>1,280.0000</td>\n",
       "      <td>5.5000</td>\n",
       "      <td>267.0200</td>\n",
       "      <td>10.0000</td>\n",
       "      <td>12.0000</td>\n",
       "      <td>NaN</td>\n",
       "      <td>NaN</td>\n",
       "      <td>3.0000</td>\n",
       "      <td>0.0000</td>\n",
       "    </tr>\n",
       "    <tr>\n",
       "      <th>3</th>\n",
       "      <td>13</td>\n",
       "      <td>1548845247193</td>\n",
       "      <td>1548845211500</td>\n",
       "      <td>8f893eea-c785-48ef-98cb-67adf6c7395f</td>\n",
       "      <td>1193</td>\n",
       "      <td>9852f122-18cb-4f26-b445-fbdf961eeff2</td>\n",
       "      <td>en</td>\n",
       "      <td>adcolony</td>\n",
       "      <td>com.gsn.android.casino</td>\n",
       "      <td>2.0000</td>\n",
       "      <td>...</td>\n",
       "      <td>nan</td>\n",
       "      <td>nan</td>\n",
       "      <td>nan</td>\n",
       "      <td>nan</td>\n",
       "      <td>11.0000</td>\n",
       "      <td>25.0000</td>\n",
       "      <td>25 – 34</td>\n",
       "      <td>NaN</td>\n",
       "      <td>1.0000</td>\n",
       "      <td>0.0000</td>\n",
       "    </tr>\n",
       "    <tr>\n",
       "      <th>4</th>\n",
       "      <td>21</td>\n",
       "      <td>1548845332743</td>\n",
       "      <td>1548845308448</td>\n",
       "      <td>b5f53834-9373-4a15-9cbd-893522584329</td>\n",
       "      <td>1469</td>\n",
       "      <td>e84ab04d-179c-4c5c-853a-b41a1d9f2dab</td>\n",
       "      <td>en</td>\n",
       "      <td>adcolony</td>\n",
       "      <td>com.fortmasongames.confetti</td>\n",
       "      <td>2.0000</td>\n",
       "      <td>...</td>\n",
       "      <td>1,440.0000</td>\n",
       "      <td>2,560.0000</td>\n",
       "      <td>5.1000</td>\n",
       "      <td>575.9200</td>\n",
       "      <td>11.0000</td>\n",
       "      <td>53.0000</td>\n",
       "      <td>NaN</td>\n",
       "      <td>Female</td>\n",
       "      <td>2.0000</td>\n",
       "      <td>0.0000</td>\n",
       "    </tr>\n",
       "  </tbody>\n",
       "</table>\n",
       "<p>5 rows × 31 columns</p>\n",
       "</div>"
      ],
      "text/plain": [
       "   Unnamed: 0           time        bidtime  \\\n",
       "0           4  1548845128734  1548845084493   \n",
       "1           6  1548845135161  1548844905459   \n",
       "2          11  1548845213873  1548845209785   \n",
       "3          13  1548845247193  1548845211500   \n",
       "4          21  1548845332743  1548845308448   \n",
       "\n",
       "                                  bidid  crid  \\\n",
       "0  674a6c69-532e-45ac-8f07-81d60a9a06eb  1468   \n",
       "1  232a81e4-60cb-4e9b-a862-afa2a4a797a3  1169   \n",
       "2  6d9feae9-1d70-4429-97ec-f6ae6aad14a1  1194   \n",
       "3  8f893eea-c785-48ef-98cb-67adf6c7395f  1193   \n",
       "4  b5f53834-9373-4a15-9cbd-893522584329  1469   \n",
       "\n",
       "                               deviceid devlang       sspid  \\\n",
       "0  df23d29a-3750-4789-8b2c-4cca6a36772e      en  chartboost   \n",
       "1  0bd1dc48-3b67-43c5-bc1f-106172d74790      en    unity_us   \n",
       "2  959e3d81-edde-4b01-a168-1b7a6f336eed      en  chartboost   \n",
       "3  9852f122-18cb-4f26-b445-fbdf961eeff2      en    adcolony   \n",
       "4  e84ab04d-179c-4c5c-853a-b41a1d9f2dab      en    adcolony   \n",
       "\n",
       "                                  bundle  contype  ... uascreenpixelswidth  \\\n",
       "0  com.mindstormstudios.coinparty.google   2.0000  ...          1,440.0000   \n",
       "1    com.vegasslotspocket.heartofdiamond   2.0000  ...            720.0000   \n",
       "2                com.zealgames.cashmania   2.0000  ...            720.0000   \n",
       "3                 com.gsn.android.casino   2.0000  ...                 nan   \n",
       "4            com.fortmasongames.confetti   2.0000  ...          1,440.0000   \n",
       "\n",
       "  uascreenpixelsheight uascreeninchesdiagonal      ppi    ssps    apps  \\\n",
       "0           3,120.0000                 6.4000 536.9200  4.0000  5.0000   \n",
       "1           1,280.0000                 5.0000 293.7200  6.0000  8.0000   \n",
       "2           1,280.0000                 5.5000 267.0200 10.0000 12.0000   \n",
       "3                  nan                    nan      nan 11.0000 25.0000   \n",
       "4           2,560.0000                 5.1000 575.9200 11.0000 53.0000   \n",
       "\n",
       "  agebucket  gender  bundletotalfc  install  \n",
       "0       NaN     NaN         2.0000   0.0000  \n",
       "1       NaN     NaN         3.0000   0.0000  \n",
       "2       NaN     NaN         3.0000   0.0000  \n",
       "3   25 – 34     NaN         1.0000   0.0000  \n",
       "4       NaN  Female         2.0000   0.0000  \n",
       "\n",
       "[5 rows x 31 columns]"
      ]
     },
     "execution_count": 110,
     "metadata": {},
     "output_type": "execute_result"
    }
   ],
   "source": [
    "df.head()"
   ]
  },
  {
   "cell_type": "code",
   "execution_count": 111,
   "metadata": {
    "collapsed": true
   },
   "outputs": [],
   "source": [
    "df = df.join(timezone,on='state')\n",
    "df = df.join(rating,on='bundle',how='left')\n",
    "df = df.join(category,on='bundle',how='left')\n",
    "df = df.join(crid,on='crid',how='left')\n",
    "df = df[~df.index.duplicated()]\n",
    "df = df.drop(['Unnamed: 0'],axis=1)"
   ]
  },
  {
   "cell_type": "code",
   "execution_count": 112,
   "metadata": {},
   "outputs": [
    {
     "name": "stdout",
     "output_type": "stream",
     "text": [
      "544213\n"
     ]
    }
   ],
   "source": [
    "# drop the id of the bid since it is not our index and it doesn't contain\n",
    "# any additional information about installing rather than the id of the bid\n",
    "print(df.bidid.nunique())\n",
    "df = df.drop(['bidid','bidtime'],axis=1)"
   ]
  },
  {
   "cell_type": "code",
   "execution_count": 113,
   "metadata": {},
   "outputs": [
    {
     "name": "stdout",
     "output_type": "stream",
     "text": [
      "Size of master_df data after enrichments (544213, 34)\n"
     ]
    }
   ],
   "source": [
    "print('Size of master_df data after enrichments', df.shape)"
   ]
  },
  {
   "cell_type": "code",
   "execution_count": 114,
   "metadata": {},
   "outputs": [
    {
     "data": {
      "text/html": [
       "<div>\n",
       "<style scoped>\n",
       "    .dataframe tbody tr th:only-of-type {\n",
       "        vertical-align: middle;\n",
       "    }\n",
       "\n",
       "    .dataframe tbody tr th {\n",
       "        vertical-align: top;\n",
       "    }\n",
       "\n",
       "    .dataframe thead th {\n",
       "        text-align: right;\n",
       "    }\n",
       "</style>\n",
       "<table border=\"1\" class=\"dataframe\">\n",
       "  <thead>\n",
       "    <tr style=\"text-align: right;\">\n",
       "      <th></th>\n",
       "      <th>time</th>\n",
       "      <th>crid</th>\n",
       "      <th>deviceid</th>\n",
       "      <th>devlang</th>\n",
       "      <th>sspid</th>\n",
       "      <th>bundle</th>\n",
       "      <th>contype</th>\n",
       "      <th>make</th>\n",
       "      <th>model</th>\n",
       "      <th>osv</th>\n",
       "      <th>...</th>\n",
       "      <th>agebucket</th>\n",
       "      <th>gender</th>\n",
       "      <th>bundletotalfc</th>\n",
       "      <th>install</th>\n",
       "      <th>utc_diff</th>\n",
       "      <th>bundleAvgUserRating</th>\n",
       "      <th>bundleCategory</th>\n",
       "      <th>Video Name</th>\n",
       "      <th>is_landscape</th>\n",
       "      <th>rewarded</th>\n",
       "    </tr>\n",
       "  </thead>\n",
       "  <tbody>\n",
       "    <tr>\n",
       "      <th>0</th>\n",
       "      <td>1548845128734</td>\n",
       "      <td>1468</td>\n",
       "      <td>df23d29a-3750-4789-8b2c-4cca6a36772e</td>\n",
       "      <td>en</td>\n",
       "      <td>chartboost</td>\n",
       "      <td>com.mindstormstudios.coinparty.google</td>\n",
       "      <td>2.0000</td>\n",
       "      <td>LG</td>\n",
       "      <td>LM-V405</td>\n",
       "      <td>8.1.0</td>\n",
       "      <td>...</td>\n",
       "      <td>NaN</td>\n",
       "      <td>NaN</td>\n",
       "      <td>2.0000</td>\n",
       "      <td>0.0000</td>\n",
       "      <td>06:00:00</td>\n",
       "      <td>4.4000</td>\n",
       "      <td>NaN</td>\n",
       "      <td>Yahtzee</td>\n",
       "      <td>1</td>\n",
       "      <td>1</td>\n",
       "    </tr>\n",
       "    <tr>\n",
       "      <th>1</th>\n",
       "      <td>1548845135161</td>\n",
       "      <td>1169</td>\n",
       "      <td>0bd1dc48-3b67-43c5-bc1f-106172d74790</td>\n",
       "      <td>en</td>\n",
       "      <td>unity_us</td>\n",
       "      <td>com.vegasslotspocket.heartofdiamond</td>\n",
       "      <td>2.0000</td>\n",
       "      <td>Samsung</td>\n",
       "      <td>SM-S327VL</td>\n",
       "      <td>6.0</td>\n",
       "      <td>...</td>\n",
       "      <td>NaN</td>\n",
       "      <td>NaN</td>\n",
       "      <td>3.0000</td>\n",
       "      <td>0.0000</td>\n",
       "      <td>06:00:00</td>\n",
       "      <td>4.7000</td>\n",
       "      <td>NaN</td>\n",
       "      <td>Big Money Reels</td>\n",
       "      <td>1</td>\n",
       "      <td>0</td>\n",
       "    </tr>\n",
       "    <tr>\n",
       "      <th>2</th>\n",
       "      <td>1548845213873</td>\n",
       "      <td>1194</td>\n",
       "      <td>959e3d81-edde-4b01-a168-1b7a6f336eed</td>\n",
       "      <td>en</td>\n",
       "      <td>chartboost</td>\n",
       "      <td>com.zealgames.cashmania</td>\n",
       "      <td>2.0000</td>\n",
       "      <td>Samsung</td>\n",
       "      <td>SM-J737P</td>\n",
       "      <td>8.0.0</td>\n",
       "      <td>...</td>\n",
       "      <td>NaN</td>\n",
       "      <td>NaN</td>\n",
       "      <td>3.0000</td>\n",
       "      <td>0.0000</td>\n",
       "      <td>06:00:00</td>\n",
       "      <td>4.7000</td>\n",
       "      <td>NaN</td>\n",
       "      <td>Big Money Reels</td>\n",
       "      <td>1</td>\n",
       "      <td>1</td>\n",
       "    </tr>\n",
       "    <tr>\n",
       "      <th>3</th>\n",
       "      <td>1548845247193</td>\n",
       "      <td>1193</td>\n",
       "      <td>9852f122-18cb-4f26-b445-fbdf961eeff2</td>\n",
       "      <td>en</td>\n",
       "      <td>adcolony</td>\n",
       "      <td>com.gsn.android.casino</td>\n",
       "      <td>2.0000</td>\n",
       "      <td>NaN</td>\n",
       "      <td>NaN</td>\n",
       "      <td>8.1.0</td>\n",
       "      <td>...</td>\n",
       "      <td>25 – 34</td>\n",
       "      <td>NaN</td>\n",
       "      <td>1.0000</td>\n",
       "      <td>0.0000</td>\n",
       "      <td>06:00:00</td>\n",
       "      <td>4.3000</td>\n",
       "      <td>games,games/casino</td>\n",
       "      <td>Big Money Reels</td>\n",
       "      <td>1</td>\n",
       "      <td>1</td>\n",
       "    </tr>\n",
       "    <tr>\n",
       "      <th>4</th>\n",
       "      <td>1548845332743</td>\n",
       "      <td>1469</td>\n",
       "      <td>e84ab04d-179c-4c5c-853a-b41a1d9f2dab</td>\n",
       "      <td>en</td>\n",
       "      <td>adcolony</td>\n",
       "      <td>com.fortmasongames.confetti</td>\n",
       "      <td>2.0000</td>\n",
       "      <td>Samsung</td>\n",
       "      <td>SM-G930A</td>\n",
       "      <td>8.0</td>\n",
       "      <td>...</td>\n",
       "      <td>NaN</td>\n",
       "      <td>Female</td>\n",
       "      <td>2.0000</td>\n",
       "      <td>0.0000</td>\n",
       "      <td>06:00:00</td>\n",
       "      <td>4.6000</td>\n",
       "      <td>games,games/casino</td>\n",
       "      <td>Yahtzee</td>\n",
       "      <td>1</td>\n",
       "      <td>1</td>\n",
       "    </tr>\n",
       "  </tbody>\n",
       "</table>\n",
       "<p>5 rows × 34 columns</p>\n",
       "</div>"
      ],
      "text/plain": [
       "            time  crid                              deviceid devlang  \\\n",
       "0  1548845128734  1468  df23d29a-3750-4789-8b2c-4cca6a36772e      en   \n",
       "1  1548845135161  1169  0bd1dc48-3b67-43c5-bc1f-106172d74790      en   \n",
       "2  1548845213873  1194  959e3d81-edde-4b01-a168-1b7a6f336eed      en   \n",
       "3  1548845247193  1193  9852f122-18cb-4f26-b445-fbdf961eeff2      en   \n",
       "4  1548845332743  1469  e84ab04d-179c-4c5c-853a-b41a1d9f2dab      en   \n",
       "\n",
       "        sspid                                 bundle  contype     make  \\\n",
       "0  chartboost  com.mindstormstudios.coinparty.google   2.0000       LG   \n",
       "1    unity_us    com.vegasslotspocket.heartofdiamond   2.0000  Samsung   \n",
       "2  chartboost                com.zealgames.cashmania   2.0000  Samsung   \n",
       "3    adcolony                 com.gsn.android.casino   2.0000      NaN   \n",
       "4    adcolony            com.fortmasongames.confetti   2.0000  Samsung   \n",
       "\n",
       "       model    osv  ... agebucket  gender bundletotalfc install  utc_diff  \\\n",
       "0    LM-V405  8.1.0  ...       NaN     NaN        2.0000  0.0000  06:00:00   \n",
       "1  SM-S327VL    6.0  ...       NaN     NaN        3.0000  0.0000  06:00:00   \n",
       "2   SM-J737P  8.0.0  ...       NaN     NaN        3.0000  0.0000  06:00:00   \n",
       "3        NaN  8.1.0  ...   25 – 34     NaN        1.0000  0.0000  06:00:00   \n",
       "4   SM-G930A    8.0  ...       NaN  Female        2.0000  0.0000  06:00:00   \n",
       "\n",
       "   bundleAvgUserRating      bundleCategory       Video Name  is_landscape  \\\n",
       "0               4.4000                 NaN          Yahtzee             1   \n",
       "1               4.7000                 NaN  Big Money Reels             1   \n",
       "2               4.7000                 NaN  Big Money Reels             1   \n",
       "3               4.3000  games,games/casino  Big Money Reels             1   \n",
       "4               4.6000  games,games/casino          Yahtzee             1   \n",
       "\n",
       "   rewarded  \n",
       "0         1  \n",
       "1         0  \n",
       "2         1  \n",
       "3         1  \n",
       "4         1  \n",
       "\n",
       "[5 rows x 34 columns]"
      ]
     },
     "execution_count": 114,
     "metadata": {},
     "output_type": "execute_result"
    }
   ],
   "source": [
    "df.head()"
   ]
  },
  {
   "cell_type": "markdown",
   "metadata": {},
   "source": [
    "First let's convert from unix to full date-time with seconds, so we can actually read it"
   ]
  },
  {
   "cell_type": "code",
   "execution_count": 115,
   "metadata": {
    "collapsed": true
   },
   "outputs": [],
   "source": [
    "df.time = pd.to_datetime(df.time/1000,unit='s')"
   ]
  },
  {
   "cell_type": "markdown",
   "metadata": {},
   "source": [
    "# Data Exploration"
   ]
  },
  {
   "cell_type": "markdown",
   "metadata": {},
   "source": [
    "object exploration"
   ]
  },
  {
   "cell_type": "markdown",
   "metadata": {},
   "source": [
    "We're looking for a less than 0.6% crowd and their chance for installs"
   ]
  },
  {
   "cell_type": "code",
   "execution_count": 116,
   "metadata": {},
   "outputs": [
    {
     "data": {
      "text/plain": [
       "0.005268157872009673"
      ]
     },
     "execution_count": 116,
     "metadata": {},
     "output_type": "execute_result"
    }
   ],
   "source": [
    "df.install.mean()"
   ]
  },
  {
   "cell_type": "code",
   "execution_count": 117,
   "metadata": {
    "collapsed": true
   },
   "outputs": [],
   "source": [
    "installs = df.install.value_counts()/len(df)\n",
    "labels = [str(int(key))+': % '+str(round(100*installs[key],2)) for key in dict(installs).keys()]"
   ]
  },
  {
   "cell_type": "code",
   "execution_count": 118,
   "metadata": {
    "scrolled": true
   },
   "outputs": [
    {
     "data": {
      "text/plain": [
       "object             15\n",
       "float64            14\n",
       "int64               3\n",
       "datetime64[ns]      1\n",
       "timedelta64[ns]     1\n",
       "dtype: int64"
      ]
     },
     "execution_count": 118,
     "metadata": {},
     "output_type": "execute_result"
    }
   ],
   "source": [
    "df.dtypes.value_counts()"
   ]
  },
  {
   "cell_type": "code",
   "execution_count": 119,
   "metadata": {
    "scrolled": true
   },
   "outputs": [
    {
     "data": {
      "text/plain": [
       "Text(0.5, 1.0, 'Graph 1: Installs Vs No Installs')"
      ]
     },
     "execution_count": 119,
     "metadata": {},
     "output_type": "execute_result"
    },
    {
     "data": {
      "image/png": "[encoded data removed]",
      "text/plain": [
       "<Figure size 432x288 with 1 Axes>"
      ]
     },
     "metadata": {},
     "output_type": "display_data"
    }
   ],
   "source": [
    "%matplotlib inline\n",
    "plt.pie(installs,labels=labels,radius=1.2,shadow=False)\n",
    "plt.title('Graph 1: Installs Vs No Installs',fontsize=15,color='b')\n"
   ]
  },
  {
   "cell_type": "code",
   "execution_count": 120,
   "metadata": {
    "collapsed": true
   },
   "outputs": [],
   "source": [
    "unique_vals = df.nunique().rename('Unique_Values',axis=1,inplace=True)\n",
    "df_dtypes = df.dtypes.rename('Column Data Type',axis=1,inplace=True)\n",
    "df_dtype_summary = pd.DataFrame(unique_vals).join(df_dtypes).sort_values(by='Unique_Values',ascending=False)"
   ]
  },
  {
   "cell_type": "code",
   "execution_count": 121,
   "metadata": {
    "collapsed": true
   },
   "outputs": [],
   "source": [
    "df.osv = df.osv.apply(osv_normalizer)\n",
    "# normalizes the operation system Android version strings that might come in different writing versions\n",
    "#for example: 8.1.0 is actually 8.1 , and 9.0 is actually 9, 8.1.1 stays 8.1"
   ]
  },
  {
   "cell_type": "code",
   "execution_count": 122,
   "metadata": {
    "collapsed": true
   },
   "outputs": [],
   "source": [
    "df.crid = df.crid.astype('O') #Creative ID should be considered a number"
   ]
  },
  {
   "cell_type": "code",
   "execution_count": 123,
   "metadata": {},
   "outputs": [
    {
     "data": {
      "text/plain": [
       "Text(0.5, 1.0, 'Graph 2: Population Distribution (%) as func of no. of unique ssps visited by user, \\n')"
      ]
     },
     "execution_count": 123,
     "metadata": {},
     "output_type": "execute_result"
    },
    {
     "data": {
      "image/png": "[encoded data removed]",
      "text/plain": [
       "<Figure size 648x432 with 1 Axes>"
      ]
     },
     "metadata": {},
     "output_type": "display_data"
    }
   ],
   "source": [
    "zeros = pd.DataFrame(100*df.ssps[df.install == 0].value_counts()/len(df[df.install == 0])).sort_index()\n",
    "ones = 100*df.ssps[df.install == 1].value_counts()/len(df[df.install == 1])\n",
    "\n",
    "zeros.join(ones,rsuffix='ones').plot(figsize=(9,6))\n",
    "plt.legend(['Non Installers','Installers'])\n",
    "plt.xlim(1,19)\n",
    "plt.xticks(range(1,19))\n",
    "plt.title('Graph 2: Population Distribution (%) as func of no. of unique ssps visited by user, \\n',fontsize=14)"
   ]
  },
  {
   "cell_type": "code",
   "execution_count": 124,
   "metadata": {},
   "outputs": [
    {
     "data": {
      "text/plain": [
       "Text(0.5, 1.0, 'Graph 3: Log of No. Of Apps Per User , installers vs. non installers\\n')"
      ]
     },
     "execution_count": 124,
     "metadata": {},
     "output_type": "execute_result"
    },
    {
     "data": {
      "image/png": "[encoded data removed]",
      "text/plain": [
       "<Figure size 648x432 with 1 Axes>"
      ]
     },
     "metadata": {},
     "output_type": "display_data"
    }
   ],
   "source": [
    "plt.figure(figsize=(9,6))\n",
    "for key in installs.keys():\n",
    "    df.apps[df.install == key].hist()\n",
    "    \n",
    "plt.legend(['Non Installers','Installers'])\n",
    "plt.yscale('log')\n",
    "plt.title('Graph 3: Log of No. Of Apps Per User , installers vs. non installers\\n',fontsize=14)"
   ]
  },
  {
   "cell_type": "code",
   "execution_count": 125,
   "metadata": {},
   "outputs": [
    {
     "data": {
      "text/plain": [
       "Text(0.5, 1.0, 'Graph 4: Population Distribution (%) as func of no. of Pixels Per Inch (PPI) each by user, \\n')"
      ]
     },
     "execution_count": 125,
     "metadata": {},
     "output_type": "execute_result"
    },
    {
     "data": {
      "image/png": "[encoded data removed]",
      "text/plain": [
       "<Figure size 648x432 with 1 Axes>"
      ]
     },
     "metadata": {},
     "output_type": "display_data"
    }
   ],
   "source": [
    "zeros = pd.DataFrame(100*df.ppi[df.install == 0].value_counts()/len(df[df.install == 0])).sort_index()\n",
    "ones = 100*df.ppi[df.install == 1].value_counts()/len(df[df.install == 1])\n",
    "\n",
    "zeros.join(ones,rsuffix='ones').plot(figsize=(9,6))\n",
    "plt.legend(['Non Installers','Installers'])\n",
    "plt.title('Graph 4: Population Distribution (%) as func of no. of Pixels Per Inch (PPI) each by user, \\n',fontsize=14)\n"
   ]
  },
  {
   "cell_type": "code",
   "execution_count": 126,
   "metadata": {},
   "outputs": [
    {
     "data": {
      "text/plain": [
       "Text(0.5, 1.0, 'Graph 5: Population Distribution (%) as a func of Device Language \\n')"
      ]
     },
     "execution_count": 126,
     "metadata": {},
     "output_type": "execute_result"
    },
    {
     "data": {
      "image/png": "[encoded data removed]",
      "text/plain": [
       "<Figure size 648x432 with 1 Axes>"
      ]
     },
     "metadata": {},
     "output_type": "display_data"
    }
   ],
   "source": [
    "zeros = pd.DataFrame(100*df.devlang[df.install == 0].value_counts()/len(df[df.install == 0]))\n",
    "ones = 100*df.devlang[df.install == 1].value_counts()/len(df[df.install == 1])\n",
    "\n",
    "zeros.join(ones,rsuffix='ones').plot.bar(figsize=(9,6))\n",
    "plt.legend(['Non Installers','Installers'])\n",
    "plt.xlim(-1,10)\n",
    "plt.title('Graph 5: Population Distribution (%) as a func of Device Language \\n',fontsize=14)"
   ]
  },
  {
   "cell_type": "code",
   "execution_count": 127,
   "metadata": {},
   "outputs": [
    {
     "name": "stdout",
     "output_type": "stream",
     "text": [
      "Please consider engineering column: time\n",
      " It Has 544142 unique values\n",
      "Please consider engineering column: deviceid\n",
      " It Has 227745 unique values\n"
     ]
    }
   ],
   "source": [
    "dummies, target = col_Recommendation(df)      \n"
   ]
  },
  {
   "cell_type": "markdown",
   "metadata": {},
   "source": [
    "# Feature 'time' Engineering"
   ]
  },
  {
   "cell_type": "code",
   "execution_count": 128,
   "metadata": {
    "collapsed": true
   },
   "outputs": [],
   "source": [
    "df['local_time'] = df.time-df.utc_diff # convert from utc time and time differenct to local time\n",
    "df.drop('utc_diff',axis=1,inplace=True) ## difference in hours from utc is irrelevant now"
   ]
  },
  {
   "cell_type": "markdown",
   "metadata": {},
   "source": [
    "since we don't have information about more than 1 month, January,\n",
    "variables such as day of month cannot be put against next month , \n",
    "So it's not a feature which is reasonable to use.\n",
    "Hence we're going to engineer 'day of the week' and 'hour time frame' variables"
   ]
  },
  {
   "cell_type": "code",
   "execution_count": 129,
   "metadata": {},
   "outputs": [
    {
     "name": "stdout",
     "output_type": "stream",
     "text": [
      "24\n"
     ]
    }
   ],
   "source": [
    "df['local_time_bricks'] = convert_to_local_timeframe(df.local_time) # This Feature divides the day to 1hr bricks\n",
    "df['weekday'] = df.local_time.apply(lambda x: x.isoweekday()) #day of the week, where Monday is 1 and Sunday is 7"
   ]
  },
  {
   "cell_type": "markdown",
   "metadata": {},
   "source": [
    "# Feature 'deviceid' Engineering\n",
    "\n",
    "#### We're aggregating data about device ids, according to the K-th time they were shown an ad during January,\n",
    "#### And In case we see there's a point in engineering more features - we will"
   ]
  },
  {
   "cell_type": "code",
   "execution_count": 130,
   "metadata": {
    "collapsed": true
   },
   "outputs": [],
   "source": [
    "df['ad_no'] = df.sort_values(['deviceid','time']).groupby(['deviceid']).cumcount()+1 \n",
    "# add a value of the k-th time the user was shown an ad at the time of January"
   ]
  },
  {
   "cell_type": "code",
   "execution_count": 131,
   "metadata": {},
   "outputs": [
    {
     "data": {
      "text/plain": [
       "Text(0.5, 1.0, 'Graph 6: Population Distribution (%) as a func of No. Of Times ad shown per user, \\n')"
      ]
     },
     "execution_count": 131,
     "metadata": {},
     "output_type": "execute_result"
    },
    {
     "data": {
      "image/png": "[encoded data removed]",
      "text/plain": [
       "<Figure size 648x432 with 1 Axes>"
      ]
     },
     "metadata": {},
     "output_type": "display_data"
    }
   ],
   "source": [
    "zeros = pd.DataFrame(100*df.ad_no[df.install == 0].value_counts()/len(df[df.install == 0]))\n",
    "ones = 100*df.ad_no[df.install == 1].value_counts()/len(df[df.install == 1])\n",
    "\n",
    "zeros.join(ones,rsuffix='ones').plot.bar(figsize=(9,6))\n",
    "plt.legend(['Non Installers','Installers'])\n",
    "plt.xlim(-1,10)\n",
    "plt.title('Graph 6: Population Distribution (%) as a func of No. Of Times ad shown per user, \\n',fontsize=14)"
   ]
  },
  {
   "cell_type": "markdown",
   "metadata": {},
   "source": [
    "### Columns - Report\n",
    "Dropping above 10K unique values in the prediction after engineering "
   ]
  },
  {
   "cell_type": "code",
   "execution_count": 132,
   "metadata": {},
   "outputs": [
    {
     "name": "stdout",
     "output_type": "stream",
     "text": [
      "Please consider engineering column: time\n",
      " It Has 544142 unique values\n",
      "Please consider engineering column: deviceid\n",
      " It Has 227745 unique values\n",
      "Please consider engineering column: local_time\n",
      " It Has 508337 unique values\n",
      "Columns For Dummy Encoding:\n",
      "['sspid', 'contype', 'netspeed', 'uadevicetype', 'agebucket', 'gender', 'bundletotalfc', 'Video Name', 'weekday']\n",
      " \n",
      "Columns For Target Encoding:\n",
      "['crid', 'devlang', 'bundle', 'make', 'model', 'osv', 'isp', 'state', 'uabatterycapacity', 'uadeviceram', 'uareleaseyear', 'uamaxinternalstorage', 'uascreenpixelswidth', 'uascreenpixelsheight', 'uascreeninchesdiagonal', 'ppi', 'ssps', 'apps', 'bundleAvgUserRating', 'bundleCategory', 'local_time_bricks', 'ad_no'] \n"
     ]
    }
   ],
   "source": [
    "dummies_columns, target_columns = col_Recommendation(df,return_cols=1)\n",
    "print(\"Columns For Dummy Encoding:\\n{}\\n \\nColumns For Target Encoding:\\n{} \".format(dummies_columns,target_columns))"
   ]
  },
  {
   "cell_type": "code",
   "execution_count": 133,
   "metadata": {
    "collapsed": true
   },
   "outputs": [],
   "source": [
    "df = df.drop(['time','deviceid','local_time'],axis=1) # after engineering data from the uppermentioned columns we can from the values."
   ]
  },
  {
   "cell_type": "markdown",
   "metadata": {},
   "source": [
    "# Data Encoding and handling missing in categories\n",
    "\n",
    "## The vast majority of the data is either categorical or ordinal (no. of times a user watched an ad is a good example - first time , second, etc..)\n",
    "\n",
    "## Only float - continouos variable is ppi which is pixels per inch for  the users' screen, hence again a variable of the device which we can see in Graph 4, has pattern what so over \n",
    "\n",
    "## Hence, we assume all of our data is categorcal / Ordinal and should be treated with feature_na in case of nan value."
   ]
  },
  {
   "cell_type": "code",
   "execution_count": 134,
   "metadata": {},
   "outputs": [
    {
     "name": "stdout",
     "output_type": "stream",
     "text": [
      "# ua features - refers to User Agent, and this is a string that is being parsed that describes the data aboutThe device information, such as ram memory, storage,width and height of the screen, battery capacity etc.\n",
      "# agebucket, gender features -  are details which the user chooses to reveal while using an app, and we can see that       most users choose not to disclose their gender/age while using commercialized apps\n",
      "# bundlecategory - is an enrichement of data, that uses the bundle, to disclose all the categories in which it \n"
     ]
    },
    {
     "data": {
      "image/png": "[encoded data removed]",
      "text/plain": [
       "<Figure size 1800x720 with 2 Axes>"
      ]
     },
     "metadata": {},
     "output_type": "display_data"
    }
   ],
   "source": [
    "missingdata_df = df.columns[df.isnull().any()].tolist()\n",
    "msno.matrix(df[missingdata_df])\n",
    "print('# ua features - refers to User Agent, and this is a string that is being parsed that describes the data about\\\n",
    "The device information, such as ram memory, storage,width and height of the screen, battery capacity etc.')\n",
    "\n",
    "print('# agebucket, gender features -  are details which the user chooses to reveal while using an app, and we can see that\\\n",
    "       most users choose not to disclose their gender/age while using commercialized apps')\n",
    "\n",
    "print('# bundlecategory - is an enrichement of data, that uses the bundle, to disclose all the categories in which it ')\n"
   ]
  },
  {
   "cell_type": "markdown",
   "metadata": {},
   "source": [
    "# Outliers Handling"
   ]
  },
  {
   "cell_type": "code",
   "execution_count": 135,
   "metadata": {},
   "outputs": [
    {
     "data": {
      "text/html": [
       "<div>\n",
       "<style scoped>\n",
       "    .dataframe tbody tr th:only-of-type {\n",
       "        vertical-align: middle;\n",
       "    }\n",
       "\n",
       "    .dataframe tbody tr th {\n",
       "        vertical-align: top;\n",
       "    }\n",
       "\n",
       "    .dataframe thead th {\n",
       "        text-align: right;\n",
       "    }\n",
       "</style>\n",
       "<table border=\"1\" class=\"dataframe\">\n",
       "  <thead>\n",
       "    <tr style=\"text-align: right;\">\n",
       "      <th></th>\n",
       "      <th>Col_Name</th>\n",
       "      <th>OutlierCount</th>\n",
       "    </tr>\n",
       "  </thead>\n",
       "  <tbody>\n",
       "    <tr>\n",
       "      <th>0</th>\n",
       "      <td>uabatterycapacity</td>\n",
       "      <td>18474</td>\n",
       "    </tr>\n",
       "    <tr>\n",
       "      <th>1</th>\n",
       "      <td>uadeviceram</td>\n",
       "      <td>789</td>\n",
       "    </tr>\n",
       "    <tr>\n",
       "      <th>2</th>\n",
       "      <td>uareleaseyear</td>\n",
       "      <td>478</td>\n",
       "    </tr>\n",
       "    <tr>\n",
       "      <th>3</th>\n",
       "      <td>uamaxinternalstorage</td>\n",
       "      <td>17965</td>\n",
       "    </tr>\n",
       "    <tr>\n",
       "      <th>4</th>\n",
       "      <td>uascreenpixelswidth</td>\n",
       "      <td>1046</td>\n",
       "    </tr>\n",
       "    <tr>\n",
       "      <th>5</th>\n",
       "      <td>uascreenpixelsheight</td>\n",
       "      <td>33</td>\n",
       "    </tr>\n",
       "    <tr>\n",
       "      <th>6</th>\n",
       "      <td>uascreeninchesdiagonal</td>\n",
       "      <td>4255</td>\n",
       "    </tr>\n",
       "    <tr>\n",
       "      <th>7</th>\n",
       "      <td>ppi</td>\n",
       "      <td>33</td>\n",
       "    </tr>\n",
       "    <tr>\n",
       "      <th>8</th>\n",
       "      <td>ssps</td>\n",
       "      <td>17</td>\n",
       "    </tr>\n",
       "    <tr>\n",
       "      <th>9</th>\n",
       "      <td>apps</td>\n",
       "      <td>10539</td>\n",
       "    </tr>\n",
       "    <tr>\n",
       "      <th>10</th>\n",
       "      <td>bundleAvgUserRating</td>\n",
       "      <td>3557</td>\n",
       "    </tr>\n",
       "    <tr>\n",
       "      <th>11</th>\n",
       "      <td>ad_no</td>\n",
       "      <td>8537</td>\n",
       "    </tr>\n",
       "  </tbody>\n",
       "</table>\n",
       "</div>"
      ],
      "text/plain": [
       "                  Col_Name OutlierCount\n",
       "0        uabatterycapacity        18474\n",
       "1              uadeviceram          789\n",
       "2            uareleaseyear          478\n",
       "3     uamaxinternalstorage        17965\n",
       "4      uascreenpixelswidth         1046\n",
       "5     uascreenpixelsheight           33\n",
       "6   uascreeninchesdiagonal         4255\n",
       "7                      ppi           33\n",
       "8                     ssps           17\n",
       "9                     apps        10539\n",
       "10     bundleAvgUserRating         3557\n",
       "11                   ad_no         8537"
      ]
     },
     "execution_count": 135,
     "metadata": {},
     "output_type": "execute_result"
    }
   ],
   "source": [
    "outlier_report = pd.DataFrame(columns=['Col_Name','OutlierCount'])\n",
    "\n",
    "for col in df.columns:\n",
    "    if (df[col].nunique() > 2) & (df[col].dtype != 'O'):\n",
    "        zscore_mask =  zscore_outliers(df,col, cutoff=3.0, return_thresholds=False)\n",
    "        outlier_len = len(df[col][zscore_mask])\n",
    "        if (outlier_len == 0):\n",
    "            continue   \n",
    "        outlier_report = outlier_report.append({'Col_Name':col, 'OutlierCount' : outlier_len} , ignore_index=True)\n",
    "        \n",
    "outlier_report"
   ]
  },
  {
   "cell_type": "code",
   "execution_count": 136,
   "metadata": {
    "collapsed": true
   },
   "outputs": [],
   "source": [
    "outliers_df = df.copy()"
   ]
  },
  {
   "cell_type": "markdown",
   "metadata": {},
   "source": [
    "### Device Release Year"
   ]
  },
  {
   "cell_type": "code",
   "execution_count": 137,
   "metadata": {},
   "outputs": [
    {
     "data": {
      "text/plain": [
       "478"
      ]
     },
     "execution_count": 137,
     "metadata": {},
     "output_type": "execute_result"
    }
   ],
   "source": [
    "len(outliers_df[outliers_df.uareleaseyear< 2014])"
   ]
  },
  {
   "cell_type": "code",
   "execution_count": 138,
   "metadata": {},
   "outputs": [
    {
     "data": {
      "text/plain": [
       "<matplotlib.axes._subplots.AxesSubplot at 0x27e01bd5320>"
      ]
     },
     "execution_count": 138,
     "metadata": {},
     "output_type": "execute_result"
    },
    {
     "data": {
      "image/png": "[encoded data removed]",
      "text/plain": [
       "<Figure size 432x288 with 1 Axes>"
      ]
     },
     "metadata": {},
     "output_type": "display_data"
    }
   ],
   "source": [
    "sns.boxplot(y=df.uareleaseyear)"
   ]
  },
  {
   "cell_type": "code",
   "execution_count": 139,
   "metadata": {},
   "outputs": [
    {
     "name": "stdout",
     "output_type": "stream",
     "text": [
      "before removing release year outlier:  544213\n",
      "after removing release year outlier:  543735\n"
     ]
    }
   ],
   "source": [
    "#removing all records with years below 2014\n",
    "print(\"before removing release year outlier: \",len(outliers_df))\n",
    "outliers_df = outliers_df[~(outliers_df.uareleaseyear < 2014)]\n",
    "print(\"after removing release year outlier: \",len(outliers_df))"
   ]
  },
  {
   "cell_type": "code",
   "execution_count": 140,
   "metadata": {},
   "outputs": [
    {
     "data": {
      "text/plain": [
       "<matplotlib.axes._subplots.AxesSubplot at 0x27e0d5494e0>"
      ]
     },
     "execution_count": 140,
     "metadata": {},
     "output_type": "execute_result"
    },
    {
     "data": {
      "image/png": "[encoded data removed]",
      "text/plain": [
       "<Figure size 432x288 with 1 Axes>"
      ]
     },
     "metadata": {},
     "output_type": "display_data"
    }
   ],
   "source": [
    "sns.boxplot(y=outliers_df.uareleaseyear)"
   ]
  },
  {
   "cell_type": "markdown",
   "metadata": {},
   "source": [
    "### Apps"
   ]
  },
  {
   "cell_type": "code",
   "execution_count": 141,
   "metadata": {
    "scrolled": true
   },
   "outputs": [
    {
     "data": {
      "text/plain": [
       "<matplotlib.axes._subplots.AxesSubplot at 0x27e0d594d68>"
      ]
     },
     "execution_count": 141,
     "metadata": {},
     "output_type": "execute_result"
    },
    {
     "data": {
      "image/png": "[encoded data removed]",
      "text/plain": [
       "<Figure size 432x288 with 1 Axes>"
      ]
     },
     "metadata": {},
     "output_type": "display_data"
    }
   ],
   "source": [
    "sns.boxplot(y=outliers_df.apps)"
   ]
  },
  {
   "cell_type": "code",
   "execution_count": 142,
   "metadata": {},
   "outputs": [
    {
     "data": {
      "text/plain": [
       "10539"
      ]
     },
     "execution_count": 142,
     "metadata": {},
     "output_type": "execute_result"
    }
   ],
   "source": [
    "df[df.apps>90].apps.value_counts().sum()"
   ]
  },
  {
   "cell_type": "code",
   "execution_count": 143,
   "metadata": {},
   "outputs": [
    {
     "name": "stdout",
     "output_type": "stream",
     "text": [
      "before removing apps outlier:  543735\n",
      "after removing apps outlier:  533199\n"
     ]
    }
   ],
   "source": [
    "#removing all records with years below 2014\n",
    "print(\"before removing apps outlier: \",len(outliers_df))\n",
    "outliers_df = outliers_df[~(outliers_df.apps > 90)]\n",
    "print(\"after removing apps outlier: \",len(outliers_df))"
   ]
  },
  {
   "cell_type": "code",
   "execution_count": 144,
   "metadata": {},
   "outputs": [
    {
     "data": {
      "text/plain": [
       "<matplotlib.axes._subplots.AxesSubplot at 0x27e03515e48>"
      ]
     },
     "execution_count": 144,
     "metadata": {},
     "output_type": "execute_result"
    },
    {
     "data": {
      "image/png": "[encoded data removed]",
      "text/plain": [
       "<Figure size 432x288 with 1 Axes>"
      ]
     },
     "metadata": {},
     "output_type": "display_data"
    }
   ],
   "source": [
    "sns.boxplot(y=outliers_df.apps)"
   ]
  },
  {
   "cell_type": "markdown",
   "metadata": {},
   "source": [
    "### Device Battery capacity"
   ]
  },
  {
   "cell_type": "markdown",
   "metadata": {},
   "source": [
    "### check device types"
   ]
  },
  {
   "cell_type": "code",
   "execution_count": 145,
   "metadata": {
    "scrolled": true
   },
   "outputs": [
    {
     "data": {
      "text/plain": [
       "<matplotlib.axes._subplots.AxesSubplot at 0x27e0d5b8e10>"
      ]
     },
     "execution_count": 145,
     "metadata": {},
     "output_type": "execute_result"
    },
    {
     "data": {
      "image/png": "[encoded data removed]",
      "text/plain": [
       "<Figure size 648x432 with 1 Axes>"
      ]
     },
     "metadata": {},
     "output_type": "display_data"
    }
   ],
   "source": [
    "plt.figure(figsize=(9,6))\n",
    "sns.boxplot(y=outliers_df.uabatterycapacity,x=outliers_df.uadevicetype)\n",
    "\n"
   ]
  },
  {
   "cell_type": "code",
   "execution_count": 146,
   "metadata": {},
   "outputs": [
    {
     "data": {
      "text/plain": [
       "SmartPhone     398105\n",
       "NaN             67754\n",
       "Tablet          66441\n",
       "Desktop           532\n",
       "Mobile            299\n",
       "SmallScreen        44\n",
       "Console            13\n",
       "MediaHub           11\n",
       "Name: uadevicetype, dtype: int64"
      ]
     },
     "execution_count": 146,
     "metadata": {},
     "output_type": "execute_result"
    }
   ],
   "source": [
    "outliers_df.uadevicetype.value_counts(dropna=False)"
   ]
  },
  {
   "cell_type": "code",
   "execution_count": 147,
   "metadata": {
    "collapsed": true
   },
   "outputs": [],
   "source": [
    "# We see that Tablets are have better battery capacity, so this is not an outlier.\n",
    "# However Since the Campaign is targetted at mobiles and Tablets, all the rest of the devicetypes are clearly outliers."
   ]
  },
  {
   "cell_type": "code",
   "execution_count": 148,
   "metadata": {},
   "outputs": [
    {
     "name": "stdout",
     "output_type": "stream",
     "text": [
      "before removing devices outlier:  533199\n",
      "after removing devices outlier:  532300\n"
     ]
    }
   ],
   "source": [
    "#removing all records with devicetypes which shouldn't be there\n",
    "print(\"before removing devices outlier: \",len(outliers_df))\n",
    "outliers_df = outliers_df[(outliers_df.uadevicetype.isin(['Tablet','SmartPhone',np.nan]))]\n",
    "print(\"after removing devices outlier: \",len(outliers_df))\n"
   ]
  },
  {
   "cell_type": "code",
   "execution_count": 149,
   "metadata": {},
   "outputs": [
    {
     "data": {
      "text/plain": [
       "<matplotlib.axes._subplots.AxesSubplot at 0x27e03706978>"
      ]
     },
     "execution_count": 149,
     "metadata": {},
     "output_type": "execute_result"
    },
    {
     "data": {
      "image/png": "[encoded data removed]",
      "text/plain": [
       "<Figure size 432x288 with 1 Axes>"
      ]
     },
     "metadata": {},
     "output_type": "display_data"
    }
   ],
   "source": [
    "sns.boxplot(y=outliers_df.uabatterycapacity,x=outliers_df.uadevicetype)"
   ]
  },
  {
   "cell_type": "code",
   "execution_count": 150,
   "metadata": {
    "collapsed": true
   },
   "outputs": [],
   "source": [
    "bat_filt = outliers_df.uadevicetype == 'SmartPhone'\n",
    "mem_filt = ~outliers_df.uabatterycapacity.between(1600,4800)\n",
    "null_fil = ~outliers_df.uabatterycapacity.isnull()"
   ]
  },
  {
   "cell_type": "code",
   "execution_count": 151,
   "metadata": {},
   "outputs": [
    {
     "name": "stdout",
     "output_type": "stream",
     "text": [
      "before removing battery outlier:  532300\n",
      "after removing battery outlier:  527701\n"
     ]
    }
   ],
   "source": [
    "print(\"before removing battery outlier: \",len(outliers_df))\n",
    "outliers_df = outliers_df[~(mem_filt & null_fil & bat_filt)] ## removing all not null, smartphones with out of bounds batteries\n",
    "print(\"after removing battery outlier: \",len(outliers_df))"
   ]
  },
  {
   "cell_type": "code",
   "execution_count": 152,
   "metadata": {},
   "outputs": [
    {
     "data": {
      "text/plain": [
       "<matplotlib.axes._subplots.AxesSubplot at 0x27e03717a20>"
      ]
     },
     "execution_count": 152,
     "metadata": {},
     "output_type": "execute_result"
    },
    {
     "data": {
      "image/png": "[encoded data removed]",
      "text/plain": [
       "<Figure size 432x288 with 1 Axes>"
      ]
     },
     "metadata": {},
     "output_type": "display_data"
    }
   ],
   "source": [
    "sns.boxplot(y=outliers_df.uabatterycapacity,x=outliers_df.uadevicetype)"
   ]
  },
  {
   "cell_type": "code",
   "execution_count": 153,
   "metadata": {},
   "outputs": [
    {
     "name": "stdout",
     "output_type": "stream",
     "text": [
      "before removing battery outlier:  527701\n",
      "after removing battery outlier:  527701\n"
     ]
    }
   ],
   "source": [
    "print(\"before removing battery outlier: \",len(outliers_df))\n",
    "outliers_df.loc[bat_filt] = outliers_df.loc[bat_filt & ~outliers_df.uabatterycapacity.between(1600,4800)] \n",
    "print(\"after removing battery outlier: \",len(outliers_df))"
   ]
  },
  {
   "cell_type": "markdown",
   "metadata": {},
   "source": [
    "### Ad number "
   ]
  },
  {
   "cell_type": "code",
   "execution_count": 154,
   "metadata": {
    "scrolled": true
   },
   "outputs": [
    {
     "name": "stdout",
     "output_type": "stream",
     "text": [
      "8.0\n"
     ]
    },
    {
     "data": {
      "image/png": "[encoded data removed]",
      "text/plain": [
       "<Figure size 432x288 with 1 Axes>"
      ]
     },
     "metadata": {},
     "output_type": "display_data"
    }
   ],
   "source": [
    "sns.boxplot(y=outliers_df.ad_no,x=outliers_df.install)\n",
    "print(max(outliers_df.ad_no[outliers_df.install == 1]))"
   ]
  },
  {
   "cell_type": "code",
   "execution_count": 155,
   "metadata": {},
   "outputs": [
    {
     "name": "stdout",
     "output_type": "stream",
     "text": [
      "before removing ads shown more than 10 times outlier:  527701\n",
      "after removing ads shown more than 10 times outlier:  141762\n"
     ]
    }
   ],
   "source": [
    "print(\"before removing ads shown more than 10 times outlier: \",len(outliers_df))\n",
    "outliers_df = outliers_df.loc[outliers_df.ad_no <= 10] \n",
    "print(\"after removing ads shown more than 10 times outlier: \",len(outliers_df))"
   ]
  },
  {
   "cell_type": "code",
   "execution_count": 156,
   "metadata": {},
   "outputs": [
    {
     "name": "stdout",
     "output_type": "stream",
     "text": [
      "8.0\n"
     ]
    },
    {
     "data": {
      "image/png": "[encoded data removed]",
      "text/plain": [
       "<Figure size 432x288 with 1 Axes>"
      ]
     },
     "metadata": {},
     "output_type": "display_data"
    }
   ],
   "source": [
    "sns.boxplot(y=outliers_df.ad_no,x=outliers_df.install)\n",
    "print(max(outliers_df.ad_no[outliers_df.install == 1]))"
   ]
  },
  {
   "cell_type": "markdown",
   "metadata": {},
   "source": [
    "### SSPS"
   ]
  },
  {
   "cell_type": "code",
   "execution_count": 157,
   "metadata": {
    "scrolled": true
   },
   "outputs": [
    {
     "data": {
      "text/plain": [
       "<matplotlib.axes._subplots.AxesSubplot at 0x27e03806780>"
      ]
     },
     "execution_count": 157,
     "metadata": {},
     "output_type": "execute_result"
    },
    {
     "data": {
      "image/png": "[encoded data removed]",
      "text/plain": [
       "<Figure size 432x288 with 1 Axes>"
      ]
     },
     "metadata": {},
     "output_type": "display_data"
    }
   ],
   "source": [
    "sns.boxplot(y=outliers_df.ssps,x=outliers_df.install)\n"
   ]
  },
  {
   "cell_type": "markdown",
   "metadata": {},
   "source": [
    "### Bundle Rating"
   ]
  },
  {
   "cell_type": "code",
   "execution_count": 158,
   "metadata": {
    "scrolled": true
   },
   "outputs": [
    {
     "data": {
      "text/plain": [
       "<matplotlib.axes._subplots.AxesSubplot at 0x27e03840588>"
      ]
     },
     "execution_count": 158,
     "metadata": {},
     "output_type": "execute_result"
    },
    {
     "data": {
      "image/png": "[encoded data removed]",
      "text/plain": [
       "<Figure size 432x288 with 1 Axes>"
      ]
     },
     "metadata": {},
     "output_type": "display_data"
    }
   ],
   "source": [
    "sns.boxplot(y=outliers_df.bundleAvgUserRating,x=outliers_df.install)"
   ]
  },
  {
   "cell_type": "code",
   "execution_count": 159,
   "metadata": {},
   "outputs": [
    {
     "name": "stdout",
     "output_type": "stream",
     "text": [
      "before removing ads shown in 0-3.5 rated apps:  141762\n",
      "after removing ads shown in 0-3.5 rated apps:  141477\n"
     ]
    }
   ],
   "source": [
    "rating = ~outliers_df.bundleAvgUserRating.between(0,3.5)\n",
    "\n",
    "print(\"before removing ads shown in 0-3.5 rated apps: \",len(outliers_df))\n",
    "outliers_df = outliers_df.loc[rating] \n",
    "print(\"after removing ads shown in 0-3.5 rated apps: \",len(outliers_df))"
   ]
  },
  {
   "cell_type": "code",
   "execution_count": 160,
   "metadata": {
    "scrolled": true
   },
   "outputs": [
    {
     "data": {
      "text/plain": [
       "<matplotlib.axes._subplots.AxesSubplot at 0x27e0ad29588>"
      ]
     },
     "execution_count": 160,
     "metadata": {},
     "output_type": "execute_result"
    },
    {
     "data": {
      "image/png": "[encoded data removed]",
      "text/plain": [
       "<Figure size 432x288 with 1 Axes>"
      ]
     },
     "metadata": {},
     "output_type": "display_data"
    }
   ],
   "source": [
    "sns.boxplot(y=outliers_df.bundleAvgUserRating,x=outliers_df.install)"
   ]
  },
  {
   "cell_type": "markdown",
   "metadata": {},
   "source": [
    "## RAM"
   ]
  },
  {
   "cell_type": "code",
   "execution_count": 161,
   "metadata": {},
   "outputs": [
    {
     "data": {
      "text/plain": [
       "<matplotlib.axes._subplots.AxesSubplot at 0x27e0c100e48>"
      ]
     },
     "execution_count": 161,
     "metadata": {},
     "output_type": "execute_result"
    },
    {
     "data": {
      "image/png": "[encoded data removed]",
      "text/plain": [
       "<Figure size 432x288 with 1 Axes>"
      ]
     },
     "metadata": {},
     "output_type": "display_data"
    }
   ],
   "source": [
    "sns.boxplot(y=outliers_df.uadeviceram,x=outliers_df.uadevicetype)"
   ]
  },
  {
   "cell_type": "code",
   "execution_count": 162,
   "metadata": {
    "collapsed": true
   },
   "outputs": [],
   "source": [
    "tab_filt = outliers_df.uadevicetype == 'Tablet'\n",
    "ram = outliers_df.uadeviceram < 1000"
   ]
  },
  {
   "cell_type": "code",
   "execution_count": 163,
   "metadata": {},
   "outputs": [
    {
     "name": "stdout",
     "output_type": "stream",
     "text": [
      "before removing ads shown in low ram memory tablets::  141477\n",
      "after removing ads shown in low ram memory tablets:  141448\n"
     ]
    }
   ],
   "source": [
    "print(\"before removing ads shown in low ram memory tablets:: \",len(outliers_df))\n",
    "outliers_df = outliers_df[~(tab_filt & ram )]\n",
    "print(\"after removing ads shown in low ram memory tablets: \",len(outliers_df))"
   ]
  },
  {
   "cell_type": "code",
   "execution_count": 164,
   "metadata": {},
   "outputs": [
    {
     "data": {
      "text/plain": [
       "<matplotlib.axes._subplots.AxesSubplot at 0x27e0c166898>"
      ]
     },
     "execution_count": 164,
     "metadata": {},
     "output_type": "execute_result"
    },
    {
     "data": {
      "image/png": "[encoded data removed]",
      "text/plain": [
       "<Figure size 432x288 with 1 Axes>"
      ]
     },
     "metadata": {},
     "output_type": "display_data"
    }
   ],
   "source": [
    "sns.boxplot(y=outliers_df.ppi,x=outliers_df.uadevicetype)"
   ]
  },
  {
   "cell_type": "code",
   "execution_count": 165,
   "metadata": {},
   "outputs": [
    {
     "data": {
      "text/plain": [
       "array([], dtype=object)"
      ]
     },
     "execution_count": 165,
     "metadata": {},
     "output_type": "execute_result"
    }
   ],
   "source": [
    "outliers_df.model[outliers_df.ppi>700].unique()"
   ]
  },
  {
   "cell_type": "code",
   "execution_count": 166,
   "metadata": {
    "collapsed": true
   },
   "outputs": [],
   "source": [
    "#These are Sony Xperia Models, there's nothing to imply on user behavior here"
   ]
  },
  {
   "cell_type": "markdown",
   "metadata": {},
   "source": [
    "# Encoding Data"
   ]
  },
  {
   "cell_type": "markdown",
   "metadata": {},
   "source": [
    "## Since most of the data doesn't contain Continuous values, and the one which does  - PPI, There's no continouos data that we can impute in, and all is categorical data - we can apply  \"Feature_NA\" on our categorical Data when Encoding Data. "
   ]
  },
  {
   "cell_type": "code",
   "execution_count": 167,
   "metadata": {
    "collapsed": true
   },
   "outputs": [],
   "source": [
    "# applying target encoding for columns recommended for mean ecoding\n",
    "outliers_df = target_encoder(outliers_df,target_columns)"
   ]
  },
  {
   "cell_type": "code",
   "execution_count": 168,
   "metadata": {
    "collapsed": true
   },
   "outputs": [],
   "source": [
    "# applying one-hot_encoding for dummy columns\n",
    "outliers_df = pd.get_dummies(outliers_df,columns=dummies_columns,dummy_na=True)"
   ]
  },
  {
   "cell_type": "code",
   "execution_count": 169,
   "metadata": {},
   "outputs": [
    {
     "data": {
      "text/plain": [
       "(141448, 78)"
      ]
     },
     "execution_count": 169,
     "metadata": {},
     "output_type": "execute_result"
    }
   ],
   "source": [
    "outliers_df.shape\n"
   ]
  },
  {
   "cell_type": "markdown",
   "metadata": {},
   "source": [
    "# Feature selection"
   ]
  },
  {
   "cell_type": "code",
   "execution_count": 170,
   "metadata": {
    "collapsed": true
   },
   "outputs": [],
   "source": [
    "outliers_df.crid_mean = outliers_df.crid_mean.astype(float)"
   ]
  },
  {
   "cell_type": "code",
   "execution_count": 171,
   "metadata": {},
   "outputs": [
    {
     "name": "stdout",
     "output_type": "stream",
     "text": [
      "running CatBoost\n",
      "running RF\n",
      "running LIGHTGBM\n"
     ]
    }
   ],
   "source": [
    "X = outliers_df.drop('install',axis=1)\n",
    "y = outliers_df.install\n",
    "\n",
    "coaf_df, light_cls, cat_cls, rf_cls = feature_importance_table(X, y, 2);"
   ]
  },
  {
   "cell_type": "code",
   "execution_count": 172,
   "metadata": {
    "collapsed": true
   },
   "outputs": [],
   "source": [
    "coaf_df.sort_values(by=['LIGHTGBM','CatBoost','RND_FOREST'],ascending=False)\n",
    "scaler = MinMaxScaler()\n",
    "\n",
    "coaf_df[coaf_df.columns] = scaler.fit_transform(coaf_df[coaf_df.columns])\n",
    "coaf_df['Avg_Score'] = coaf_df.mean(axis=1)"
   ]
  },
  {
   "cell_type": "code",
   "execution_count": 173,
   "metadata": {},
   "outputs": [],
   "source": [
    "feature_list = coaf_df.sort_values(by='Avg_Score',ascending=False).head(25).index.tolist()"
   ]
  },
  {
   "cell_type": "code",
   "execution_count": 174,
   "metadata": {},
   "outputs": [
    {
     "data": {
      "text/plain": [
       "<matplotlib.axes._subplots.AxesSubplot at 0x27e0cff1ac8>"
      ]
     },
     "execution_count": 174,
     "metadata": {},
     "output_type": "execute_result"
    },
    {
     "data": {
      "image/png": "[encoded data removed]",
      "text/plain": [
       "<Figure size 864x432 with 1 Axes>"
      ]
     },
     "metadata": {},
     "output_type": "display_data"
    }
   ],
   "source": [
    "coaf_df.ix[feature_list].iloc[:,:3].plot.bar(figsize=(12,6))"
   ]
  },
  {
   "cell_type": "markdown",
   "metadata": {},
   "source": [
    "###  Model Training"
   ]
  },
  {
   "cell_type": "code",
   "execution_count": 175,
   "metadata": {
    "collapsed": true
   },
   "outputs": [],
   "source": [
    "X_train, X_test, y_train, y_test = train_test_split(X[feature_list], y,stratify=y,test_size=0.20)\n",
    "X_train, X_dev, y_train, y_dev = train_test_split(X_train, y_train,stratify=y_train,test_size=0.20)"
   ]
  },
  {
   "cell_type": "code",
   "execution_count": 176,
   "metadata": {},
   "outputs": [],
   "source": [
    "ros_under = RandomUnderSampler()\n",
    "ros_over = RandomOverSampler()\n",
    "ros_smoth = SMOTE()"
   ]
  },
  {
   "cell_type": "code",
   "execution_count": 177,
   "metadata": {},
   "outputs": [],
   "source": [
    "# ros_under.fit(X_train, y_train)\n",
    "X_resampled_rus, y_resampled_rus = ros_under.fit_sample(X_train, y_train)\n",
    "X_resampled_ros, y_resampled_ros = ros_over.fit_sample(X_train, y_train)\n",
    "X_resampled_smo, y_resampled_smo = ros_smoth.fit_sample(X_train, y_train)\n",
    "#adding the feature list\n",
    "X_resampled_rus = pd.DataFrame(X_resampled_rus,columns=feature_list)\n",
    "X_resampled_ros = pd.DataFrame(X_resampled_ros,columns=feature_list)\n",
    "X_resampled_smo = pd.DataFrame(X_resampled_smo,columns=feature_list)"
   ]
  },
  {
   "cell_type": "code",
   "execution_count": 178,
   "metadata": {},
   "outputs": [
    {
     "name": "stdout",
     "output_type": "stream",
     "text": [
      "1020\n",
      "180032\n",
      "180032\n"
     ]
    }
   ],
   "source": [
    "print(len(X_resampled_rus))\n",
    "print(len(X_resampled_ros))\n",
    "print(len(X_resampled_smo))"
   ]
  },
  {
   "cell_type": "markdown",
   "metadata": {},
   "source": [
    "### Cat Boost"
   ]
  },
  {
   "cell_type": "code",
   "execution_count": 179,
   "metadata": {
    "collapsed": true
   },
   "outputs": [],
   "source": [
    "Sampled = [\"NoneSampled\",\"UnderSampled\",\"OverSampled\",\"Smoth\"]\n",
    "Models = [\"CATBoost\",\"Light\",\"RF\"]\n",
    "\n",
    "all_models = {}"
   ]
  },
  {
   "cell_type": "code",
   "execution_count": 180,
   "metadata": {
    "collapsed": true
   },
   "outputs": [],
   "source": [
    "import tqdm "
   ]
  },
  {
   "cell_type": "code",
   "execution_count": 181,
   "metadata": {},
   "outputs": [
    {
     "name": "stderr",
     "output_type": "stream",
     "text": [
      "100%|████████████████████████████████████████████| 4/4 [00:44<00:00, 11.82s/it]\n",
      "100%|████████████████████████████████████████████| 4/4 [00:10<00:00,  2.86s/it]\n",
      "100%|████████████████████████████████████████████| 4/4 [00:12<00:00,  3.18s/it]\n"
     ]
    }
   ],
   "source": [
    "classifiers = [CatBoostClassifier(verbose=False,iterations=100,learning_rate=0.05), LGBMClassifier(), RandomForestClassifier()]\n",
    "Datas = [(X_train,y_train),(X_resampled_rus,y_resampled_rus),(X_resampled_ros,y_resampled_ros),(X_resampled_smo,y_resampled_smo)]\n",
    "\n",
    "for i in range(3):\n",
    "    all_models[Models[i]] = {}\n",
    "    for j in tqdm.tqdm(range(4)):\n",
    "        all_models[Models[i]][Sampled[j]] = {} \n",
    "        all_models[Models[i]][Sampled[j]][\"Classifier\"] = classifiers[i]\n",
    "        all_models[Models[i]][Sampled[j]][\"Model\"] = all_models[Models[i]][Sampled[j]][\"Classifier\"]\\\n",
    "            .fit(X = Datas[j][0], y = Datas[j][1])\n",
    "        all_models[Models[i]][Sampled[j]][\"Prediction\"] = all_models[Models[i]][Sampled[j]][\"Model\"].predict(X_dev)\n",
    "            "
   ]
  },
  {
   "cell_type": "code",
   "execution_count": 182,
   "metadata": {},
   "outputs": [
    {
     "name": "stdout",
     "output_type": "stream",
     "text": [
      "Winning Model and Sampling Method with best auc:\n",
      "CATBoost  UnderSampled   0.7371\n",
      "dtype: object\n"
     ]
    }
   ],
   "source": [
    "Model_Comparison = pd.DataFrame(columns = Sampled,index=Models)\n",
    "\n",
    "for model in Models: \n",
    "    for sample in Sampled:\n",
    "        fpr, tpr, thrasholds = roc_curve(y_dev, all_models[model][sample][\"Prediction\"], pos_label=1)\n",
    "        roc_auc = auc(fpr, tpr)\n",
    "        Model_Comparison.loc[model,sample] = roc_auc\n",
    "        \n",
    "        \n",
    "print(\"Winning Model and Sampling Method with best auc:\\n{}\".format(Model_Comparison.stack().sort_values(ascending=False).head(1)))"
   ]
  },
  {
   "cell_type": "code",
   "execution_count": 183,
   "metadata": {
    "collapsed": true
   },
   "outputs": [],
   "source": [
    "folds = 20\n",
    "param_comb = 20\n",
    "skf = StratifiedKFold(n_splits=folds, shuffle = True, random_state = 1001)\n",
    "\n",
    "cat = CatBoostClassifier()\n",
    "params = {\n",
    "                  'depth':[3,1,2,6,4,5,7],\n",
    "                  'iterations':[128,256,512,64],\n",
    "                  'learning_rate':[0.03,0.01,0.1,0.2,0.3], \n",
    "                  'l2_leaf_reg':[3,1,5,10,30],\n",
    "                  'border_count':[32,5,10,20,64,128],\n",
    "                  \n",
    "                  \n",
    "\n",
    "         }\n",
    "\n",
    "random_search = RandomizedSearchCV(cat, param_distributions=params, n_iter=param_comb, n_jobs=-1, cv=skf.split(X_resampled_rus,y_resampled_rus),scoring='accuracy', verbose=3, random_state=1001 )"
   ]
  },
  {
   "cell_type": "code",
   "execution_count": 184,
   "metadata": {},
   "outputs": [
    {
     "name": "stdout",
     "output_type": "stream",
     "text": [
      "Fitting 20 folds for each of 20 candidates, totalling 400 fits\n"
     ]
    },
    {
     "name": "stderr",
     "output_type": "stream",
     "text": [
      "[Parallel(n_jobs=-1)]: Using backend LokyBackend with 4 concurrent workers.\n",
      "[Parallel(n_jobs=-1)]: Done  24 tasks      | elapsed:  2.7min\n",
      "[Parallel(n_jobs=-1)]: Done 120 tasks      | elapsed:  5.4min\n",
      "[Parallel(n_jobs=-1)]: Done 280 tasks      | elapsed: 16.5min\n",
      "[Parallel(n_jobs=-1)]: Done 400 out of 400 | elapsed: 22.9min finished\n"
     ]
    },
    {
     "name": "stdout",
     "output_type": "stream",
     "text": [
      "0:\tlearn: 0.6701201\ttotal: 20.8ms\tremaining: 10.6s\n",
      "1:\tlearn: 0.6567100\ttotal: 37.9ms\tremaining: 9.66s\n",
      "2:\tlearn: 0.6426071\ttotal: 56.8ms\tremaining: 9.64s\n",
      "3:\tlearn: 0.6290664\ttotal: 77.9ms\tremaining: 9.89s\n",
      "4:\tlearn: 0.6248177\ttotal: 98.2ms\tremaining: 9.96s\n",
      "5:\tlearn: 0.6162406\ttotal: 114ms\tremaining: 9.64s\n",
      "6:\tlearn: 0.6141125\ttotal: 137ms\tremaining: 9.86s\n",
      "7:\tlearn: 0.6023625\ttotal: 153ms\tremaining: 9.67s\n",
      "8:\tlearn: 0.5963032\ttotal: 174ms\tremaining: 9.72s\n",
      "9:\tlearn: 0.5857979\ttotal: 195ms\tremaining: 9.8s\n",
      "10:\tlearn: 0.5806370\ttotal: 211ms\tremaining: 9.59s\n",
      "11:\tlearn: 0.5756552\ttotal: 229ms\tremaining: 9.52s\n",
      "12:\tlearn: 0.5733215\ttotal: 247ms\tremaining: 9.48s\n",
      "13:\tlearn: 0.5683827\ttotal: 283ms\tremaining: 10.1s\n",
      "14:\tlearn: 0.5559912\ttotal: 303ms\tremaining: 10s\n",
      "15:\tlearn: 0.5518977\ttotal: 320ms\tremaining: 9.91s\n",
      "16:\tlearn: 0.5507847\ttotal: 340ms\tremaining: 9.89s\n",
      "17:\tlearn: 0.5482347\ttotal: 365ms\tremaining: 10s\n",
      "18:\tlearn: 0.5443907\ttotal: 380ms\tremaining: 9.87s\n",
      "19:\tlearn: 0.5418544\ttotal: 405ms\tremaining: 9.96s\n",
      "20:\tlearn: 0.5388959\ttotal: 423ms\tremaining: 9.9s\n",
      "21:\tlearn: 0.5380254\ttotal: 445ms\tremaining: 9.91s\n",
      "22:\tlearn: 0.5365336\ttotal: 466ms\tremaining: 9.91s\n",
      "23:\tlearn: 0.5349852\ttotal: 484ms\tremaining: 9.85s\n",
      "24:\tlearn: 0.5318837\ttotal: 505ms\tremaining: 9.83s\n",
      "25:\tlearn: 0.5260899\ttotal: 526ms\tremaining: 9.84s\n",
      "26:\tlearn: 0.5237934\ttotal: 545ms\tremaining: 9.79s\n",
      "27:\tlearn: 0.5221843\ttotal: 562ms\tremaining: 9.71s\n",
      "28:\tlearn: 0.5204674\ttotal: 578ms\tremaining: 9.63s\n",
      "29:\tlearn: 0.5194143\ttotal: 599ms\tremaining: 9.63s\n",
      "30:\tlearn: 0.5170632\ttotal: 616ms\tremaining: 9.55s\n",
      "31:\tlearn: 0.5161746\ttotal: 636ms\tremaining: 9.54s\n",
      "32:\tlearn: 0.5150644\ttotal: 651ms\tremaining: 9.46s\n",
      "33:\tlearn: 0.5136762\ttotal: 668ms\tremaining: 9.39s\n",
      "34:\tlearn: 0.5121114\ttotal: 699ms\tremaining: 9.53s\n",
      "35:\tlearn: 0.5107108\ttotal: 715ms\tremaining: 9.46s\n",
      "36:\tlearn: 0.5063313\ttotal: 736ms\tremaining: 9.45s\n",
      "37:\tlearn: 0.5041254\ttotal: 773ms\tremaining: 9.64s\n",
      "38:\tlearn: 0.5032761\ttotal: 791ms\tremaining: 9.59s\n",
      "39:\tlearn: 0.5019290\ttotal: 806ms\tremaining: 9.51s\n",
      "40:\tlearn: 0.5010073\ttotal: 821ms\tremaining: 9.43s\n",
      "41:\tlearn: 0.5002209\ttotal: 840ms\tremaining: 9.4s\n",
      "42:\tlearn: 0.4997076\ttotal: 855ms\tremaining: 9.32s\n",
      "43:\tlearn: 0.4977430\ttotal: 874ms\tremaining: 9.3s\n",
      "44:\tlearn: 0.4951684\ttotal: 907ms\tremaining: 9.41s\n",
      "45:\tlearn: 0.4939074\ttotal: 928ms\tremaining: 9.4s\n",
      "46:\tlearn: 0.4925374\ttotal: 949ms\tremaining: 9.39s\n",
      "47:\tlearn: 0.4921556\ttotal: 968ms\tremaining: 9.36s\n",
      "48:\tlearn: 0.4912887\ttotal: 983ms\tremaining: 9.29s\n",
      "49:\tlearn: 0.4885319\ttotal: 1s\tremaining: 9.29s\n",
      "50:\tlearn: 0.4869593\ttotal: 1.02s\tremaining: 9.24s\n",
      "51:\tlearn: 0.4862808\ttotal: 1.04s\tremaining: 9.23s\n",
      "52:\tlearn: 0.4843416\ttotal: 1.06s\tremaining: 9.2s\n",
      "53:\tlearn: 0.4834026\ttotal: 1.08s\tremaining: 9.17s\n",
      "54:\tlearn: 0.4831541\ttotal: 1.1s\tremaining: 9.18s\n",
      "55:\tlearn: 0.4826032\ttotal: 1.13s\tremaining: 9.18s\n",
      "56:\tlearn: 0.4819002\ttotal: 1.14s\tremaining: 9.11s\n",
      "57:\tlearn: 0.4812699\ttotal: 1.16s\tremaining: 9.07s\n",
      "58:\tlearn: 0.4793923\ttotal: 1.17s\tremaining: 9.01s\n",
      "59:\tlearn: 0.4787048\ttotal: 1.2s\tremaining: 9.06s\n",
      "60:\tlearn: 0.4774543\ttotal: 1.23s\tremaining: 9.11s\n",
      "61:\tlearn: 0.4764658\ttotal: 1.25s\tremaining: 9.06s\n",
      "62:\tlearn: 0.4762331\ttotal: 1.26s\tremaining: 9.01s\n",
      "63:\tlearn: 0.4756813\ttotal: 1.28s\tremaining: 9s\n",
      "64:\tlearn: 0.4752775\ttotal: 1.3s\tremaining: 8.97s\n",
      "65:\tlearn: 0.4750242\ttotal: 1.32s\tremaining: 8.93s\n",
      "66:\tlearn: 0.4744658\ttotal: 1.34s\tremaining: 8.89s\n",
      "67:\tlearn: 0.4742471\ttotal: 1.36s\tremaining: 8.86s\n",
      "68:\tlearn: 0.4729830\ttotal: 1.38s\tremaining: 8.85s\n",
      "69:\tlearn: 0.4726034\ttotal: 1.39s\tremaining: 8.8s\n",
      "70:\tlearn: 0.4717309\ttotal: 1.41s\tremaining: 8.76s\n",
      "71:\tlearn: 0.4711966\ttotal: 1.43s\tremaining: 8.72s\n",
      "72:\tlearn: 0.4711196\ttotal: 1.45s\tremaining: 8.69s\n",
      "73:\tlearn: 0.4710575\ttotal: 1.47s\tremaining: 8.7s\n",
      "74:\tlearn: 0.4702047\ttotal: 1.49s\tremaining: 8.67s\n",
      "75:\tlearn: 0.4691348\ttotal: 1.5s\tremaining: 8.63s\n",
      "76:\tlearn: 0.4684607\ttotal: 1.52s\tremaining: 8.62s\n",
      "77:\tlearn: 0.4681731\ttotal: 1.54s\tremaining: 8.59s\n",
      "78:\tlearn: 0.4677148\ttotal: 1.56s\tremaining: 8.55s\n",
      "79:\tlearn: 0.4672005\ttotal: 1.57s\tremaining: 8.51s\n",
      "80:\tlearn: 0.4665332\ttotal: 1.6s\tremaining: 8.49s\n",
      "81:\tlearn: 0.4664808\ttotal: 1.62s\tremaining: 8.48s\n",
      "82:\tlearn: 0.4661156\ttotal: 1.63s\tremaining: 8.45s\n",
      "83:\tlearn: 0.4651321\ttotal: 1.65s\tremaining: 8.41s\n",
      "84:\tlearn: 0.4644868\ttotal: 1.67s\tremaining: 8.38s\n",
      "85:\tlearn: 0.4644418\ttotal: 1.69s\tremaining: 8.37s\n",
      "86:\tlearn: 0.4642097\ttotal: 1.71s\tremaining: 8.34s\n",
      "87:\tlearn: 0.4636084\ttotal: 1.72s\tremaining: 8.31s\n",
      "88:\tlearn: 0.4633829\ttotal: 1.74s\tremaining: 8.27s\n",
      "89:\tlearn: 0.4633439\ttotal: 1.76s\tremaining: 8.24s\n",
      "90:\tlearn: 0.4633115\ttotal: 1.78s\tremaining: 8.23s\n",
      "91:\tlearn: 0.4621029\ttotal: 1.79s\tremaining: 8.2s\n",
      "92:\tlearn: 0.4614286\ttotal: 1.82s\tremaining: 8.2s\n",
      "93:\tlearn: 0.4612650\ttotal: 1.86s\tremaining: 8.26s\n",
      "94:\tlearn: 0.4607684\ttotal: 1.87s\tremaining: 8.22s\n",
      "95:\tlearn: 0.4607401\ttotal: 1.9s\tremaining: 8.21s\n",
      "96:\tlearn: 0.4605267\ttotal: 1.91s\tremaining: 8.17s\n",
      "97:\tlearn: 0.4605023\ttotal: 1.94s\tremaining: 8.18s\n",
      "98:\tlearn: 0.4604815\ttotal: 1.95s\tremaining: 8.15s\n",
      "99:\tlearn: 0.4602597\ttotal: 1.97s\tremaining: 8.12s\n",
      "100:\tlearn: 0.4602427\ttotal: 1.99s\tremaining: 8.08s\n",
      "101:\tlearn: 0.4598626\ttotal: 2s\tremaining: 8.05s\n",
      "102:\tlearn: 0.4597378\ttotal: 2.03s\tremaining: 8.06s\n",
      "103:\tlearn: 0.4597234\ttotal: 2.04s\tremaining: 8.02s\n",
      "104:\tlearn: 0.4596270\ttotal: 2.06s\tremaining: 7.99s\n",
      "105:\tlearn: 0.4593525\ttotal: 2.08s\tremaining: 7.96s\n",
      "106:\tlearn: 0.4592219\ttotal: 2.1s\tremaining: 7.94s\n",
      "107:\tlearn: 0.4587384\ttotal: 2.12s\tremaining: 7.92s\n",
      "108:\tlearn: 0.4578788\ttotal: 2.14s\tremaining: 7.91s\n",
      "109:\tlearn: 0.4576416\ttotal: 2.16s\tremaining: 7.89s\n",
      "110:\tlearn: 0.4569960\ttotal: 2.17s\tremaining: 7.86s\n",
      "111:\tlearn: 0.4563005\ttotal: 2.19s\tremaining: 7.84s\n",
      "112:\tlearn: 0.4561460\ttotal: 2.22s\tremaining: 7.84s\n",
      "113:\tlearn: 0.4560894\ttotal: 2.23s\tremaining: 7.8s\n",
      "114:\tlearn: 0.4554057\ttotal: 2.26s\tremaining: 7.81s\n",
      "115:\tlearn: 0.4550660\ttotal: 2.28s\tremaining: 7.79s\n",
      "116:\tlearn: 0.4548658\ttotal: 2.3s\tremaining: 7.77s\n",
      "117:\tlearn: 0.4548558\ttotal: 2.32s\tremaining: 7.75s\n",
      "118:\tlearn: 0.4548495\ttotal: 2.34s\tremaining: 7.72s\n",
      "119:\tlearn: 0.4543541\ttotal: 2.36s\tremaining: 7.72s\n",
      "120:\tlearn: 0.4539323\ttotal: 2.38s\tremaining: 7.69s\n",
      "121:\tlearn: 0.4538790\ttotal: 2.4s\tremaining: 7.66s\n",
      "122:\tlearn: 0.4536130\ttotal: 2.41s\tremaining: 7.64s\n",
      "123:\tlearn: 0.4533410\ttotal: 2.43s\tremaining: 7.61s\n",
      "124:\tlearn: 0.4532113\ttotal: 2.45s\tremaining: 7.58s\n",
      "125:\tlearn: 0.4515896\ttotal: 2.47s\tremaining: 7.57s\n",
      "126:\tlearn: 0.4514016\ttotal: 2.49s\tremaining: 7.54s\n",
      "127:\tlearn: 0.4513846\ttotal: 2.51s\tremaining: 7.53s\n",
      "128:\tlearn: 0.4513492\ttotal: 2.53s\tremaining: 7.5s\n",
      "129:\tlearn: 0.4508621\ttotal: 2.55s\tremaining: 7.5s\n",
      "130:\tlearn: 0.4508102\ttotal: 2.57s\tremaining: 7.48s\n",
      "131:\tlearn: 0.4506693\ttotal: 2.59s\tremaining: 7.45s\n",
      "132:\tlearn: 0.4504845\ttotal: 2.61s\tremaining: 7.44s\n",
      "133:\tlearn: 0.4503586\ttotal: 2.63s\tremaining: 7.42s\n",
      "134:\tlearn: 0.4500667\ttotal: 2.65s\tremaining: 7.4s\n",
      "135:\tlearn: 0.4499159\ttotal: 2.68s\tremaining: 7.4s\n",
      "136:\tlearn: 0.4494775\ttotal: 2.7s\tremaining: 7.38s\n",
      "137:\tlearn: 0.4494763\ttotal: 2.72s\tremaining: 7.36s\n",
      "138:\tlearn: 0.4491209\ttotal: 2.74s\tremaining: 7.35s\n",
      "139:\tlearn: 0.4489670\ttotal: 2.77s\tremaining: 7.35s\n",
      "140:\tlearn: 0.4487105\ttotal: 2.79s\tremaining: 7.34s\n",
      "141:\tlearn: 0.4485849\ttotal: 2.81s\tremaining: 7.31s\n",
      "142:\tlearn: 0.4479544\ttotal: 2.83s\tremaining: 7.29s\n",
      "143:\tlearn: 0.4479351\ttotal: 2.85s\tremaining: 7.28s\n",
      "144:\tlearn: 0.4479281\ttotal: 2.87s\tremaining: 7.25s\n",
      "145:\tlearn: 0.4478425\ttotal: 2.88s\tremaining: 7.23s\n",
      "146:\tlearn: 0.4478363\ttotal: 2.9s\tremaining: 7.2s\n",
      "147:\tlearn: 0.4477688\ttotal: 2.92s\tremaining: 7.19s\n",
      "148:\tlearn: 0.4477221\ttotal: 2.94s\tremaining: 7.17s\n",
      "149:\tlearn: 0.4477007\ttotal: 2.96s\tremaining: 7.14s\n",
      "150:\tlearn: 0.4476469\ttotal: 2.98s\tremaining: 7.12s\n",
      "151:\tlearn: 0.4472508\ttotal: 3s\tremaining: 7.1s\n",
      "152:\tlearn: 0.4472467\ttotal: 3.01s\tremaining: 7.07s\n",
      "153:\tlearn: 0.4472464\ttotal: 3.03s\tremaining: 7.05s\n",
      "154:\tlearn: 0.4472421\ttotal: 3.06s\tremaining: 7.04s\n",
      "155:\tlearn: 0.4472365\ttotal: 3.08s\tremaining: 7.03s\n",
      "156:\tlearn: 0.4470912\ttotal: 3.09s\tremaining: 7s\n",
      "157:\tlearn: 0.4467050\ttotal: 3.12s\tremaining: 6.99s\n",
      "158:\tlearn: 0.4465869\ttotal: 3.14s\tremaining: 6.97s\n",
      "159:\tlearn: 0.4465831\ttotal: 3.16s\tremaining: 6.95s\n",
      "160:\tlearn: 0.4463037\ttotal: 3.17s\tremaining: 6.92s\n"
     ]
    },
    {
     "name": "stdout",
     "output_type": "stream",
     "text": [
      "161:\tlearn: 0.4463023\ttotal: 3.19s\tremaining: 6.9s\n",
      "162:\tlearn: 0.4462988\ttotal: 3.21s\tremaining: 6.87s\n",
      "163:\tlearn: 0.4462725\ttotal: 3.23s\tremaining: 6.84s\n",
      "164:\tlearn: 0.4462657\ttotal: 3.25s\tremaining: 6.82s\n",
      "165:\tlearn: 0.4462625\ttotal: 3.26s\tremaining: 6.8s\n",
      "166:\tlearn: 0.4461742\ttotal: 3.28s\tremaining: 6.77s\n",
      "167:\tlearn: 0.4458621\ttotal: 3.29s\tremaining: 6.75s\n",
      "168:\tlearn: 0.4457718\ttotal: 3.31s\tremaining: 6.72s\n",
      "169:\tlearn: 0.4457715\ttotal: 3.33s\tremaining: 6.7s\n",
      "170:\tlearn: 0.4456723\ttotal: 3.35s\tremaining: 6.68s\n",
      "171:\tlearn: 0.4456153\ttotal: 3.37s\tremaining: 6.65s\n",
      "172:\tlearn: 0.4452943\ttotal: 3.39s\tremaining: 6.65s\n",
      "173:\tlearn: 0.4452895\ttotal: 3.41s\tremaining: 6.63s\n",
      "174:\tlearn: 0.4452570\ttotal: 3.43s\tremaining: 6.6s\n",
      "175:\tlearn: 0.4451247\ttotal: 3.45s\tremaining: 6.58s\n",
      "176:\tlearn: 0.4449505\ttotal: 3.47s\tremaining: 6.56s\n",
      "177:\tlearn: 0.4448747\ttotal: 3.48s\tremaining: 6.53s\n",
      "178:\tlearn: 0.4448181\ttotal: 3.5s\tremaining: 6.51s\n",
      "179:\tlearn: 0.4447564\ttotal: 3.52s\tremaining: 6.49s\n",
      "180:\tlearn: 0.4443992\ttotal: 3.54s\tremaining: 6.47s\n",
      "181:\tlearn: 0.4443564\ttotal: 3.56s\tremaining: 6.45s\n",
      "182:\tlearn: 0.4442842\ttotal: 3.58s\tremaining: 6.43s\n",
      "183:\tlearn: 0.4440887\ttotal: 3.59s\tremaining: 6.41s\n",
      "184:\tlearn: 0.4440301\ttotal: 3.62s\tremaining: 6.39s\n",
      "185:\tlearn: 0.4439927\ttotal: 3.63s\tremaining: 6.36s\n",
      "186:\tlearn: 0.4437666\ttotal: 3.65s\tremaining: 6.35s\n",
      "187:\tlearn: 0.4434919\ttotal: 3.67s\tremaining: 6.33s\n",
      "188:\tlearn: 0.4434175\ttotal: 3.69s\tremaining: 6.31s\n",
      "189:\tlearn: 0.4433699\ttotal: 3.71s\tremaining: 6.28s\n",
      "190:\tlearn: 0.4431538\ttotal: 3.72s\tremaining: 6.26s\n",
      "191:\tlearn: 0.4430351\ttotal: 3.74s\tremaining: 6.24s\n",
      "192:\tlearn: 0.4426968\ttotal: 3.76s\tremaining: 6.22s\n",
      "193:\tlearn: 0.4426708\ttotal: 3.78s\tremaining: 6.19s\n",
      "194:\tlearn: 0.4420441\ttotal: 3.8s\tremaining: 6.17s\n",
      "195:\tlearn: 0.4417756\ttotal: 3.82s\tremaining: 6.15s\n",
      "196:\tlearn: 0.4417721\ttotal: 3.84s\tremaining: 6.14s\n",
      "197:\tlearn: 0.4417703\ttotal: 3.86s\tremaining: 6.12s\n",
      "198:\tlearn: 0.4417385\ttotal: 3.88s\tremaining: 6.09s\n",
      "199:\tlearn: 0.4417369\ttotal: 3.9s\tremaining: 6.08s\n",
      "200:\tlearn: 0.4417354\ttotal: 3.91s\tremaining: 6.06s\n",
      "201:\tlearn: 0.4417339\ttotal: 3.93s\tremaining: 6.03s\n",
      "202:\tlearn: 0.4416923\ttotal: 3.96s\tremaining: 6.02s\n",
      "203:\tlearn: 0.4416582\ttotal: 3.98s\tremaining: 6s\n",
      "204:\tlearn: 0.4416299\ttotal: 3.99s\tremaining: 5.98s\n",
      "205:\tlearn: 0.4416285\ttotal: 4.01s\tremaining: 5.96s\n",
      "206:\tlearn: 0.4415491\ttotal: 4.03s\tremaining: 5.93s\n",
      "207:\tlearn: 0.4415448\ttotal: 4.05s\tremaining: 5.92s\n",
      "208:\tlearn: 0.4413899\ttotal: 4.07s\tremaining: 5.9s\n",
      "209:\tlearn: 0.4413358\ttotal: 4.08s\tremaining: 5.87s\n",
      "210:\tlearn: 0.4413308\ttotal: 4.1s\tremaining: 5.85s\n",
      "211:\tlearn: 0.4413306\ttotal: 4.12s\tremaining: 5.83s\n",
      "212:\tlearn: 0.4410785\ttotal: 4.14s\tremaining: 5.82s\n",
      "213:\tlearn: 0.4408757\ttotal: 4.16s\tremaining: 5.79s\n",
      "214:\tlearn: 0.4408744\ttotal: 4.18s\tremaining: 5.77s\n",
      "215:\tlearn: 0.4408552\ttotal: 4.19s\tremaining: 5.75s\n",
      "216:\tlearn: 0.4408151\ttotal: 4.21s\tremaining: 5.73s\n",
      "217:\tlearn: 0.4408117\ttotal: 4.23s\tremaining: 5.71s\n",
      "218:\tlearn: 0.4407873\ttotal: 4.25s\tremaining: 5.68s\n",
      "219:\tlearn: 0.4405023\ttotal: 4.27s\tremaining: 5.66s\n",
      "220:\tlearn: 0.4402826\ttotal: 4.29s\tremaining: 5.65s\n",
      "221:\tlearn: 0.4402503\ttotal: 4.31s\tremaining: 5.63s\n",
      "222:\tlearn: 0.4402461\ttotal: 4.33s\tremaining: 5.61s\n",
      "223:\tlearn: 0.4401560\ttotal: 4.35s\tremaining: 5.59s\n",
      "224:\tlearn: 0.4401406\ttotal: 4.37s\tremaining: 5.57s\n",
      "225:\tlearn: 0.4401060\ttotal: 4.39s\tremaining: 5.56s\n",
      "226:\tlearn: 0.4400355\ttotal: 4.42s\tremaining: 5.54s\n",
      "227:\tlearn: 0.4400147\ttotal: 4.43s\tremaining: 5.52s\n",
      "228:\tlearn: 0.4399430\ttotal: 4.45s\tremaining: 5.5s\n",
      "229:\tlearn: 0.4397174\ttotal: 4.46s\tremaining: 5.47s\n",
      "230:\tlearn: 0.4397068\ttotal: 4.48s\tremaining: 5.45s\n",
      "231:\tlearn: 0.4397027\ttotal: 4.5s\tremaining: 5.43s\n",
      "232:\tlearn: 0.4381264\ttotal: 4.52s\tremaining: 5.41s\n",
      "233:\tlearn: 0.4380014\ttotal: 4.54s\tremaining: 5.39s\n",
      "234:\tlearn: 0.4379369\ttotal: 4.55s\tremaining: 5.37s\n",
      "235:\tlearn: 0.4371700\ttotal: 4.57s\tremaining: 5.35s\n",
      "236:\tlearn: 0.4371036\ttotal: 4.6s\tremaining: 5.33s\n",
      "237:\tlearn: 0.4370118\ttotal: 4.61s\tremaining: 5.31s\n",
      "238:\tlearn: 0.4369834\ttotal: 4.63s\tremaining: 5.29s\n",
      "239:\tlearn: 0.4366389\ttotal: 4.65s\tremaining: 5.27s\n",
      "240:\tlearn: 0.4365905\ttotal: 4.67s\tremaining: 5.25s\n",
      "241:\tlearn: 0.4360595\ttotal: 4.69s\tremaining: 5.23s\n",
      "242:\tlearn: 0.4360147\ttotal: 4.71s\tremaining: 5.21s\n",
      "243:\tlearn: 0.4359457\ttotal: 4.73s\tremaining: 5.2s\n",
      "244:\tlearn: 0.4359452\ttotal: 4.75s\tremaining: 5.17s\n",
      "245:\tlearn: 0.4359261\ttotal: 4.76s\tremaining: 5.15s\n",
      "246:\tlearn: 0.4359167\ttotal: 4.78s\tremaining: 5.13s\n",
      "247:\tlearn: 0.4358107\ttotal: 4.8s\tremaining: 5.12s\n",
      "248:\tlearn: 0.4355598\ttotal: 4.82s\tremaining: 5.09s\n",
      "249:\tlearn: 0.4355574\ttotal: 4.84s\tremaining: 5.08s\n",
      "250:\tlearn: 0.4355276\ttotal: 4.87s\tremaining: 5.06s\n",
      "251:\tlearn: 0.4353823\ttotal: 4.89s\tremaining: 5.04s\n",
      "252:\tlearn: 0.4352711\ttotal: 4.9s\tremaining: 5.02s\n",
      "253:\tlearn: 0.4349256\ttotal: 4.92s\tremaining: 5s\n",
      "254:\tlearn: 0.4349252\ttotal: 4.93s\tremaining: 4.97s\n",
      "255:\tlearn: 0.4347510\ttotal: 4.96s\tremaining: 4.96s\n",
      "256:\tlearn: 0.4346619\ttotal: 4.98s\tremaining: 4.94s\n",
      "257:\tlearn: 0.4346613\ttotal: 5s\tremaining: 4.92s\n",
      "258:\tlearn: 0.4344056\ttotal: 5.01s\tremaining: 4.9s\n",
      "259:\tlearn: 0.4343898\ttotal: 5.03s\tremaining: 4.88s\n",
      "260:\tlearn: 0.4343780\ttotal: 5.05s\tremaining: 4.86s\n",
      "261:\tlearn: 0.4342145\ttotal: 5.07s\tremaining: 4.84s\n",
      "262:\tlearn: 0.4341978\ttotal: 5.09s\tremaining: 4.82s\n",
      "263:\tlearn: 0.4341088\ttotal: 5.12s\tremaining: 4.81s\n",
      "264:\tlearn: 0.4340793\ttotal: 5.16s\tremaining: 4.81s\n",
      "265:\tlearn: 0.4338961\ttotal: 5.18s\tremaining: 4.79s\n",
      "266:\tlearn: 0.4338491\ttotal: 5.2s\tremaining: 4.77s\n",
      "267:\tlearn: 0.4338103\ttotal: 5.22s\tremaining: 4.75s\n",
      "268:\tlearn: 0.4337927\ttotal: 5.24s\tremaining: 4.73s\n",
      "269:\tlearn: 0.4337921\ttotal: 5.25s\tremaining: 4.71s\n",
      "270:\tlearn: 0.4337836\ttotal: 5.28s\tremaining: 4.69s\n",
      "271:\tlearn: 0.4337577\ttotal: 5.29s\tremaining: 4.67s\n",
      "272:\tlearn: 0.4337460\ttotal: 5.32s\tremaining: 4.65s\n",
      "273:\tlearn: 0.4336498\ttotal: 5.33s\tremaining: 4.63s\n",
      "274:\tlearn: 0.4336193\ttotal: 5.36s\tremaining: 4.62s\n",
      "275:\tlearn: 0.4335129\ttotal: 5.38s\tremaining: 4.6s\n",
      "276:\tlearn: 0.4335118\ttotal: 5.4s\tremaining: 4.58s\n",
      "277:\tlearn: 0.4334207\ttotal: 5.42s\tremaining: 4.57s\n",
      "278:\tlearn: 0.4332452\ttotal: 5.44s\tremaining: 4.55s\n",
      "279:\tlearn: 0.4331602\ttotal: 5.46s\tremaining: 4.53s\n",
      "280:\tlearn: 0.4331215\ttotal: 5.48s\tremaining: 4.5s\n",
      "281:\tlearn: 0.4330967\ttotal: 5.5s\tremaining: 4.49s\n",
      "282:\tlearn: 0.4330783\ttotal: 5.53s\tremaining: 4.47s\n",
      "283:\tlearn: 0.4329397\ttotal: 5.55s\tremaining: 4.46s\n",
      "284:\tlearn: 0.4329286\ttotal: 5.57s\tremaining: 4.43s\n",
      "285:\tlearn: 0.4328326\ttotal: 5.59s\tremaining: 4.42s\n",
      "286:\tlearn: 0.4327924\ttotal: 5.6s\tremaining: 4.39s\n",
      "287:\tlearn: 0.4326746\ttotal: 5.62s\tremaining: 4.37s\n",
      "288:\tlearn: 0.4326732\ttotal: 5.64s\tremaining: 4.35s\n",
      "289:\tlearn: 0.4326029\ttotal: 5.65s\tremaining: 4.33s\n",
      "290:\tlearn: 0.4325465\ttotal: 5.67s\tremaining: 4.31s\n",
      "291:\tlearn: 0.4325433\ttotal: 5.69s\tremaining: 4.29s\n",
      "292:\tlearn: 0.4324532\ttotal: 5.71s\tremaining: 4.27s\n",
      "293:\tlearn: 0.4324388\ttotal: 5.72s\tremaining: 4.25s\n",
      "294:\tlearn: 0.4324134\ttotal: 5.74s\tremaining: 4.22s\n",
      "295:\tlearn: 0.4322149\ttotal: 5.76s\tremaining: 4.2s\n",
      "296:\tlearn: 0.4322142\ttotal: 5.78s\tremaining: 4.18s\n",
      "297:\tlearn: 0.4322137\ttotal: 5.8s\tremaining: 4.16s\n",
      "298:\tlearn: 0.4321810\ttotal: 5.81s\tremaining: 4.14s\n",
      "299:\tlearn: 0.4320973\ttotal: 5.83s\tremaining: 4.12s\n",
      "300:\tlearn: 0.4320922\ttotal: 5.85s\tremaining: 4.1s\n",
      "301:\tlearn: 0.4319464\ttotal: 5.87s\tremaining: 4.08s\n",
      "302:\tlearn: 0.4319460\ttotal: 5.89s\tremaining: 4.06s\n",
      "303:\tlearn: 0.4318803\ttotal: 5.91s\tremaining: 4.04s\n",
      "304:\tlearn: 0.4317333\ttotal: 5.93s\tremaining: 4.02s\n",
      "305:\tlearn: 0.4316892\ttotal: 5.95s\tremaining: 4s\n",
      "306:\tlearn: 0.4316618\ttotal: 5.97s\tremaining: 3.98s\n",
      "307:\tlearn: 0.4316614\ttotal: 5.98s\tremaining: 3.96s\n",
      "308:\tlearn: 0.4316611\ttotal: 6s\tremaining: 3.94s\n",
      "309:\tlearn: 0.4316106\ttotal: 6.02s\tremaining: 3.92s\n",
      "310:\tlearn: 0.4316079\ttotal: 6.04s\tremaining: 3.9s\n",
      "311:\tlearn: 0.4315545\ttotal: 6.06s\tremaining: 3.88s\n",
      "312:\tlearn: 0.4315545\ttotal: 6.07s\tremaining: 3.86s\n",
      "313:\tlearn: 0.4311697\ttotal: 6.09s\tremaining: 3.84s\n",
      "314:\tlearn: 0.4310504\ttotal: 6.11s\tremaining: 3.82s\n",
      "315:\tlearn: 0.4309726\ttotal: 6.13s\tremaining: 3.81s\n",
      "316:\tlearn: 0.4309165\ttotal: 6.15s\tremaining: 3.79s\n",
      "317:\tlearn: 0.4305015\ttotal: 6.18s\tremaining: 3.77s\n",
      "318:\tlearn: 0.4304646\ttotal: 6.19s\tremaining: 3.75s\n",
      "319:\tlearn: 0.4304643\ttotal: 6.21s\tremaining: 3.73s\n"
     ]
    },
    {
     "name": "stdout",
     "output_type": "stream",
     "text": [
      "320:\tlearn: 0.4304641\ttotal: 6.23s\tremaining: 3.7s\n",
      "321:\tlearn: 0.4304432\ttotal: 6.24s\tremaining: 3.68s\n",
      "322:\tlearn: 0.4303664\ttotal: 6.26s\tremaining: 3.66s\n",
      "323:\tlearn: 0.4302963\ttotal: 6.28s\tremaining: 3.65s\n",
      "324:\tlearn: 0.4302600\ttotal: 6.3s\tremaining: 3.62s\n",
      "325:\tlearn: 0.4302380\ttotal: 6.32s\tremaining: 3.6s\n",
      "326:\tlearn: 0.4301719\ttotal: 6.33s\tremaining: 3.58s\n",
      "327:\tlearn: 0.4301534\ttotal: 6.35s\tremaining: 3.56s\n",
      "328:\tlearn: 0.4301375\ttotal: 6.37s\tremaining: 3.54s\n",
      "329:\tlearn: 0.4301360\ttotal: 6.39s\tremaining: 3.52s\n",
      "330:\tlearn: 0.4301057\ttotal: 6.41s\tremaining: 3.5s\n",
      "331:\tlearn: 0.4300021\ttotal: 6.43s\tremaining: 3.49s\n",
      "332:\tlearn: 0.4298824\ttotal: 6.45s\tremaining: 3.47s\n",
      "333:\tlearn: 0.4298130\ttotal: 6.47s\tremaining: 3.45s\n",
      "334:\tlearn: 0.4297630\ttotal: 6.48s\tremaining: 3.42s\n",
      "335:\tlearn: 0.4297239\ttotal: 6.5s\tremaining: 3.41s\n",
      "336:\tlearn: 0.4297099\ttotal: 6.52s\tremaining: 3.38s\n",
      "337:\tlearn: 0.4295761\ttotal: 6.54s\tremaining: 3.36s\n",
      "338:\tlearn: 0.4295605\ttotal: 6.55s\tremaining: 3.35s\n",
      "339:\tlearn: 0.4292492\ttotal: 6.57s\tremaining: 3.33s\n",
      "340:\tlearn: 0.4292484\ttotal: 6.59s\tremaining: 3.3s\n",
      "341:\tlearn: 0.4292019\ttotal: 6.61s\tremaining: 3.28s\n",
      "342:\tlearn: 0.4291544\ttotal: 6.63s\tremaining: 3.27s\n",
      "343:\tlearn: 0.4291535\ttotal: 6.64s\tremaining: 3.25s\n",
      "344:\tlearn: 0.4291285\ttotal: 6.66s\tremaining: 3.22s\n",
      "345:\tlearn: 0.4290073\ttotal: 6.69s\tremaining: 3.21s\n",
      "346:\tlearn: 0.4289609\ttotal: 6.71s\tremaining: 3.19s\n",
      "347:\tlearn: 0.4289501\ttotal: 6.73s\tremaining: 3.17s\n",
      "348:\tlearn: 0.4289313\ttotal: 6.75s\tremaining: 3.15s\n",
      "349:\tlearn: 0.4287158\ttotal: 6.77s\tremaining: 3.13s\n",
      "350:\tlearn: 0.4286931\ttotal: 6.79s\tremaining: 3.12s\n",
      "351:\tlearn: 0.4286706\ttotal: 6.81s\tremaining: 3.1s\n",
      "352:\tlearn: 0.4286683\ttotal: 6.83s\tremaining: 3.07s\n",
      "353:\tlearn: 0.4285579\ttotal: 6.84s\tremaining: 3.05s\n",
      "354:\tlearn: 0.4284340\ttotal: 6.86s\tremaining: 3.03s\n",
      "355:\tlearn: 0.4284302\ttotal: 6.87s\tremaining: 3.01s\n",
      "356:\tlearn: 0.4281287\ttotal: 6.89s\tremaining: 2.99s\n",
      "357:\tlearn: 0.4281279\ttotal: 6.91s\tremaining: 2.97s\n",
      "358:\tlearn: 0.4281159\ttotal: 6.92s\tremaining: 2.95s\n",
      "359:\tlearn: 0.4281086\ttotal: 6.94s\tremaining: 2.93s\n",
      "360:\tlearn: 0.4280832\ttotal: 6.95s\tremaining: 2.91s\n",
      "361:\tlearn: 0.4280689\ttotal: 6.97s\tremaining: 2.89s\n",
      "362:\tlearn: 0.4279296\ttotal: 6.99s\tremaining: 2.87s\n",
      "363:\tlearn: 0.4278728\ttotal: 7.01s\tremaining: 2.85s\n",
      "364:\tlearn: 0.4276429\ttotal: 7.03s\tremaining: 2.83s\n",
      "365:\tlearn: 0.4276414\ttotal: 7.04s\tremaining: 2.81s\n",
      "366:\tlearn: 0.4275959\ttotal: 7.06s\tremaining: 2.79s\n",
      "367:\tlearn: 0.4274354\ttotal: 7.08s\tremaining: 2.77s\n",
      "368:\tlearn: 0.4274151\ttotal: 7.09s\tremaining: 2.75s\n",
      "369:\tlearn: 0.4274120\ttotal: 7.12s\tremaining: 2.73s\n",
      "370:\tlearn: 0.4273462\ttotal: 7.13s\tremaining: 2.71s\n",
      "371:\tlearn: 0.4272365\ttotal: 7.16s\tremaining: 2.69s\n",
      "372:\tlearn: 0.4272291\ttotal: 7.18s\tremaining: 2.68s\n",
      "373:\tlearn: 0.4272165\ttotal: 7.2s\tremaining: 2.65s\n",
      "374:\tlearn: 0.4270175\ttotal: 7.21s\tremaining: 2.63s\n",
      "375:\tlearn: 0.4270174\ttotal: 7.23s\tremaining: 2.61s\n",
      "376:\tlearn: 0.4269978\ttotal: 7.25s\tremaining: 2.6s\n",
      "377:\tlearn: 0.4269218\ttotal: 7.28s\tremaining: 2.58s\n",
      "378:\tlearn: 0.4269194\ttotal: 7.29s\tremaining: 2.56s\n",
      "379:\tlearn: 0.4269194\ttotal: 7.3s\tremaining: 2.54s\n",
      "380:\tlearn: 0.4268633\ttotal: 7.33s\tremaining: 2.52s\n",
      "381:\tlearn: 0.4268431\ttotal: 7.34s\tremaining: 2.5s\n",
      "382:\tlearn: 0.4268236\ttotal: 7.37s\tremaining: 2.48s\n",
      "383:\tlearn: 0.4268234\ttotal: 7.38s\tremaining: 2.46s\n",
      "384:\tlearn: 0.4268064\ttotal: 7.4s\tremaining: 2.44s\n",
      "385:\tlearn: 0.4268024\ttotal: 7.42s\tremaining: 2.42s\n",
      "386:\tlearn: 0.4267745\ttotal: 7.45s\tremaining: 2.41s\n",
      "387:\tlearn: 0.4267612\ttotal: 7.47s\tremaining: 2.39s\n",
      "388:\tlearn: 0.4267588\ttotal: 7.49s\tremaining: 2.37s\n",
      "389:\tlearn: 0.4266614\ttotal: 7.51s\tremaining: 2.35s\n",
      "390:\tlearn: 0.4266359\ttotal: 7.52s\tremaining: 2.33s\n",
      "391:\tlearn: 0.4266312\ttotal: 7.55s\tremaining: 2.31s\n",
      "392:\tlearn: 0.4266302\ttotal: 7.56s\tremaining: 2.29s\n",
      "393:\tlearn: 0.4261275\ttotal: 7.59s\tremaining: 2.27s\n",
      "394:\tlearn: 0.4260853\ttotal: 7.6s\tremaining: 2.25s\n",
      "395:\tlearn: 0.4260800\ttotal: 7.62s\tremaining: 2.23s\n",
      "396:\tlearn: 0.4259516\ttotal: 7.64s\tremaining: 2.21s\n",
      "397:\tlearn: 0.4259095\ttotal: 7.66s\tremaining: 2.19s\n",
      "398:\tlearn: 0.4259047\ttotal: 7.67s\tremaining: 2.17s\n",
      "399:\tlearn: 0.4258229\ttotal: 7.69s\tremaining: 2.15s\n",
      "400:\tlearn: 0.4258211\ttotal: 7.7s\tremaining: 2.13s\n",
      "401:\tlearn: 0.4258205\ttotal: 7.72s\tremaining: 2.11s\n",
      "402:\tlearn: 0.4257878\ttotal: 7.74s\tremaining: 2.09s\n",
      "403:\tlearn: 0.4257219\ttotal: 7.76s\tremaining: 2.07s\n",
      "404:\tlearn: 0.4257070\ttotal: 7.78s\tremaining: 2.05s\n",
      "405:\tlearn: 0.4256422\ttotal: 7.8s\tremaining: 2.04s\n",
      "406:\tlearn: 0.4256422\ttotal: 7.81s\tremaining: 2.02s\n",
      "407:\tlearn: 0.4256004\ttotal: 7.83s\tremaining: 2s\n",
      "408:\tlearn: 0.4255564\ttotal: 7.84s\tremaining: 1.98s\n",
      "409:\tlearn: 0.4255047\ttotal: 7.86s\tremaining: 1.96s\n",
      "410:\tlearn: 0.4253978\ttotal: 7.88s\tremaining: 1.94s\n",
      "411:\tlearn: 0.4253915\ttotal: 7.89s\tremaining: 1.92s\n",
      "412:\tlearn: 0.4253796\ttotal: 7.92s\tremaining: 1.9s\n",
      "413:\tlearn: 0.4252459\ttotal: 7.93s\tremaining: 1.88s\n",
      "414:\tlearn: 0.4252429\ttotal: 7.95s\tremaining: 1.86s\n",
      "415:\tlearn: 0.4252362\ttotal: 7.97s\tremaining: 1.84s\n",
      "416:\tlearn: 0.4251354\ttotal: 7.99s\tremaining: 1.82s\n",
      "417:\tlearn: 0.4251348\ttotal: 8.01s\tremaining: 1.8s\n",
      "418:\tlearn: 0.4251242\ttotal: 8.03s\tremaining: 1.78s\n",
      "419:\tlearn: 0.4250895\ttotal: 8.04s\tremaining: 1.76s\n",
      "420:\tlearn: 0.4250334\ttotal: 8.06s\tremaining: 1.74s\n",
      "421:\tlearn: 0.4250334\ttotal: 8.08s\tremaining: 1.72s\n",
      "422:\tlearn: 0.4250092\ttotal: 8.1s\tremaining: 1.7s\n",
      "423:\tlearn: 0.4250050\ttotal: 8.12s\tremaining: 1.69s\n",
      "424:\tlearn: 0.4249944\ttotal: 8.14s\tremaining: 1.67s\n",
      "425:\tlearn: 0.4249556\ttotal: 8.16s\tremaining: 1.65s\n",
      "426:\tlearn: 0.4249463\ttotal: 8.18s\tremaining: 1.63s\n",
      "427:\tlearn: 0.4247832\ttotal: 8.2s\tremaining: 1.61s\n",
      "428:\tlearn: 0.4247028\ttotal: 8.22s\tremaining: 1.59s\n",
      "429:\tlearn: 0.4247028\ttotal: 8.23s\tremaining: 1.57s\n",
      "430:\tlearn: 0.4245465\ttotal: 8.24s\tremaining: 1.55s\n",
      "431:\tlearn: 0.4244893\ttotal: 8.27s\tremaining: 1.53s\n",
      "432:\tlearn: 0.4244883\ttotal: 8.29s\tremaining: 1.51s\n",
      "433:\tlearn: 0.4244247\ttotal: 8.31s\tremaining: 1.49s\n",
      "434:\tlearn: 0.4244247\ttotal: 8.33s\tremaining: 1.47s\n",
      "435:\tlearn: 0.4243642\ttotal: 8.35s\tremaining: 1.45s\n",
      "436:\tlearn: 0.4242338\ttotal: 8.37s\tremaining: 1.44s\n",
      "437:\tlearn: 0.4242323\ttotal: 8.38s\tremaining: 1.42s\n",
      "438:\tlearn: 0.4242163\ttotal: 8.4s\tremaining: 1.4s\n",
      "439:\tlearn: 0.4242159\ttotal: 8.41s\tremaining: 1.38s\n",
      "440:\tlearn: 0.4242055\ttotal: 8.43s\tremaining: 1.36s\n",
      "441:\tlearn: 0.4242049\ttotal: 8.45s\tremaining: 1.34s\n",
      "442:\tlearn: 0.4241689\ttotal: 8.47s\tremaining: 1.32s\n",
      "443:\tlearn: 0.4241626\ttotal: 8.49s\tremaining: 1.3s\n",
      "444:\tlearn: 0.4241384\ttotal: 8.51s\tremaining: 1.28s\n",
      "445:\tlearn: 0.4241093\ttotal: 8.52s\tremaining: 1.26s\n",
      "446:\tlearn: 0.4241023\ttotal: 8.54s\tremaining: 1.24s\n",
      "447:\tlearn: 0.4240792\ttotal: 8.56s\tremaining: 1.22s\n",
      "448:\tlearn: 0.4240219\ttotal: 8.58s\tremaining: 1.2s\n",
      "449:\tlearn: 0.4237985\ttotal: 8.61s\tremaining: 1.19s\n",
      "450:\tlearn: 0.4236898\ttotal: 8.63s\tremaining: 1.17s\n",
      "451:\tlearn: 0.4236690\ttotal: 8.65s\tremaining: 1.15s\n",
      "452:\tlearn: 0.4233575\ttotal: 8.67s\tremaining: 1.13s\n",
      "453:\tlearn: 0.4233544\ttotal: 8.69s\tremaining: 1.11s\n",
      "454:\tlearn: 0.4233524\ttotal: 8.7s\tremaining: 1.09s\n",
      "455:\tlearn: 0.4233518\ttotal: 8.72s\tremaining: 1.07s\n",
      "456:\tlearn: 0.4233513\ttotal: 8.74s\tremaining: 1.05s\n",
      "457:\tlearn: 0.4233474\ttotal: 8.76s\tremaining: 1.03s\n",
      "458:\tlearn: 0.4233302\ttotal: 8.78s\tremaining: 1.01s\n",
      "459:\tlearn: 0.4232790\ttotal: 8.79s\tremaining: 994ms\n",
      "460:\tlearn: 0.4232765\ttotal: 8.81s\tremaining: 974ms\n",
      "461:\tlearn: 0.4232364\ttotal: 8.83s\tremaining: 955ms\n",
      "462:\tlearn: 0.4232332\ttotal: 8.84s\tremaining: 936ms\n",
      "463:\tlearn: 0.4228688\ttotal: 8.86s\tremaining: 916ms\n",
      "464:\tlearn: 0.4228506\ttotal: 8.88s\tremaining: 897ms\n",
      "465:\tlearn: 0.4228475\ttotal: 8.9s\tremaining: 879ms\n",
      "466:\tlearn: 0.4228318\ttotal: 8.91s\tremaining: 859ms\n",
      "467:\tlearn: 0.4227496\ttotal: 8.93s\tremaining: 840ms\n",
      "468:\tlearn: 0.4227360\ttotal: 8.95s\tremaining: 821ms\n",
      "469:\tlearn: 0.4224858\ttotal: 8.97s\tremaining: 802ms\n",
      "470:\tlearn: 0.4224268\ttotal: 8.99s\tremaining: 783ms\n",
      "471:\tlearn: 0.4224264\ttotal: 9.01s\tremaining: 764ms\n",
      "472:\tlearn: 0.4224184\ttotal: 9.04s\tremaining: 745ms\n",
      "473:\tlearn: 0.4223720\ttotal: 9.06s\tremaining: 726ms\n",
      "474:\tlearn: 0.4223126\ttotal: 9.08s\tremaining: 707ms\n",
      "475:\tlearn: 0.4222710\ttotal: 9.09s\tremaining: 688ms\n",
      "476:\tlearn: 0.4221686\ttotal: 9.11s\tremaining: 669ms\n",
      "477:\tlearn: 0.4221680\ttotal: 9.13s\tremaining: 649ms\n",
      "478:\tlearn: 0.4221475\ttotal: 9.15s\tremaining: 630ms\n"
     ]
    },
    {
     "name": "stdout",
     "output_type": "stream",
     "text": [
      "479:\tlearn: 0.4221469\ttotal: 9.17s\tremaining: 612ms\n",
      "480:\tlearn: 0.4221469\ttotal: 9.19s\tremaining: 592ms\n",
      "481:\tlearn: 0.4221401\ttotal: 9.22s\tremaining: 574ms\n",
      "482:\tlearn: 0.4221274\ttotal: 9.24s\tremaining: 555ms\n",
      "483:\tlearn: 0.4221273\ttotal: 9.26s\tremaining: 536ms\n",
      "484:\tlearn: 0.4221176\ttotal: 9.28s\tremaining: 516ms\n",
      "485:\tlearn: 0.4220867\ttotal: 9.3s\tremaining: 497ms\n",
      "486:\tlearn: 0.4219264\ttotal: 9.31s\tremaining: 478ms\n",
      "487:\tlearn: 0.4219257\ttotal: 9.33s\tremaining: 459ms\n",
      "488:\tlearn: 0.4219022\ttotal: 9.35s\tremaining: 440ms\n",
      "489:\tlearn: 0.4218696\ttotal: 9.37s\tremaining: 421ms\n",
      "490:\tlearn: 0.4218679\ttotal: 9.38s\tremaining: 401ms\n",
      "491:\tlearn: 0.4218234\ttotal: 9.4s\tremaining: 382ms\n",
      "492:\tlearn: 0.4217713\ttotal: 9.41s\tremaining: 363ms\n",
      "493:\tlearn: 0.4217699\ttotal: 9.44s\tremaining: 344ms\n",
      "494:\tlearn: 0.4217614\ttotal: 9.46s\tremaining: 325ms\n",
      "495:\tlearn: 0.4217405\ttotal: 9.47s\tremaining: 306ms\n",
      "496:\tlearn: 0.4217217\ttotal: 9.49s\tremaining: 286ms\n",
      "497:\tlearn: 0.4217005\ttotal: 9.51s\tremaining: 267ms\n",
      "498:\tlearn: 0.4216816\ttotal: 9.53s\tremaining: 248ms\n",
      "499:\tlearn: 0.4216293\ttotal: 9.55s\tremaining: 229ms\n",
      "500:\tlearn: 0.4216202\ttotal: 9.56s\tremaining: 210ms\n",
      "501:\tlearn: 0.4216080\ttotal: 9.58s\tremaining: 191ms\n",
      "502:\tlearn: 0.4215108\ttotal: 9.6s\tremaining: 172ms\n",
      "503:\tlearn: 0.4212856\ttotal: 9.61s\tremaining: 153ms\n",
      "504:\tlearn: 0.4212555\ttotal: 9.64s\tremaining: 134ms\n",
      "505:\tlearn: 0.4212550\ttotal: 9.65s\tremaining: 114ms\n",
      "506:\tlearn: 0.4211783\ttotal: 9.67s\tremaining: 95.4ms\n",
      "507:\tlearn: 0.4210982\ttotal: 9.69s\tremaining: 76.3ms\n",
      "508:\tlearn: 0.4210841\ttotal: 9.71s\tremaining: 57.2ms\n",
      "509:\tlearn: 0.4210725\ttotal: 9.73s\tremaining: 38.1ms\n",
      "510:\tlearn: 0.4210623\ttotal: 9.74s\tremaining: 19.1ms\n",
      "511:\tlearn: 0.4210378\ttotal: 9.76s\tremaining: 0us\n"
     ]
    },
    {
     "data": {
      "text/plain": [
       "RandomizedSearchCV(cv=<generator object _BaseKFold.split at 0x0000027E0FA5CA98>,\n",
       "                   error_score='raise-deprecating',\n",
       "                   estimator=<catboost.core.CatBoostClassifier object at 0x0000027E15DFA978>,\n",
       "                   iid='warn', n_iter=20, n_jobs=-1,\n",
       "                   param_distributions={'border_count': [32, 5, 10, 20, 64,\n",
       "                                                         128],\n",
       "                                        'depth': [3, 1, 2, 6, 4, 5, 7],\n",
       "                                        'iterations': [128, 256, 512, 64],\n",
       "                                        'l2_leaf_reg': [3, 1, 5, 10, 30],\n",
       "                                        'learning_rate': [0.03, 0.01, 0.1, 0.2,\n",
       "                                                          0.3]},\n",
       "                   pre_dispatch='2*n_jobs', random_state=1001, refit=True,\n",
       "                   return_train_score=False, scoring='accuracy', verbose=3)"
      ]
     },
     "execution_count": 184,
     "metadata": {},
     "output_type": "execute_result"
    }
   ],
   "source": [
    "random_search.fit(X_resampled_rus,y_resampled_rus)"
   ]
  },
  {
   "cell_type": "code",
   "execution_count": 185,
   "metadata": {},
   "outputs": [
    {
     "data": {
      "text/plain": [
       "{'border_count': 64,\n",
       " 'depth': 1,\n",
       " 'iterations': 512,\n",
       " 'l2_leaf_reg': 3,\n",
       " 'learning_rate': 0.2}"
      ]
     },
     "execution_count": 185,
     "metadata": {},
     "output_type": "execute_result"
    }
   ],
   "source": [
    "random_search.best_params_"
   ]
  },
  {
   "cell_type": "code",
   "execution_count": 186,
   "metadata": {},
   "outputs": [],
   "source": [
    "cat = CatBoostClassifier(**random_search.best_params_,verbose=False)"
   ]
  },
  {
   "cell_type": "code",
   "execution_count": 187,
   "metadata": {},
   "outputs": [],
   "source": [
    "final_model = cat.fit(X=X_resampled_rus, y=y_resampled_rus)"
   ]
  },
  {
   "cell_type": "code",
   "execution_count": 188,
   "metadata": {},
   "outputs": [
    {
     "name": "stdout",
     "output_type": "stream",
     "text": [
      "0.7350710255187489\n"
     ]
    }
   ],
   "source": [
    "final_pred = final_model.predict(X_test).astype(pd.Series)#.rename(\"pred_install\",axis=1)\n",
    "fpr, tpr, thrasholds = roc_curve(y_test, final_pred, pos_label=1)\n",
    "roc_auc = auc(fpr, tpr)\n",
    "print(roc_auc)"
   ]
  },
  {
   "cell_type": "code",
   "execution_count": 189,
   "metadata": {},
   "outputs": [
    {
     "data": {
      "text/html": [
       "<div>\n",
       "<style scoped>\n",
       "    .dataframe tbody tr th:only-of-type {\n",
       "        vertical-align: middle;\n",
       "    }\n",
       "\n",
       "    .dataframe tbody tr th {\n",
       "        vertical-align: top;\n",
       "    }\n",
       "\n",
       "    .dataframe thead th {\n",
       "        text-align: right;\n",
       "    }\n",
       "</style>\n",
       "<table border=\"1\" class=\"dataframe\">\n",
       "  <thead>\n",
       "    <tr style=\"text-align: right;\">\n",
       "      <th>col_0</th>\n",
       "      <th>0.0</th>\n",
       "      <th>1.0</th>\n",
       "    </tr>\n",
       "    <tr>\n",
       "      <th>install</th>\n",
       "      <th></th>\n",
       "      <th></th>\n",
       "    </tr>\n",
       "  </thead>\n",
       "  <tbody>\n",
       "    <tr>\n",
       "      <th>0.0000</th>\n",
       "      <td>19241</td>\n",
       "      <td>8890</td>\n",
       "    </tr>\n",
       "    <tr>\n",
       "      <th>1.0000</th>\n",
       "      <td>34</td>\n",
       "      <td>125</td>\n",
       "    </tr>\n",
       "  </tbody>\n",
       "</table>\n",
       "</div>"
      ],
      "text/plain": [
       "col_0    0.0000  1.0000\n",
       "install                \n",
       "0.0000    19241    8890\n",
       "1.0000       34     125"
      ]
     },
     "execution_count": 189,
     "metadata": {},
     "output_type": "execute_result"
    }
   ],
   "source": [
    "pd.crosstab(y_test,final_pred)"
   ]
  },
  {
   "cell_type": "code",
   "execution_count": 190,
   "metadata": {},
   "outputs": [
    {
     "data": {
      "text/plain": [
       "Text(0.5, 0, 'False Positive Rate')"
      ]
     },
     "execution_count": 190,
     "metadata": {},
     "output_type": "execute_result"
    },
    {
     "data": {
      "image/png": "[encoded data removed]",
      "text/plain": [
       "<Figure size 432x288 with 1 Axes>"
      ]
     },
     "metadata": {},
     "output_type": "display_data"
    }
   ],
   "source": [
    "plt.title('Receiver Operating Characteristic')\n",
    "plt.plot(fpr, tpr, 'b', label = 'AUC = %0.3f' % roc_auc)\n",
    "plt.plot([0, 1], [0, 1],'r--')\n",
    "plt.legend(loc = 'lower right')\n",
    "plt.xlim([0, 1])\n",
    "plt.ylim([0, 1])\n",
    "plt.ylabel('True Positive Rate')\n",
    "plt.xlabel('False Positive Rate')"
   ]
  }
 ],
 "metadata": {
  "kernelspec": {
   "display_name": "Python 3",
   "language": "python",
   "name": "python3"
  },
  "language_info": {
   "codemirror_mode": {
    "name": "ipython",
    "version": 3
   },
   "file_extension": ".py",
   "mimetype": "text/x-python",
   "name": "python",
   "nbconvert_exporter": "python",
   "pygments_lexer": "ipython3",
   "version": "3.6.3"
  }
 },
 "nbformat": 4,
 "nbformat_minor": 2
}
