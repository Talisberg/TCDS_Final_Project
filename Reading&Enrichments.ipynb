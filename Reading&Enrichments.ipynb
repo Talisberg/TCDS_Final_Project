{
 "cells": [
  {
   "cell_type": "markdown",
   "metadata": {},
   "source": [
    "# Reading the data and adding Enrichments"
   ]
  },
  {
   "cell_type": "markdown",
   "metadata": {},
   "source": [
    "#### In this section we'll read the csv files extracted from the production environment\n",
    "#### through Athena & Snowflake.\n",
    "\n",
    "#### The data will have it's first feature selection before enrichments and one-hot - coding\n",
    "#### Eventually, the processed data will be forwarded to initial exploration."
   ]
  },
  {
   "cell_type": "markdown",
   "metadata": {},
   "source": [
    "### modules imports"
   ]
  },
  {
   "cell_type": "code",
   "execution_count": 1,
   "metadata": {},
   "outputs": [],
   "source": [
    "import pandas as pd\n",
    "import matplotlib.pyplot as plt\n",
    "import numpy as np\n",
    "import time as time\n",
    "import tqdm \n",
    "import os\n",
    "from scipy.stats import chisquare"
   ]
  },
  {
   "cell_type": "code",
   "execution_count": 2,
   "metadata": {},
   "outputs": [],
   "source": [
    "from sklearn.cluster import DBSCAN\n",
    "from sklearn import metrics\n",
    "from sklearn.datasets.samples_generator import make_blobs\n",
    "from sklearn.preprocessing import StandardScaler"
   ]
  },
  {
   "cell_type": "code",
   "execution_count": 3,
   "metadata": {},
   "outputs": [],
   "source": [
    "import seaborn as sns\n",
    "import math as math\n",
    "import warnings"
   ]
  },
  {
   "cell_type": "code",
   "execution_count": 4,
   "metadata": {},
   "outputs": [],
   "source": [
    "from sklearn.ensemble import RandomForestClassifier\n",
    "from sklearn.model_selection import TimeSeriesSplit, train_test_split\n",
    "from sklearn.linear_model import LogisticRegression\n",
    "from sklearn.ensemble import AdaBoostClassifier\n",
    "from IPython.display import Image\n",
    "from sklearn import tree\n",
    "from sklearn import svm\n",
    "from sklearn.tree import export_graphviz\n",
    "from subprocess import check_call\n",
    "pd.set_option('display.max_columns', 500)"
   ]
  },
  {
   "cell_type": "code",
   "execution_count": 5,
   "metadata": {},
   "outputs": [
    {
     "name": "stderr",
     "output_type": "stream",
     "text": [
      "ERROR:root:File `'funcs.py'` not found.\n"
     ]
    }
   ],
   "source": [
    "%run funcs.py"
   ]
  },
  {
   "cell_type": "markdown",
   "metadata": {},
   "source": [
    "### Setting Path definitions"
   ]
  },
  {
   "cell_type": "code",
   "execution_count": 6,
   "metadata": {},
   "outputs": [],
   "source": [
    "\n",
    "Input_Path = r'C:\\Users\\Persona.ly_DS1\\Desktop\\Technion\\TABLES'\n",
    "Output_Path = r'C:\\Users\\Persona.ly_DS1\\Desktop\\Technion\\Output'"
   ]
  },
  {
   "cell_type": "markdown",
   "metadata": {},
   "source": [
    "#### global varaibales definition - Hour Groups and weekdays"
   ]
  },
  {
   "cell_type": "code",
   "execution_count": 7,
   "metadata": {},
   "outputs": [],
   "source": [
    "global HGroups, Weekdays\n",
    "\n",
    "Weekdays = {0:'1',1:'2',2:'3',3:'4',4:'5',5:'6',6:'7'}\n",
    "\n"
   ]
  },
  {
   "cell_type": "markdown",
   "metadata": {},
   "source": [
    "## Useful functions for the process"
   ]
  },
  {
   "cell_type": "code",
   "execution_count": 8,
   "metadata": {},
   "outputs": [],
   "source": [
    "def RatingGroup(a):\n",
    "    if a==np.nan:\n",
    "        return \"Other\"\n",
    "    elif 0<a<4:\n",
    "        return \"0-4\"\n",
    "    elif 4<a<4.5:\n",
    "        return \"4-4.5\"\n",
    "    else:\n",
    "        return \"4.5-5\""
   ]
  },
  {
   "cell_type": "code",
   "execution_count": 9,
   "metadata": {},
   "outputs": [],
   "source": [
    "def device_screen_size(a):\n",
    "    if 0<a<4.5:\n",
    "        return 'Lowcost'\n",
    "    elif 4.5<a<5.5:\n",
    "        return 'Standard'\n",
    "    elif 5.5<a<7.0:\n",
    "        return 'Phablet'\n",
    "    elif a>7:\n",
    "        return 'Tablet'\n",
    "    pass\n",
    "        "
   ]
  },
  {
   "cell_type": "code",
   "execution_count": 10,
   "metadata": {},
   "outputs": [],
   "source": [
    "def hourgroup(a):\n",
    "#\"\"\"divides the day to 3 shifts of 8 hours\"\"\"\n",
    "    if np.isnan(a) :\n",
    "        return ''\n",
    "    HGroups = {'16-23':list(range(16,24)),'0-7':list(range(0,8)),'8-15':list(range(8,16))}\n",
    "    for key, values in HGroups.items():\n",
    "        if int(a) in values:\n",
    "            return key"
   ]
  },
  {
   "cell_type": "markdown",
   "metadata": {},
   "source": [
    "###   Often different add providers - supply different names for the same OS Version. This function repairs it: example osv_normalizer(6, 6.0, 6.0.0) = 6\n",
    "           "
   ]
  },
  {
   "cell_type": "code",
   "execution_count": 11,
   "metadata": {},
   "outputs": [],
   "source": [
    "import string\n",
    "def osv_normalizer(x):\n",
    "    try:\n",
    "        if math.isnan(float(x)) :\n",
    "            return 'Other'\n",
    "    except:\n",
    "       warnings.filterwarnings(\"ignore\")  \n",
    "    norm = x\n",
    "    Flag = True\n",
    "    while Flag:\n",
    "        if (norm[-1] == '0') and (not norm[-2].isnumeric()):\n",
    "            norm=norm[:-2] \n",
    "        else:\n",
    "            Flag = False           \n",
    "    return norm    "
   ]
  },
  {
   "cell_type": "code",
   "execution_count": null,
   "metadata": {},
   "outputs": [],
   "source": []
  },
  {
   "cell_type": "markdown",
   "metadata": {},
   "source": [
    "## Read Files ( DataSet, Apps and category enrichment, Region enrichement)"
   ]
  },
  {
   "cell_type": "code",
   "execution_count": 12,
   "metadata": {},
   "outputs": [],
   "source": [
    "os.chdir(Input_Path)\n",
    "AppCategory = pd.read_csv('AppCategory.csv')\n",
    "us_tz = pd.read_csv('us_tz.csv')\n",
    "AppRating = pd.read_csv('AppRating.csv')"
   ]
  },
  {
   "cell_type": "code",
   "execution_count": 13,
   "metadata": {},
   "outputs": [],
   "source": [
    "df = pd.read_csv('Monopoly_388_01_2019_imp_click_inst.csv',low_memory = False)\n"
   ]
  },
  {
   "cell_type": "markdown",
   "metadata": {},
   "source": [
    "#### Validation Checks"
   ]
  },
  {
   "cell_type": "markdown",
   "metadata": {},
   "source": [
    "Filter only Billable values such as impression/ install \n",
    "(not all event types are relevant for the analysis)\n",
    "\n",
    "This event is stored in column - Type.\n",
    "Some impressions event has the character - \n",
    "yg_impr == 1 meaning the impression should be ignored\n",
    "Some install events also has a character\n",
    "ig_install == 1 meaning the installations should be ignored"
   ]
  },
  {
   "cell_type": "code",
   "execution_count": 14,
   "metadata": {},
   "outputs": [
    {
     "data": {
      "text/plain": [
       "impression      662616\n",
       "v_start         517259\n",
       "v_companion     464870\n",
       "v_end           450312\n",
       "click            44879\n",
       "v_comp_click     37026\n",
       "v_error           5417\n",
       "install           2892\n",
       "app_event            3\n",
       "Name: type, dtype: int64"
      ]
     },
     "execution_count": 14,
     "metadata": {},
     "output_type": "execute_result"
    }
   ],
   "source": [
    "df.type.value_counts()"
   ]
  },
  {
   "cell_type": "code",
   "execution_count": 15,
   "metadata": {},
   "outputs": [
    {
     "data": {
      "text/plain": [
       "(118403.0, 1.0)"
      ]
     },
     "execution_count": 15,
     "metadata": {},
     "output_type": "execute_result"
    }
   ],
   "source": [
    "#Count no. of impressions / installed to be ignored (invalid data)\n",
    "df.ig_impr.sum() , df.ig_install.sum()"
   ]
  },
  {
   "cell_type": "code",
   "execution_count": 16,
   "metadata": {},
   "outputs": [
    {
     "data": {
      "text/plain": [
       "impression    544213\n",
       "install         2891\n",
       "Name: type, dtype: int64"
      ]
     },
     "execution_count": 16,
     "metadata": {},
     "output_type": "execute_result"
    }
   ],
   "source": [
    "df= df[(df.install == 1 )| (df.impr == 1)]\n",
    "df.type.value_counts()"
   ]
  },
  {
   "cell_type": "code",
   "execution_count": 17,
   "metadata": {
    "scrolled": true
   },
   "outputs": [
    {
     "name": "stderr",
     "output_type": "stream",
     "text": [
      "C:\\Users\\Persona.ly_DS1\\Anaconda3\\lib\\site-packages\\ipykernel_launcher.py:7: SettingWithCopyWarning: \n",
      "A value is trying to be set on a copy of a slice from a DataFrame\n",
      "\n",
      "See the caveats in the documentation: http://pandas.pydata.org/pandas-docs/stable/indexing.html#indexing-view-versus-copy\n",
      "  import sys\n"
     ]
    }
   ],
   "source": [
    "df[['install','impr','installprice']]  = df[['install','impr','installprice']].fillna(value=0)\n",
    "\n",
    "Filt = df.bidid.isin(set(df.bidid[df.install == 1]))\n",
    "Filt2 = df.type == 'impression'\n",
    "\n",
    "imprs_for_installs = df[['bidid','imprprice']][Filt].groupby('bidid').sum()\n",
    "df.imprprice[Filt & ~Filt2] = df[Filt & ~Filt2].join(imprs_for_installs,on ='bidid',rsuffix = '_').imprprice_\n",
    "df = df[~(Filt & Filt2)]"
   ]
  },
  {
   "cell_type": "code",
   "execution_count": 18,
   "metadata": {},
   "outputs": [],
   "source": [
    "df.imprprice = df.imprprice.fillna(0)"
   ]
  },
  {
   "cell_type": "markdown",
   "metadata": {},
   "source": [
    "TOTAL INCOME FROM THE CAMPAIGN - $ 14455\n",
    "TOTAL COST OF THE CAMPAIGN - $10696.87"
   ]
  },
  {
   "cell_type": "markdown",
   "metadata": {},
   "source": []
  },
  {
   "cell_type": "code",
   "execution_count": 19,
   "metadata": {},
   "outputs": [],
   "source": [
    "df['Impression_Price'] = df.imprprice/1000 # calculate the real cost of the impression\n",
    "df.drop(columns=['imprprice'],axis = 1,inplace=True)"
   ]
  },
  {
   "cell_type": "code",
   "execution_count": 20,
   "metadata": {},
   "outputs": [],
   "source": [
    "colist = df.columns.tolist()\n",
    "colist = sorted(colist)"
   ]
  },
  {
   "cell_type": "code",
   "execution_count": 21,
   "metadata": {},
   "outputs": [],
   "source": [
    "not_to_use = [\n",
    "                'g_end',\n",
    "                'click',\n",
    "                'devicetype'\n",
    "                'g_start',\n",
    "                'g_view',\n",
    "                'gender',\n",
    "                'geooffset',\n",
    "                'v_companion',\n",
    "                'v_companion_click',\n",
    "                'v_companion_install',\n",
    "                'v_end',\n",
    "                'v_error',\n",
    "                'v_render',\n",
    "                'v_start',\n",
    "                'v_start_time',\n",
    "                 'width',\n",
    "                'win',\n",
    "                'winprice',\n",
    "                'year',\n",
    "                'ig_click',\n",
    "                'ig_g_end',\n",
    "                'ig_g_start',\n",
    "                'ig_g_view',\n",
    "                'ig_impr',\n",
    "                'ig_install',\n",
    "                'ig_v_companion',\n",
    "                'ig_v_companion_click',\n",
    "                'ig_v_end',\n",
    "                'ig_v_error',\n",
    "                'ig_v_render',\n",
    "                'ig_v_start',\n",
    "                'ig_win',\n",
    "                'ignorereason',\n",
    "                'os',\n",
    "                'DeviceType',\n",
    "                'Device Type',\n",
    "                'appevent',\n",
    "                'appeventcurrency',\n",
    "                'appeventrevenue',\n",
    "                'appeventtime',\n",
    "                'appeventtoken',\n",
    "                'avgwinpricerange',\n",
    "                'g_start',\n",
    "                'clickprice',\n",
    "                'contype',\n",
    "                'bidder','bidderid','country','cid','fraudlogixscore','ua','ip',\n",
    "                'hour','day','bidfloor','devicetype','iosbuildid','siteid','tz',\n",
    "                'utc_diff', 'Region','state_name','agebucket','fctype','dailyfc','lifetimefc',\n",
    "                'displaymanager','netspeed','bidfloor'\n",
    "                \n",
    "            ]\n",
    "df = df[[x for x in colist if x not in not_to_use]]"
   ]
  },
  {
   "cell_type": "markdown",
   "metadata": {},
   "source": [
    "## Data Enrichments from Tables."
   ]
  },
  {
   "cell_type": "code",
   "execution_count": 22,
   "metadata": {},
   "outputs": [],
   "source": [
    "df = df.join(AppCategory.set_index('plBundle'), on='bundle') \n",
    "df = df.join(us_tz.set_index('abbr'), on='state',rsuffix=' ')\n",
    "df = df.join(AppRating[['plBundle','bundleAvgUserRating']].set_index('plBundle'), on='bundle')"
   ]
  },
  {
   "cell_type": "markdown",
   "metadata": {},
   "source": [
    "## Time Enrichement:\n",
    "creating local hour and day variables for the data out of utc. \n",
    "using us_timezone table with time difference from utc according to state"
   ]
  },
  {
   "cell_type": "code",
   "execution_count": 24,
   "metadata": {},
   "outputs": [],
   "source": [
    "time.strftime('%m/%d/%Y %H:%M:%S')\n",
    "df['time'] = df['time']/1000.# careful not to run more than once on itteration - converting ml-seconds to seconds\n",
    "df['date'] = pd.to_datetime(df['time'],unit='s') # convert utc to regular datetime display"
   ]
  },
  {
   "cell_type": "code",
   "execution_count": 25,
   "metadata": {},
   "outputs": [],
   "source": [
    "df['utc_diff'] = abs(df['utc_diff']) # in order to create time delta of hours\n",
    "df['time_diff'] = pd.to_timedelta(df['utc_diff'],'h')#convert no. of hours (int) to timedelta of x hours\n",
    "df['local time'] = df['date'] - df['time_diff'] #subtract the hours to get local time"
   ]
  },
  {
   "cell_type": "code",
   "execution_count": 26,
   "metadata": {},
   "outputs": [],
   "source": [
    "df['Local_hour'] = df['local time'].apply(lambda x: x.hour) # create a local hour variable\n",
    "df['Local_day_of_week'] = df['local time'].apply(lambda x: x.weekday())# create a local day variable (may differ between state to state at a certain timestamp)"
   ]
  },
  {
   "cell_type": "code",
   "execution_count": 27,
   "metadata": {
    "scrolled": true
   },
   "outputs": [],
   "source": [
    "#normalizing the amount of known apps for the user\n",
    "app_min = df.apps.min()\n",
    "app_max = df.apps.max()\n",
    "df['normal_apps'] = df.apps.apply(lambda x: (x-app_min)/(app_max - app_min))\n",
    "\n"
   ]
  },
  {
   "cell_type": "code",
   "execution_count": 28,
   "metadata": {},
   "outputs": [],
   "source": [
    "#normalizing the amount of known ssps the user has visited.\n",
    "ssp_min = df.ssps.min()\n",
    "ssp_max = df.ssps.max()\n",
    "df['normal_ssps'] = df.ssps.apply(lambda x: (x-ssp_min)/(ssp_max - ssp_min))\n"
   ]
  },
  {
   "cell_type": "markdown",
   "metadata": {},
   "source": [
    "adaptation of the columns name to the csv coefficiency model"
   ]
  },
  {
   "cell_type": "code",
   "execution_count": 29,
   "metadata": {},
   "outputs": [],
   "source": [
    "df.osv = df.osv.apply(osv_normalizer)"
   ]
  },
  {
   "cell_type": "code",
   "execution_count": 30,
   "metadata": {},
   "outputs": [],
   "source": [
    "rate_min = df.bundleAvgUserRating.min()\n",
    "rate_max = df.bundleAvgUserRating.max()\n",
    "df['normal_rate'] = df.bundleAvgUserRating.apply(lambda x: (x-rate_min\n",
    "                                                           )/(rate_max - rate_min))"
   ]
  },
  {
   "cell_type": "code",
   "execution_count": null,
   "metadata": {},
   "outputs": [],
   "source": [
    "df['isLandscape'] = 1 * (df.devw > df.devh) # Creating an orientation variable while using the phone\n",
    "df = df.drop(columns=['devh','devw'])"
   ]
  },
  {
   "cell_type": "code",
   "execution_count": null,
   "metadata": {},
   "outputs": [],
   "source": [
    "df['log2ofstorage'] = df.uamaxinternalstorage.apply(math.log2)# converting internal storage to log 2 for easy manipulation\n",
    "df = df.drop(columns='uamaxinternalstorage')"
   ]
  },
  {
   "cell_type": "code",
   "execution_count": null,
   "metadata": {},
   "outputs": [],
   "source": [
    "df.columns"
   ]
  }
 ],
 "metadata": {
  "kernelspec": {
   "display_name": "Python 3",
   "language": "python",
   "name": "python3"
  },
  "language_info": {
   "codemirror_mode": {
    "name": "ipython",
    "version": 3
   },
   "file_extension": ".py",
   "mimetype": "text/x-python",
   "name": "python",
   "nbconvert_exporter": "python",
   "pygments_lexer": "ipython3",
   "version": "3.6.6"
  }
 },
 "nbformat": 4,
 "nbformat_minor": 2
}
