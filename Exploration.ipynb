{
 "cells": [
  {
   "cell_type": "markdown",
   "metadata": {},
   "source": [
    "# modules imports\n",
    "import pandas as pd\n",
    "import matplotlib.pyplot as plt\n",
    "import numpy as np\n",
    "import time as time\n",
    "import tqdm \n",
    "import os\n",
    "from scipy.stats import chisquare"
   ]
  },
  {
   "cell_type": "code",
   "execution_count": 2,
   "metadata": {},
   "outputs": [],
   "source": [
    "import os\n",
    "import datetime\n",
    "Enrich_Path =r\"C:\\Users\\Persona.ly_DS1\\Desktop\\Technion\\Data Processing\\1. Data Reading and Enrichments\"\n",
    "os.chdir(Enrich_Path)\n",
    "from sklearn.cluster import KMeans"
   ]
  },
  {
   "cell_type": "code",
   "execution_count": 3,
   "metadata": {},
   "outputs": [
    {
     "name": "stderr",
     "output_type": "stream",
     "text": [
      "Reading&Enrichments.ipynb:7: SettingWithCopyWarning: \n",
      "A value is trying to be set on a copy of a slice from a DataFrame\n",
      "\n",
      "See the caveats in the documentation: http://pandas.pydata.org/pandas-docs/stable/indexing.html#indexing-view-versus-copy\n",
      "  \"# Reading the data and adding Enrichments\"\n"
     ]
    }
   ],
   "source": [
    "%run Reading&Enrichments.ipynb"
   ]
  },
  {
   "cell_type": "code",
   "execution_count": 4,
   "metadata": {},
   "outputs": [
    {
     "data": {
      "text/html": [
       "<style  type=\"text/css\" >\n",
       "    #T_62674d46_50a7_11e9_a8cc_5cea1db63794row0_col0 {\n",
       "            background-color:  #b40426;\n",
       "        }    #T_62674d46_50a7_11e9_a8cc_5cea1db63794row0_col1 {\n",
       "            background-color:  #5875e1;\n",
       "        }    #T_62674d46_50a7_11e9_a8cc_5cea1db63794row0_col2 {\n",
       "            background-color:  #536edd;\n",
       "        }    #T_62674d46_50a7_11e9_a8cc_5cea1db63794row0_col3 {\n",
       "            background-color:  #445acc;\n",
       "        }    #T_62674d46_50a7_11e9_a8cc_5cea1db63794row0_col4 {\n",
       "            background-color:  #3b4cc0;\n",
       "        }    #T_62674d46_50a7_11e9_a8cc_5cea1db63794row0_col5 {\n",
       "            background-color:  #3b4cc0;\n",
       "        }    #T_62674d46_50a7_11e9_a8cc_5cea1db63794row0_col6 {\n",
       "            background-color:  #445acc;\n",
       "        }    #T_62674d46_50a7_11e9_a8cc_5cea1db63794row0_col7 {\n",
       "            background-color:  #536edd;\n",
       "        }    #T_62674d46_50a7_11e9_a8cc_5cea1db63794row0_col8 {\n",
       "            background-color:  #4a63d3;\n",
       "        }    #T_62674d46_50a7_11e9_a8cc_5cea1db63794row0_col9 {\n",
       "            background-color:  #445acc;\n",
       "        }    #T_62674d46_50a7_11e9_a8cc_5cea1db63794row0_col10 {\n",
       "            background-color:  #4a63d3;\n",
       "        }    #T_62674d46_50a7_11e9_a8cc_5cea1db63794row1_col0 {\n",
       "            background-color:  #455cce;\n",
       "        }    #T_62674d46_50a7_11e9_a8cc_5cea1db63794row1_col1 {\n",
       "            background-color:  #b40426;\n",
       "        }    #T_62674d46_50a7_11e9_a8cc_5cea1db63794row1_col2 {\n",
       "            background-color:  #3b4cc0;\n",
       "        }    #T_62674d46_50a7_11e9_a8cc_5cea1db63794row1_col3 {\n",
       "            background-color:  #3b4cc0;\n",
       "        }    #T_62674d46_50a7_11e9_a8cc_5cea1db63794row1_col4 {\n",
       "            background-color:  #5470de;\n",
       "        }    #T_62674d46_50a7_11e9_a8cc_5cea1db63794row1_col5 {\n",
       "            background-color:  #3c4ec2;\n",
       "        }    #T_62674d46_50a7_11e9_a8cc_5cea1db63794row1_col6 {\n",
       "            background-color:  #3b4cc0;\n",
       "        }    #T_62674d46_50a7_11e9_a8cc_5cea1db63794row1_col7 {\n",
       "            background-color:  #3b4cc0;\n",
       "        }    #T_62674d46_50a7_11e9_a8cc_5cea1db63794row1_col8 {\n",
       "            background-color:  #3c4ec2;\n",
       "        }    #T_62674d46_50a7_11e9_a8cc_5cea1db63794row1_col9 {\n",
       "            background-color:  #455cce;\n",
       "        }    #T_62674d46_50a7_11e9_a8cc_5cea1db63794row1_col10 {\n",
       "            background-color:  #506bda;\n",
       "        }    #T_62674d46_50a7_11e9_a8cc_5cea1db63794row2_col0 {\n",
       "            background-color:  #4055c8;\n",
       "        }    #T_62674d46_50a7_11e9_a8cc_5cea1db63794row2_col1 {\n",
       "            background-color:  #3b4cc0;\n",
       "        }    #T_62674d46_50a7_11e9_a8cc_5cea1db63794row2_col2 {\n",
       "            background-color:  #b40426;\n",
       "        }    #T_62674d46_50a7_11e9_a8cc_5cea1db63794row2_col3 {\n",
       "            background-color:  #e5d8d1;\n",
       "        }    #T_62674d46_50a7_11e9_a8cc_5cea1db63794row2_col4 {\n",
       "            background-color:  #6485ec;\n",
       "        }    #T_62674d46_50a7_11e9_a8cc_5cea1db63794row2_col5 {\n",
       "            background-color:  #3b4cc0;\n",
       "        }    #T_62674d46_50a7_11e9_a8cc_5cea1db63794row2_col6 {\n",
       "            background-color:  #e5d8d1;\n",
       "        }    #T_62674d46_50a7_11e9_a8cc_5cea1db63794row2_col7 {\n",
       "            background-color:  #b40426;\n",
       "        }    #T_62674d46_50a7_11e9_a8cc_5cea1db63794row2_col8 {\n",
       "            background-color:  #536edd;\n",
       "        }    #T_62674d46_50a7_11e9_a8cc_5cea1db63794row2_col9 {\n",
       "            background-color:  #3c4ec2;\n",
       "        }    #T_62674d46_50a7_11e9_a8cc_5cea1db63794row2_col10 {\n",
       "            background-color:  #6180e9;\n",
       "        }    #T_62674d46_50a7_11e9_a8cc_5cea1db63794row3_col0 {\n",
       "            background-color:  #455cce;\n",
       "        }    #T_62674d46_50a7_11e9_a8cc_5cea1db63794row3_col1 {\n",
       "            background-color:  #4e68d8;\n",
       "        }    #T_62674d46_50a7_11e9_a8cc_5cea1db63794row3_col2 {\n",
       "            background-color:  #ebd3c6;\n",
       "        }    #T_62674d46_50a7_11e9_a8cc_5cea1db63794row3_col3 {\n",
       "            background-color:  #b40426;\n",
       "        }    #T_62674d46_50a7_11e9_a8cc_5cea1db63794row3_col4 {\n",
       "            background-color:  #4257c9;\n",
       "        }    #T_62674d46_50a7_11e9_a8cc_5cea1db63794row3_col5 {\n",
       "            background-color:  #3b4cc0;\n",
       "        }    #T_62674d46_50a7_11e9_a8cc_5cea1db63794row3_col6 {\n",
       "            background-color:  #b40426;\n",
       "        }    #T_62674d46_50a7_11e9_a8cc_5cea1db63794row3_col7 {\n",
       "            background-color:  #ebd3c6;\n",
       "        }    #T_62674d46_50a7_11e9_a8cc_5cea1db63794row3_col8 {\n",
       "            background-color:  #4358cb;\n",
       "        }    #T_62674d46_50a7_11e9_a8cc_5cea1db63794row3_col9 {\n",
       "            background-color:  #4055c8;\n",
       "        }    #T_62674d46_50a7_11e9_a8cc_5cea1db63794row3_col10 {\n",
       "            background-color:  #536edd;\n",
       "        }    #T_62674d46_50a7_11e9_a8cc_5cea1db63794row4_col0 {\n",
       "            background-color:  #3b4cc0;\n",
       "        }    #T_62674d46_50a7_11e9_a8cc_5cea1db63794row4_col1 {\n",
       "            background-color:  #6788ee;\n",
       "        }    #T_62674d46_50a7_11e9_a8cc_5cea1db63794row4_col2 {\n",
       "            background-color:  #779af7;\n",
       "        }    #T_62674d46_50a7_11e9_a8cc_5cea1db63794row4_col3 {\n",
       "            background-color:  #4055c8;\n",
       "        }    #T_62674d46_50a7_11e9_a8cc_5cea1db63794row4_col4 {\n",
       "            background-color:  #b40426;\n",
       "        }    #T_62674d46_50a7_11e9_a8cc_5cea1db63794row4_col5 {\n",
       "            background-color:  #3b4cc0;\n",
       "        }    #T_62674d46_50a7_11e9_a8cc_5cea1db63794row4_col6 {\n",
       "            background-color:  #4055c8;\n",
       "        }    #T_62674d46_50a7_11e9_a8cc_5cea1db63794row4_col7 {\n",
       "            background-color:  #779af7;\n",
       "        }    #T_62674d46_50a7_11e9_a8cc_5cea1db63794row4_col8 {\n",
       "            background-color:  #3f53c6;\n",
       "        }    #T_62674d46_50a7_11e9_a8cc_5cea1db63794row4_col9 {\n",
       "            background-color:  #455cce;\n",
       "        }    #T_62674d46_50a7_11e9_a8cc_5cea1db63794row4_col10 {\n",
       "            background-color:  #4c66d6;\n",
       "        }    #T_62674d46_50a7_11e9_a8cc_5cea1db63794row5_col0 {\n",
       "            background-color:  #465ecf;\n",
       "        }    #T_62674d46_50a7_11e9_a8cc_5cea1db63794row5_col1 {\n",
       "            background-color:  #5a78e4;\n",
       "        }    #T_62674d46_50a7_11e9_a8cc_5cea1db63794row5_col2 {\n",
       "            background-color:  #5977e3;\n",
       "        }    #T_62674d46_50a7_11e9_a8cc_5cea1db63794row5_col3 {\n",
       "            background-color:  #455cce;\n",
       "        }    #T_62674d46_50a7_11e9_a8cc_5cea1db63794row5_col4 {\n",
       "            background-color:  #455cce;\n",
       "        }    #T_62674d46_50a7_11e9_a8cc_5cea1db63794row5_col5 {\n",
       "            background-color:  #b40426;\n",
       "        }    #T_62674d46_50a7_11e9_a8cc_5cea1db63794row5_col6 {\n",
       "            background-color:  #455cce;\n",
       "        }    #T_62674d46_50a7_11e9_a8cc_5cea1db63794row5_col7 {\n",
       "            background-color:  #5977e3;\n",
       "        }    #T_62674d46_50a7_11e9_a8cc_5cea1db63794row5_col8 {\n",
       "            background-color:  #4a63d3;\n",
       "        }    #T_62674d46_50a7_11e9_a8cc_5cea1db63794row5_col9 {\n",
       "            background-color:  #465ecf;\n",
       "        }    #T_62674d46_50a7_11e9_a8cc_5cea1db63794row5_col10 {\n",
       "            background-color:  #4c66d6;\n",
       "        }    #T_62674d46_50a7_11e9_a8cc_5cea1db63794row6_col0 {\n",
       "            background-color:  #455cce;\n",
       "        }    #T_62674d46_50a7_11e9_a8cc_5cea1db63794row6_col1 {\n",
       "            background-color:  #4e68d8;\n",
       "        }    #T_62674d46_50a7_11e9_a8cc_5cea1db63794row6_col2 {\n",
       "            background-color:  #ebd3c6;\n",
       "        }    #T_62674d46_50a7_11e9_a8cc_5cea1db63794row6_col3 {\n",
       "            background-color:  #b40426;\n",
       "        }    #T_62674d46_50a7_11e9_a8cc_5cea1db63794row6_col4 {\n",
       "            background-color:  #4257c9;\n",
       "        }    #T_62674d46_50a7_11e9_a8cc_5cea1db63794row6_col5 {\n",
       "            background-color:  #3b4cc0;\n",
       "        }    #T_62674d46_50a7_11e9_a8cc_5cea1db63794row6_col6 {\n",
       "            background-color:  #b40426;\n",
       "        }    #T_62674d46_50a7_11e9_a8cc_5cea1db63794row6_col7 {\n",
       "            background-color:  #ebd3c6;\n",
       "        }    #T_62674d46_50a7_11e9_a8cc_5cea1db63794row6_col8 {\n",
       "            background-color:  #4358cb;\n",
       "        }    #T_62674d46_50a7_11e9_a8cc_5cea1db63794row6_col9 {\n",
       "            background-color:  #4055c8;\n",
       "        }    #T_62674d46_50a7_11e9_a8cc_5cea1db63794row6_col10 {\n",
       "            background-color:  #536edd;\n",
       "        }    #T_62674d46_50a7_11e9_a8cc_5cea1db63794row7_col0 {\n",
       "            background-color:  #4055c8;\n",
       "        }    #T_62674d46_50a7_11e9_a8cc_5cea1db63794row7_col1 {\n",
       "            background-color:  #3b4cc0;\n",
       "        }    #T_62674d46_50a7_11e9_a8cc_5cea1db63794row7_col2 {\n",
       "            background-color:  #b40426;\n",
       "        }    #T_62674d46_50a7_11e9_a8cc_5cea1db63794row7_col3 {\n",
       "            background-color:  #e5d8d1;\n",
       "        }    #T_62674d46_50a7_11e9_a8cc_5cea1db63794row7_col4 {\n",
       "            background-color:  #6485ec;\n",
       "        }    #T_62674d46_50a7_11e9_a8cc_5cea1db63794row7_col5 {\n",
       "            background-color:  #3b4cc0;\n",
       "        }    #T_62674d46_50a7_11e9_a8cc_5cea1db63794row7_col6 {\n",
       "            background-color:  #e5d8d1;\n",
       "        }    #T_62674d46_50a7_11e9_a8cc_5cea1db63794row7_col7 {\n",
       "            background-color:  #b40426;\n",
       "        }    #T_62674d46_50a7_11e9_a8cc_5cea1db63794row7_col8 {\n",
       "            background-color:  #536edd;\n",
       "        }    #T_62674d46_50a7_11e9_a8cc_5cea1db63794row7_col9 {\n",
       "            background-color:  #3c4ec2;\n",
       "        }    #T_62674d46_50a7_11e9_a8cc_5cea1db63794row7_col10 {\n",
       "            background-color:  #6180e9;\n",
       "        }    #T_62674d46_50a7_11e9_a8cc_5cea1db63794row8_col0 {\n",
       "            background-color:  #465ecf;\n",
       "        }    #T_62674d46_50a7_11e9_a8cc_5cea1db63794row8_col1 {\n",
       "            background-color:  #4b64d5;\n",
       "        }    #T_62674d46_50a7_11e9_a8cc_5cea1db63794row8_col2 {\n",
       "            background-color:  #6282ea;\n",
       "        }    #T_62674d46_50a7_11e9_a8cc_5cea1db63794row8_col3 {\n",
       "            background-color:  #3e51c5;\n",
       "        }    #T_62674d46_50a7_11e9_a8cc_5cea1db63794row8_col4 {\n",
       "            background-color:  #3b4cc0;\n",
       "        }    #T_62674d46_50a7_11e9_a8cc_5cea1db63794row8_col5 {\n",
       "            background-color:  #3b4cc0;\n",
       "        }    #T_62674d46_50a7_11e9_a8cc_5cea1db63794row8_col6 {\n",
       "            background-color:  #3e51c5;\n",
       "        }    #T_62674d46_50a7_11e9_a8cc_5cea1db63794row8_col7 {\n",
       "            background-color:  #6282ea;\n",
       "        }    #T_62674d46_50a7_11e9_a8cc_5cea1db63794row8_col8 {\n",
       "            background-color:  #b40426;\n",
       "        }    #T_62674d46_50a7_11e9_a8cc_5cea1db63794row8_col9 {\n",
       "            background-color:  #6485ec;\n",
       "        }    #T_62674d46_50a7_11e9_a8cc_5cea1db63794row8_col10 {\n",
       "            background-color:  #3b4cc0;\n",
       "        }    #T_62674d46_50a7_11e9_a8cc_5cea1db63794row9_col0 {\n",
       "            background-color:  #4961d2;\n",
       "        }    #T_62674d46_50a7_11e9_a8cc_5cea1db63794row9_col1 {\n",
       "            background-color:  #5d7ce6;\n",
       "        }    #T_62674d46_50a7_11e9_a8cc_5cea1db63794row9_col2 {\n",
       "            background-color:  #5470de;\n",
       "        }    #T_62674d46_50a7_11e9_a8cc_5cea1db63794row9_col3 {\n",
       "            background-color:  #455cce;\n",
       "        }    #T_62674d46_50a7_11e9_a8cc_5cea1db63794row9_col4 {\n",
       "            background-color:  #4a63d3;\n",
       "        }    #T_62674d46_50a7_11e9_a8cc_5cea1db63794row9_col5 {\n",
       "            background-color:  #3f53c6;\n",
       "        }    #T_62674d46_50a7_11e9_a8cc_5cea1db63794row9_col6 {\n",
       "            background-color:  #455cce;\n",
       "        }    #T_62674d46_50a7_11e9_a8cc_5cea1db63794row9_col7 {\n",
       "            background-color:  #5470de;\n",
       "        }    #T_62674d46_50a7_11e9_a8cc_5cea1db63794row9_col8 {\n",
       "            background-color:  #6e90f2;\n",
       "        }    #T_62674d46_50a7_11e9_a8cc_5cea1db63794row9_col9 {\n",
       "            background-color:  #b40426;\n",
       "        }    #T_62674d46_50a7_11e9_a8cc_5cea1db63794row9_col10 {\n",
       "            background-color:  #4358cb;\n",
       "        }    #T_62674d46_50a7_11e9_a8cc_5cea1db63794row10_col0 {\n",
       "            background-color:  #455cce;\n",
       "        }    #T_62674d46_50a7_11e9_a8cc_5cea1db63794row10_col1 {\n",
       "            background-color:  #5f7fe8;\n",
       "        }    #T_62674d46_50a7_11e9_a8cc_5cea1db63794row10_col2 {\n",
       "            background-color:  #6f92f3;\n",
       "        }    #T_62674d46_50a7_11e9_a8cc_5cea1db63794row10_col3 {\n",
       "            background-color:  #4e68d8;\n",
       "        }    #T_62674d46_50a7_11e9_a8cc_5cea1db63794row10_col4 {\n",
       "            background-color:  #4961d2;\n",
       "        }    #T_62674d46_50a7_11e9_a8cc_5cea1db63794row10_col5 {\n",
       "            background-color:  #3d50c3;\n",
       "        }    #T_62674d46_50a7_11e9_a8cc_5cea1db63794row10_col6 {\n",
       "            background-color:  #4e68d8;\n",
       "        }    #T_62674d46_50a7_11e9_a8cc_5cea1db63794row10_col7 {\n",
       "            background-color:  #6f92f3;\n",
       "        }    #T_62674d46_50a7_11e9_a8cc_5cea1db63794row10_col8 {\n",
       "            background-color:  #3b4cc0;\n",
       "        }    #T_62674d46_50a7_11e9_a8cc_5cea1db63794row10_col9 {\n",
       "            background-color:  #3b4cc0;\n",
       "        }    #T_62674d46_50a7_11e9_a8cc_5cea1db63794row10_col10 {\n",
       "            background-color:  #b40426;\n",
       "        }</style>  \n",
       "<table id=\"T_62674d46_50a7_11e9_a8cc_5cea1db63794\" > \n",
       "<thead>    <tr> \n",
       "        <th class=\"blank level0\" ></th> \n",
       "        <th class=\"col_heading level0 col0\" >install</th> \n",
       "        <th class=\"col_heading level0 col1\" >uabatterycapacity</th> \n",
       "        <th class=\"col_heading level0 col2\" >ssps</th> \n",
       "        <th class=\"col_heading level0 col3\" >apps</th> \n",
       "        <th class=\"col_heading level0 col4\" >bundletotalfc</th> \n",
       "        <th class=\"col_heading level0 col5\" >Local_day_of_week</th> \n",
       "        <th class=\"col_heading level0 col6\" >normal_apps</th> \n",
       "        <th class=\"col_heading level0 col7\" >normal_ssps</th> \n",
       "        <th class=\"col_heading level0 col8\" >normal_rate</th> \n",
       "        <th class=\"col_heading level0 col9\" >isLandscape</th> \n",
       "        <th class=\"col_heading level0 col10\" >log2ofstorage</th> \n",
       "    </tr></thead> \n",
       "<tbody>    <tr> \n",
       "        <th id=\"T_62674d46_50a7_11e9_a8cc_5cea1db63794level0_row0\" class=\"row_heading level0 row0\" >install</th> \n",
       "        <td id=\"T_62674d46_50a7_11e9_a8cc_5cea1db63794row0_col0\" class=\"data row0 col0\" >1</td> \n",
       "        <td id=\"T_62674d46_50a7_11e9_a8cc_5cea1db63794row0_col1\" class=\"data row0 col1\" >-0.00209074</td> \n",
       "        <td id=\"T_62674d46_50a7_11e9_a8cc_5cea1db63794row0_col2\" class=\"data row0 col2\" >-0.0195333</td> \n",
       "        <td id=\"T_62674d46_50a7_11e9_a8cc_5cea1db63794row0_col3\" class=\"data row0 col3\" >-0.00265972</td> \n",
       "        <td id=\"T_62674d46_50a7_11e9_a8cc_5cea1db63794row0_col4\" class=\"data row0 col4\" >-0.0408842</td> \n",
       "        <td id=\"T_62674d46_50a7_11e9_a8cc_5cea1db63794row0_col5\" class=\"data row0 col5\" >0.00277454</td> \n",
       "        <td id=\"T_62674d46_50a7_11e9_a8cc_5cea1db63794row0_col6\" class=\"data row0 col6\" >-0.00265972</td> \n",
       "        <td id=\"T_62674d46_50a7_11e9_a8cc_5cea1db63794row0_col7\" class=\"data row0 col7\" >-0.0195333</td> \n",
       "        <td id=\"T_62674d46_50a7_11e9_a8cc_5cea1db63794row0_col8\" class=\"data row0 col8\" >0.0021574</td> \n",
       "        <td id=\"T_62674d46_50a7_11e9_a8cc_5cea1db63794row0_col9\" class=\"data row0 col9\" >0.00870566</td> \n",
       "        <td id=\"T_62674d46_50a7_11e9_a8cc_5cea1db63794row0_col10\" class=\"data row0 col10\" >-0.000796633</td> \n",
       "    </tr>    <tr> \n",
       "        <th id=\"T_62674d46_50a7_11e9_a8cc_5cea1db63794level0_row1\" class=\"row_heading level0 row1\" >uabatterycapacity</th> \n",
       "        <td id=\"T_62674d46_50a7_11e9_a8cc_5cea1db63794row1_col0\" class=\"data row1 col0\" >-0.00209074</td> \n",
       "        <td id=\"T_62674d46_50a7_11e9_a8cc_5cea1db63794row1_col1\" class=\"data row1 col1\" >1</td> \n",
       "        <td id=\"T_62674d46_50a7_11e9_a8cc_5cea1db63794row1_col2\" class=\"data row1 col2\" >-0.110214</td> \n",
       "        <td id=\"T_62674d46_50a7_11e9_a8cc_5cea1db63794row1_col3\" class=\"data row1 col3\" >-0.0386626</td> \n",
       "        <td id=\"T_62674d46_50a7_11e9_a8cc_5cea1db63794row1_col4\" class=\"data row1 col4\" >0.047096</td> \n",
       "        <td id=\"T_62674d46_50a7_11e9_a8cc_5cea1db63794row1_col5\" class=\"data row1 col5\" >0.00446871</td> \n",
       "        <td id=\"T_62674d46_50a7_11e9_a8cc_5cea1db63794row1_col6\" class=\"data row1 col6\" >-0.0386626</td> \n",
       "        <td id=\"T_62674d46_50a7_11e9_a8cc_5cea1db63794row1_col7\" class=\"data row1 col7\" >-0.110214</td> \n",
       "        <td id=\"T_62674d46_50a7_11e9_a8cc_5cea1db63794row1_col8\" class=\"data row1 col8\" >-0.0484206</td> \n",
       "        <td id=\"T_62674d46_50a7_11e9_a8cc_5cea1db63794row1_col9\" class=\"data row1 col9\" >0.0150964</td> \n",
       "        <td id=\"T_62674d46_50a7_11e9_a8cc_5cea1db63794row1_col10\" class=\"data row1 col10\" >0.0226191</td> \n",
       "    </tr>    <tr> \n",
       "        <th id=\"T_62674d46_50a7_11e9_a8cc_5cea1db63794level0_row2\" class=\"row_heading level0 row2\" >ssps</th> \n",
       "        <td id=\"T_62674d46_50a7_11e9_a8cc_5cea1db63794row2_col0\" class=\"data row2 col0\" >-0.0195333</td> \n",
       "        <td id=\"T_62674d46_50a7_11e9_a8cc_5cea1db63794row2_col1\" class=\"data row2 col1\" >-0.110214</td> \n",
       "        <td id=\"T_62674d46_50a7_11e9_a8cc_5cea1db63794row2_col2\" class=\"data row2 col2\" >1</td> \n",
       "        <td id=\"T_62674d46_50a7_11e9_a8cc_5cea1db63794row2_col3\" class=\"data row2 col3\" >0.514269</td> \n",
       "        <td id=\"T_62674d46_50a7_11e9_a8cc_5cea1db63794row2_col4\" class=\"data row2 col4\" >0.100103</td> \n",
       "        <td id=\"T_62674d46_50a7_11e9_a8cc_5cea1db63794row2_col5\" class=\"data row2 col5\" >0.000634269</td> \n",
       "        <td id=\"T_62674d46_50a7_11e9_a8cc_5cea1db63794row2_col6\" class=\"data row2 col6\" >0.514269</td> \n",
       "        <td id=\"T_62674d46_50a7_11e9_a8cc_5cea1db63794row2_col7\" class=\"data row2 col7\" >1</td> \n",
       "        <td id=\"T_62674d46_50a7_11e9_a8cc_5cea1db63794row2_col8\" class=\"data row2 col8\" >0.0291881</td> \n",
       "        <td id=\"T_62674d46_50a7_11e9_a8cc_5cea1db63794row2_col9\" class=\"data row2 col9\" >-0.0174431</td> \n",
       "        <td id=\"T_62674d46_50a7_11e9_a8cc_5cea1db63794row2_col10\" class=\"data row2 col10\" >0.0760816</td> \n",
       "    </tr>    <tr> \n",
       "        <th id=\"T_62674d46_50a7_11e9_a8cc_5cea1db63794level0_row3\" class=\"row_heading level0 row3\" >apps</th> \n",
       "        <td id=\"T_62674d46_50a7_11e9_a8cc_5cea1db63794row3_col0\" class=\"data row3 col0\" >-0.00265972</td> \n",
       "        <td id=\"T_62674d46_50a7_11e9_a8cc_5cea1db63794row3_col1\" class=\"data row3 col1\" >-0.0386626</td> \n",
       "        <td id=\"T_62674d46_50a7_11e9_a8cc_5cea1db63794row3_col2\" class=\"data row3 col2\" >0.514269</td> \n",
       "        <td id=\"T_62674d46_50a7_11e9_a8cc_5cea1db63794row3_col3\" class=\"data row3 col3\" >1</td> \n",
       "        <td id=\"T_62674d46_50a7_11e9_a8cc_5cea1db63794row3_col4\" class=\"data row3 col4\" >-0.0147834</td> \n",
       "        <td id=\"T_62674d46_50a7_11e9_a8cc_5cea1db63794row3_col5\" class=\"data row3 col5\" >0.00079213</td> \n",
       "        <td id=\"T_62674d46_50a7_11e9_a8cc_5cea1db63794row3_col6\" class=\"data row3 col6\" >1</td> \n",
       "        <td id=\"T_62674d46_50a7_11e9_a8cc_5cea1db63794row3_col7\" class=\"data row3 col7\" >0.514269</td> \n",
       "        <td id=\"T_62674d46_50a7_11e9_a8cc_5cea1db63794row3_col8\" class=\"data row3 col8\" >-0.0232559</td> \n",
       "        <td id=\"T_62674d46_50a7_11e9_a8cc_5cea1db63794row3_col9\" class=\"data row3 col9\" >-0.00121992</td> \n",
       "        <td id=\"T_62674d46_50a7_11e9_a8cc_5cea1db63794row3_col10\" class=\"data row3 col10\" >0.0284524</td> \n",
       "    </tr>    <tr> \n",
       "        <th id=\"T_62674d46_50a7_11e9_a8cc_5cea1db63794level0_row4\" class=\"row_heading level0 row4\" >bundletotalfc</th> \n",
       "        <td id=\"T_62674d46_50a7_11e9_a8cc_5cea1db63794row4_col0\" class=\"data row4 col0\" >-0.0408842</td> \n",
       "        <td id=\"T_62674d46_50a7_11e9_a8cc_5cea1db63794row4_col1\" class=\"data row4 col1\" >0.047096</td> \n",
       "        <td id=\"T_62674d46_50a7_11e9_a8cc_5cea1db63794row4_col2\" class=\"data row4 col2\" >0.100103</td> \n",
       "        <td id=\"T_62674d46_50a7_11e9_a8cc_5cea1db63794row4_col3\" class=\"data row4 col3\" >-0.0147834</td> \n",
       "        <td id=\"T_62674d46_50a7_11e9_a8cc_5cea1db63794row4_col4\" class=\"data row4 col4\" >1</td> \n",
       "        <td id=\"T_62674d46_50a7_11e9_a8cc_5cea1db63794row4_col5\" class=\"data row4 col5\" >-0.000590892</td> \n",
       "        <td id=\"T_62674d46_50a7_11e9_a8cc_5cea1db63794row4_col6\" class=\"data row4 col6\" >-0.0147834</td> \n",
       "        <td id=\"T_62674d46_50a7_11e9_a8cc_5cea1db63794row4_col7\" class=\"data row4 col7\" >0.100103</td> \n",
       "        <td id=\"T_62674d46_50a7_11e9_a8cc_5cea1db63794row4_col8\" class=\"data row4 col8\" >-0.0385275</td> \n",
       "        <td id=\"T_62674d46_50a7_11e9_a8cc_5cea1db63794row4_col9\" class=\"data row4 col9\" >0.0133794</td> \n",
       "        <td id=\"T_62674d46_50a7_11e9_a8cc_5cea1db63794row4_col10\" class=\"data row4 col10\" >0.00846021</td> \n",
       "    </tr>    <tr> \n",
       "        <th id=\"T_62674d46_50a7_11e9_a8cc_5cea1db63794level0_row5\" class=\"row_heading level0 row5\" >Local_day_of_week</th> \n",
       "        <td id=\"T_62674d46_50a7_11e9_a8cc_5cea1db63794row5_col0\" class=\"data row5 col0\" >0.00277454</td> \n",
       "        <td id=\"T_62674d46_50a7_11e9_a8cc_5cea1db63794row5_col1\" class=\"data row5 col1\" >0.00446871</td> \n",
       "        <td id=\"T_62674d46_50a7_11e9_a8cc_5cea1db63794row5_col2\" class=\"data row5 col2\" >0.000634269</td> \n",
       "        <td id=\"T_62674d46_50a7_11e9_a8cc_5cea1db63794row5_col3\" class=\"data row5 col3\" >0.00079213</td> \n",
       "        <td id=\"T_62674d46_50a7_11e9_a8cc_5cea1db63794row5_col4\" class=\"data row5 col4\" >-0.000590892</td> \n",
       "        <td id=\"T_62674d46_50a7_11e9_a8cc_5cea1db63794row5_col5\" class=\"data row5 col5\" >1</td> \n",
       "        <td id=\"T_62674d46_50a7_11e9_a8cc_5cea1db63794row5_col6\" class=\"data row5 col6\" >0.00079213</td> \n",
       "        <td id=\"T_62674d46_50a7_11e9_a8cc_5cea1db63794row5_col7\" class=\"data row5 col7\" >0.000634269</td> \n",
       "        <td id=\"T_62674d46_50a7_11e9_a8cc_5cea1db63794row5_col8\" class=\"data row5 col8\" >-0.000292646</td> \n",
       "        <td id=\"T_62674d46_50a7_11e9_a8cc_5cea1db63794row5_col9\" class=\"data row5 col9\" >0.0177078</td> \n",
       "        <td id=\"T_62674d46_50a7_11e9_a8cc_5cea1db63794row5_col10\" class=\"data row5 col10\" >0.00938282</td> \n",
       "    </tr>    <tr> \n",
       "        <th id=\"T_62674d46_50a7_11e9_a8cc_5cea1db63794level0_row6\" class=\"row_heading level0 row6\" >normal_apps</th> \n",
       "        <td id=\"T_62674d46_50a7_11e9_a8cc_5cea1db63794row6_col0\" class=\"data row6 col0\" >-0.00265972</td> \n",
       "        <td id=\"T_62674d46_50a7_11e9_a8cc_5cea1db63794row6_col1\" class=\"data row6 col1\" >-0.0386626</td> \n",
       "        <td id=\"T_62674d46_50a7_11e9_a8cc_5cea1db63794row6_col2\" class=\"data row6 col2\" >0.514269</td> \n",
       "        <td id=\"T_62674d46_50a7_11e9_a8cc_5cea1db63794row6_col3\" class=\"data row6 col3\" >1</td> \n",
       "        <td id=\"T_62674d46_50a7_11e9_a8cc_5cea1db63794row6_col4\" class=\"data row6 col4\" >-0.0147834</td> \n",
       "        <td id=\"T_62674d46_50a7_11e9_a8cc_5cea1db63794row6_col5\" class=\"data row6 col5\" >0.00079213</td> \n",
       "        <td id=\"T_62674d46_50a7_11e9_a8cc_5cea1db63794row6_col6\" class=\"data row6 col6\" >1</td> \n",
       "        <td id=\"T_62674d46_50a7_11e9_a8cc_5cea1db63794row6_col7\" class=\"data row6 col7\" >0.514269</td> \n",
       "        <td id=\"T_62674d46_50a7_11e9_a8cc_5cea1db63794row6_col8\" class=\"data row6 col8\" >-0.0232559</td> \n",
       "        <td id=\"T_62674d46_50a7_11e9_a8cc_5cea1db63794row6_col9\" class=\"data row6 col9\" >-0.00121992</td> \n",
       "        <td id=\"T_62674d46_50a7_11e9_a8cc_5cea1db63794row6_col10\" class=\"data row6 col10\" >0.0284524</td> \n",
       "    </tr>    <tr> \n",
       "        <th id=\"T_62674d46_50a7_11e9_a8cc_5cea1db63794level0_row7\" class=\"row_heading level0 row7\" >normal_ssps</th> \n",
       "        <td id=\"T_62674d46_50a7_11e9_a8cc_5cea1db63794row7_col0\" class=\"data row7 col0\" >-0.0195333</td> \n",
       "        <td id=\"T_62674d46_50a7_11e9_a8cc_5cea1db63794row7_col1\" class=\"data row7 col1\" >-0.110214</td> \n",
       "        <td id=\"T_62674d46_50a7_11e9_a8cc_5cea1db63794row7_col2\" class=\"data row7 col2\" >1</td> \n",
       "        <td id=\"T_62674d46_50a7_11e9_a8cc_5cea1db63794row7_col3\" class=\"data row7 col3\" >0.514269</td> \n",
       "        <td id=\"T_62674d46_50a7_11e9_a8cc_5cea1db63794row7_col4\" class=\"data row7 col4\" >0.100103</td> \n",
       "        <td id=\"T_62674d46_50a7_11e9_a8cc_5cea1db63794row7_col5\" class=\"data row7 col5\" >0.000634269</td> \n",
       "        <td id=\"T_62674d46_50a7_11e9_a8cc_5cea1db63794row7_col6\" class=\"data row7 col6\" >0.514269</td> \n",
       "        <td id=\"T_62674d46_50a7_11e9_a8cc_5cea1db63794row7_col7\" class=\"data row7 col7\" >1</td> \n",
       "        <td id=\"T_62674d46_50a7_11e9_a8cc_5cea1db63794row7_col8\" class=\"data row7 col8\" >0.0291881</td> \n",
       "        <td id=\"T_62674d46_50a7_11e9_a8cc_5cea1db63794row7_col9\" class=\"data row7 col9\" >-0.0174431</td> \n",
       "        <td id=\"T_62674d46_50a7_11e9_a8cc_5cea1db63794row7_col10\" class=\"data row7 col10\" >0.0760816</td> \n",
       "    </tr>    <tr> \n",
       "        <th id=\"T_62674d46_50a7_11e9_a8cc_5cea1db63794level0_row8\" class=\"row_heading level0 row8\" >normal_rate</th> \n",
       "        <td id=\"T_62674d46_50a7_11e9_a8cc_5cea1db63794row8_col0\" class=\"data row8 col0\" >0.0021574</td> \n",
       "        <td id=\"T_62674d46_50a7_11e9_a8cc_5cea1db63794row8_col1\" class=\"data row8 col1\" >-0.0484206</td> \n",
       "        <td id=\"T_62674d46_50a7_11e9_a8cc_5cea1db63794row8_col2\" class=\"data row8 col2\" >0.0291881</td> \n",
       "        <td id=\"T_62674d46_50a7_11e9_a8cc_5cea1db63794row8_col3\" class=\"data row8 col3\" >-0.0232559</td> \n",
       "        <td id=\"T_62674d46_50a7_11e9_a8cc_5cea1db63794row8_col4\" class=\"data row8 col4\" >-0.0385275</td> \n",
       "        <td id=\"T_62674d46_50a7_11e9_a8cc_5cea1db63794row8_col5\" class=\"data row8 col5\" >-0.000292646</td> \n",
       "        <td id=\"T_62674d46_50a7_11e9_a8cc_5cea1db63794row8_col6\" class=\"data row8 col6\" >-0.0232559</td> \n",
       "        <td id=\"T_62674d46_50a7_11e9_a8cc_5cea1db63794row8_col7\" class=\"data row8 col7\" >0.0291881</td> \n",
       "        <td id=\"T_62674d46_50a7_11e9_a8cc_5cea1db63794row8_col8\" class=\"data row8 col8\" >1</td> \n",
       "        <td id=\"T_62674d46_50a7_11e9_a8cc_5cea1db63794row8_col9\" class=\"data row8 col9\" >0.115732</td> \n",
       "        <td id=\"T_62674d46_50a7_11e9_a8cc_5cea1db63794row8_col10\" class=\"data row8 col10\" >-0.055177</td> \n",
       "    </tr>    <tr> \n",
       "        <th id=\"T_62674d46_50a7_11e9_a8cc_5cea1db63794level0_row9\" class=\"row_heading level0 row9\" >isLandscape</th> \n",
       "        <td id=\"T_62674d46_50a7_11e9_a8cc_5cea1db63794row9_col0\" class=\"data row9 col0\" >0.00870566</td> \n",
       "        <td id=\"T_62674d46_50a7_11e9_a8cc_5cea1db63794row9_col1\" class=\"data row9 col1\" >0.0150964</td> \n",
       "        <td id=\"T_62674d46_50a7_11e9_a8cc_5cea1db63794row9_col2\" class=\"data row9 col2\" >-0.0174431</td> \n",
       "        <td id=\"T_62674d46_50a7_11e9_a8cc_5cea1db63794row9_col3\" class=\"data row9 col3\" >-0.00121992</td> \n",
       "        <td id=\"T_62674d46_50a7_11e9_a8cc_5cea1db63794row9_col4\" class=\"data row9 col4\" >0.0133794</td> \n",
       "        <td id=\"T_62674d46_50a7_11e9_a8cc_5cea1db63794row9_col5\" class=\"data row9 col5\" >0.0177078</td> \n",
       "        <td id=\"T_62674d46_50a7_11e9_a8cc_5cea1db63794row9_col6\" class=\"data row9 col6\" >-0.00121992</td> \n",
       "        <td id=\"T_62674d46_50a7_11e9_a8cc_5cea1db63794row9_col7\" class=\"data row9 col7\" >-0.0174431</td> \n",
       "        <td id=\"T_62674d46_50a7_11e9_a8cc_5cea1db63794row9_col8\" class=\"data row9 col8\" >0.115732</td> \n",
       "        <td id=\"T_62674d46_50a7_11e9_a8cc_5cea1db63794row9_col9\" class=\"data row9 col9\" >1</td> \n",
       "        <td id=\"T_62674d46_50a7_11e9_a8cc_5cea1db63794row9_col10\" class=\"data row9 col10\" >-0.023711</td> \n",
       "    </tr>    <tr> \n",
       "        <th id=\"T_62674d46_50a7_11e9_a8cc_5cea1db63794level0_row10\" class=\"row_heading level0 row10\" >log2ofstorage</th> \n",
       "        <td id=\"T_62674d46_50a7_11e9_a8cc_5cea1db63794row10_col0\" class=\"data row10 col0\" >-0.000796633</td> \n",
       "        <td id=\"T_62674d46_50a7_11e9_a8cc_5cea1db63794row10_col1\" class=\"data row10 col1\" >0.0226191</td> \n",
       "        <td id=\"T_62674d46_50a7_11e9_a8cc_5cea1db63794row10_col2\" class=\"data row10 col2\" >0.0760816</td> \n",
       "        <td id=\"T_62674d46_50a7_11e9_a8cc_5cea1db63794row10_col3\" class=\"data row10 col3\" >0.0284524</td> \n",
       "        <td id=\"T_62674d46_50a7_11e9_a8cc_5cea1db63794row10_col4\" class=\"data row10 col4\" >0.00846021</td> \n",
       "        <td id=\"T_62674d46_50a7_11e9_a8cc_5cea1db63794row10_col5\" class=\"data row10 col5\" >0.00938282</td> \n",
       "        <td id=\"T_62674d46_50a7_11e9_a8cc_5cea1db63794row10_col6\" class=\"data row10 col6\" >0.0284524</td> \n",
       "        <td id=\"T_62674d46_50a7_11e9_a8cc_5cea1db63794row10_col7\" class=\"data row10 col7\" >0.0760816</td> \n",
       "        <td id=\"T_62674d46_50a7_11e9_a8cc_5cea1db63794row10_col8\" class=\"data row10 col8\" >-0.055177</td> \n",
       "        <td id=\"T_62674d46_50a7_11e9_a8cc_5cea1db63794row10_col9\" class=\"data row10 col9\" >-0.023711</td> \n",
       "        <td id=\"T_62674d46_50a7_11e9_a8cc_5cea1db63794row10_col10\" class=\"data row10 col10\" >1</td> \n",
       "    </tr></tbody> \n",
       "</table> "
      ],
      "text/plain": [
       "<pandas.io.formats.style.Styler at 0x1453ffd05c0>"
      ]
     },
     "execution_count": 4,
     "metadata": {},
     "output_type": "execute_result"
    }
   ],
   "source": [
    "Col_Filter = [\n",
    "                    'crid','uadeviceram','ppi','time','height','bidtime'#,'install'\n",
    "                    'Impression_Price','bid','impr','installprice','bidtime','Impression_Price',\n",
    "                    'month','bundleAvgUserRating','uareleaseyear','device_age'\n",
    "            ]\n",
    "corr = df[[x for x in df.columns if x not in Col_Filter]].corr()\n",
    "corr.style.background_gradient(cmap='coolwarm')"
   ]
  },
  {
   "cell_type": "markdown",
   "metadata": {},
   "source": [
    "# Data Exploration"
   ]
  },
  {
   "cell_type": "markdown",
   "metadata": {},
   "source": [
    "### Checking IInstall Rate per feature"
   ]
  },
  {
   "cell_type": "markdown",
   "metadata": {},
   "source": [
    "### Device age in years"
   ]
  },
  {
   "cell_type": "code",
   "execution_count": 5,
   "metadata": {},
   "outputs": [],
   "source": [
    "df['device_age'] = datetime.datetime.now().year - df.uareleaseyear"
   ]
  },
  {
   "cell_type": "code",
   "execution_count": 6,
   "metadata": {},
   "outputs": [],
   "source": [
    "d_age_min = df.device_age.min()\n",
    "d_age_max = df.device_age.max()\n",
    "df['d_age_normalized'] = df.device_age.apply(lambda x: (x-d_age_min)/(d_age_max-d_age_min))"
   ]
  },
  {
   "cell_type": "code",
   "execution_count": 7,
   "metadata": {},
   "outputs": [
    {
     "data": {
      "text/plain": [
       "0.005313822369134262"
      ]
     },
     "execution_count": 7,
     "metadata": {},
     "output_type": "execute_result"
    }
   ],
   "source": [
    "prior_inst_rate = sum(df.install)/ len(df.install)\n",
    "prior_inst_rate"
   ]
  },
  {
   "cell_type": "code",
   "execution_count": 11,
   "metadata": {},
   "outputs": [],
   "source": [
    "Prior_ROAS = 100*df.installprice.sum()/df.Impression_Price.sum()"
   ]
  },
  {
   "cell_type": "markdown",
   "metadata": {},
   "source": [
    "## install rate per normalized device age in years  with prior install rate threshold"
   ]
  },
  {
   "cell_type": "code",
   "execution_count": 8,
   "metadata": {},
   "outputs": [
    {
     "data": {
      "text/plain": [
       "<matplotlib.collections.LineCollection at 0x14506a3a4a8>"
      ]
     },
     "execution_count": 8,
     "metadata": {},
     "output_type": "execute_result"
    },
    {
     "data": {
      "image/png": "[encoded data removed]",
      "text/plain": [
       "<Figure size 432x288 with 1 Axes>"
      ]
     },
     "metadata": {
      "needs_background": "light"
     },
     "output_type": "display_data"
    }
   ],
   "source": [
    "(df[df.install == 1].d_age_normalized.value_counts().sort_index()/df.d_age_normalized.value_counts().sort_index()).plot.bar()\n",
    "plt.hlines(prior_inst_rate,xmin = 0,xmax = 8)"
   ]
  },
  {
   "cell_type": "code",
   "execution_count": 13,
   "metadata": {},
   "outputs": [
    {
     "data": {
      "text/html": [
       "<div>\n",
       "<style scoped>\n",
       "    .dataframe tbody tr th:only-of-type {\n",
       "        vertical-align: middle;\n",
       "    }\n",
       "\n",
       "    .dataframe tbody tr th {\n",
       "        vertical-align: top;\n",
       "    }\n",
       "\n",
       "    .dataframe thead th {\n",
       "        text-align: right;\n",
       "    }\n",
       "</style>\n",
       "<table border=\"1\" class=\"dataframe\">\n",
       "  <thead>\n",
       "    <tr style=\"text-align: right;\">\n",
       "      <th></th>\n",
       "      <th>Impression_Price</th>\n",
       "      <th>installprice</th>\n",
       "      <th>ROAS</th>\n",
       "    </tr>\n",
       "    <tr>\n",
       "      <th>d_age_normalized</th>\n",
       "      <th></th>\n",
       "      <th></th>\n",
       "      <th></th>\n",
       "    </tr>\n",
       "  </thead>\n",
       "  <tbody>\n",
       "    <tr>\n",
       "      <th>0.000000</th>\n",
       "      <td>0.293347</td>\n",
       "      <td>0.0</td>\n",
       "      <td>0.000000</td>\n",
       "    </tr>\n",
       "    <tr>\n",
       "      <th>0.111111</th>\n",
       "      <td>1180.221835</td>\n",
       "      <td>2120.0</td>\n",
       "      <td>179.627248</td>\n",
       "    </tr>\n",
       "    <tr>\n",
       "      <th>0.222222</th>\n",
       "      <td>3260.545676</td>\n",
       "      <td>5420.0</td>\n",
       "      <td>166.229844</td>\n",
       "    </tr>\n",
       "    <tr>\n",
       "      <th>0.333333</th>\n",
       "      <td>2267.679961</td>\n",
       "      <td>3125.0</td>\n",
       "      <td>137.806042</td>\n",
       "    </tr>\n",
       "    <tr>\n",
       "      <th>0.444444</th>\n",
       "      <td>799.463848</td>\n",
       "      <td>1290.0</td>\n",
       "      <td>161.358141</td>\n",
       "    </tr>\n",
       "    <tr>\n",
       "      <th>0.555556</th>\n",
       "      <td>189.780187</td>\n",
       "      <td>320.0</td>\n",
       "      <td>168.616126</td>\n",
       "    </tr>\n",
       "    <tr>\n",
       "      <th>0.666667</th>\n",
       "      <td>1.009459</td>\n",
       "      <td>0.0</td>\n",
       "      <td>0.000000</td>\n",
       "    </tr>\n",
       "    <tr>\n",
       "      <th>0.777778</th>\n",
       "      <td>4.876070</td>\n",
       "      <td>0.0</td>\n",
       "      <td>0.000000</td>\n",
       "    </tr>\n",
       "    <tr>\n",
       "      <th>0.888889</th>\n",
       "      <td>0.060057</td>\n",
       "      <td>0.0</td>\n",
       "      <td>0.000000</td>\n",
       "    </tr>\n",
       "    <tr>\n",
       "      <th>1.000000</th>\n",
       "      <td>0.068428</td>\n",
       "      <td>0.0</td>\n",
       "      <td>0.000000</td>\n",
       "    </tr>\n",
       "  </tbody>\n",
       "</table>\n",
       "</div>"
      ],
      "text/plain": [
       "                  Impression_Price  installprice        ROAS\n",
       "d_age_normalized                                            \n",
       "0.000000                  0.293347           0.0    0.000000\n",
       "0.111111               1180.221835        2120.0  179.627248\n",
       "0.222222               3260.545676        5420.0  166.229844\n",
       "0.333333               2267.679961        3125.0  137.806042\n",
       "0.444444                799.463848        1290.0  161.358141\n",
       "0.555556                189.780187         320.0  168.616126\n",
       "0.666667                  1.009459           0.0    0.000000\n",
       "0.777778                  4.876070           0.0    0.000000\n",
       "0.888889                  0.060057           0.0    0.000000\n",
       "1.000000                  0.068428           0.0    0.000000"
      ]
     },
     "execution_count": 13,
     "metadata": {},
     "output_type": "execute_result"
    },
    {
     "data": {
      "image/png": "[encoded data removed]",
      "text/plain": [
       "<Figure size 432x288 with 1 Axes>"
      ]
     },
     "metadata": {
      "needs_background": "light"
     },
     "output_type": "display_data"
    }
   ],
   "source": [
    "Eval_d_age_norm = df[[\n",
    "                    'd_age_normalized','Impression_Price','installprice'\n",
    "                ]].groupby(by='d_age_normalized').sum()\n",
    "\n",
    "Eval_d_age_norm['ROAS'] = 100*Eval_d_age_norm.installprice / Eval_d_age_norm.Impression_Price\n",
    "\n",
    "Eval_d_age_norm.ROAS.plot.bar()\n",
    "plt.hlines(Prior_ROAS,xmin = 0, xmax = 20)\n",
    "Eval_d_age_norm"
   ]
  },
  {
   "cell_type": "markdown",
   "metadata": {},
   "source": [
    "## install rate per bundletotalfc feature with prior install rate threshold"
   ]
  },
  {
   "cell_type": "code",
   "execution_count": null,
   "metadata": {},
   "outputs": [],
   "source": [
    "(df[df.install == 1].bundletotalfc.value_counts()/df.bundletotalfc.value_counts()).plot()\n",
    "plt.hlines(prior_inst_rate,xmin = 1,xmax = 8)"
   ]
  },
  {
   "cell_type": "markdown",
   "metadata": {},
   "source": [
    "### Oreintation Exploration "
   ]
  },
  {
   "cell_type": "code",
   "execution_count": null,
   "metadata": {},
   "outputs": [],
   "source": [
    "(df[df.install == 1].isLandscape.value_counts()/df.isLandscape.value_counts()).sort_values().plot.bar()\n",
    "plt.hlines(prior_inst_rate,xmin =-1,xmax = 8)"
   ]
  },
  {
   "cell_type": "code",
   "execution_count": null,
   "metadata": {},
   "outputs": [],
   "source": [
    "Eval_Landscape = df[[\n",
    "                    'isLandscape','Impression_Price','installprice'\n",
    "                ]].groupby(by='isLandscape').sum()\n",
    "\n",
    "Eval_Landscape['ROAS'] = 100*Eval_Landscape.installprice / Eval_Landscape.Impression_Price\n",
    "\n",
    "Eval_Landscape.ROAS.plot.bar()\n",
    "plt.hlines(prior_ROAS,xmin = 0, xmax = 4)\n",
    "Eval_Landscape"
   ]
  },
  {
   "cell_type": "code",
   "execution_count": null,
   "metadata": {},
   "outputs": [],
   "source": [
    "Eval_Landscape"
   ]
  },
  {
   "cell_type": "code",
   "execution_count": null,
   "metadata": {},
   "outputs": [],
   "source": [
    "df.isLandscape.value_counts()"
   ]
  },
  {
   "cell_type": "markdown",
   "metadata": {},
   "source": [
    "## Same Main Category. in this case  - Casino"
   ]
  },
  {
   "cell_type": "code",
   "execution_count": 15,
   "metadata": {},
   "outputs": [],
   "source": [
    "df['cat_is_casino'] = 1*df.bundleCategory.str.contains('casino',na=False)"
   ]
  },
  {
   "cell_type": "code",
   "execution_count": 16,
   "metadata": {},
   "outputs": [
    {
     "data": {
      "text/plain": [
       "<matplotlib.collections.LineCollection at 0x14507dceb70>"
      ]
     },
     "execution_count": 16,
     "metadata": {},
     "output_type": "execute_result"
    },
    {
     "data": {
      "image/png": "[encoded data removed]",
      "text/plain": [
       "<Figure size 432x288 with 1 Axes>"
      ]
     },
     "metadata": {
      "needs_background": "light"
     },
     "output_type": "display_data"
    }
   ],
   "source": [
    "(df[df.install == 1].cat_is_casino.value_counts()/df.cat_is_casino.value_counts()).plot.bar()\n",
    "plt.hlines(prior_inst_rate,xmin = 0,xmax = 8)"
   ]
  },
  {
   "cell_type": "code",
   "execution_count": 17,
   "metadata": {},
   "outputs": [
    {
     "data": {
      "text/html": [
       "<div>\n",
       "<style scoped>\n",
       "    .dataframe tbody tr th:only-of-type {\n",
       "        vertical-align: middle;\n",
       "    }\n",
       "\n",
       "    .dataframe tbody tr th {\n",
       "        vertical-align: top;\n",
       "    }\n",
       "\n",
       "    .dataframe thead th {\n",
       "        text-align: right;\n",
       "    }\n",
       "</style>\n",
       "<table border=\"1\" class=\"dataframe\">\n",
       "  <thead>\n",
       "    <tr style=\"text-align: right;\">\n",
       "      <th></th>\n",
       "      <th>Impression_Price</th>\n",
       "      <th>installprice</th>\n",
       "      <th>ROAS</th>\n",
       "    </tr>\n",
       "    <tr>\n",
       "      <th>cat_is_casino</th>\n",
       "      <th></th>\n",
       "      <th></th>\n",
       "      <th></th>\n",
       "    </tr>\n",
       "  </thead>\n",
       "  <tbody>\n",
       "    <tr>\n",
       "      <th>0</th>\n",
       "      <td>932.491861</td>\n",
       "      <td>735.0</td>\n",
       "      <td>78.821063</td>\n",
       "    </tr>\n",
       "    <tr>\n",
       "      <th>1</th>\n",
       "      <td>8012.976687</td>\n",
       "      <td>13725.0</td>\n",
       "      <td>171.284662</td>\n",
       "    </tr>\n",
       "  </tbody>\n",
       "</table>\n",
       "</div>"
      ],
      "text/plain": [
       "               Impression_Price  installprice        ROAS\n",
       "cat_is_casino                                            \n",
       "0                    932.491861         735.0   78.821063\n",
       "1                   8012.976687       13725.0  171.284662"
      ]
     },
     "execution_count": 17,
     "metadata": {},
     "output_type": "execute_result"
    }
   ],
   "source": [
    "Eval_matrix = df[[\n",
    "                    'cat_is_casino','Impression_Price','installprice'\n",
    "                ]].groupby(by='cat_is_casino').sum()\n",
    "\n",
    "Eval_matrix['ROAS'] = 100*Eval_matrix.installprice / Eval_matrix.Impression_Price\n",
    "\n",
    "Eval_matrix#.ROAS.plot.bar()\n",
    "#plt.hlines(prior_ROAS,xmin = 0, xmax = 4)"
   ]
  },
  {
   "cell_type": "markdown",
   "metadata": {},
   "source": [
    "## Taking Care of normalized_apps - normalized_ssps high correlation with clustring into 4 groups using k means\n"
   ]
  },
  {
   "cell_type": "code",
   "execution_count": null,
   "metadata": {},
   "outputs": [],
   "source": [
    "df.normal_apps = df.normal_apps.fillna('-1')\n",
    "df.normal_ssps = df.normal_ssps.fillna('-1')\n",
    "\n",
    "len(df[df.normal_apps == '-1'])\n",
    "# 2 records of na , discarded\n",
    "\n",
    "df = df[df.normal_apps != '-1']"
   ]
  },
  {
   "cell_type": "code",
   "execution_count": 35,
   "metadata": {},
   "outputs": [
    {
     "data": {
      "text/plain": [
       "<matplotlib.collections.LineCollection at 0x14501d04668>"
      ]
     },
     "execution_count": 35,
     "metadata": {},
     "output_type": "execute_result"
    },
    {
     "data": {
      "image/png": "[encoded data removed]",
      "text/plain": [
       "<Figure size 432x288 with 1 Axes>"
      ]
     },
     "metadata": {
      "needs_background": "light"
     },
     "output_type": "display_data"
    }
   ],
   "source": [
    "(df[df.install == 1].ssps.value_counts()/df.ssps.value_counts()).plot()\n",
    "plt.hlines(prior_inst_rate,xmin = 0,xmax = 20)"
   ]
  },
  {
   "cell_type": "code",
   "execution_count": 37,
   "metadata": {},
   "outputs": [
    {
     "data": {
      "text/plain": [
       "<matplotlib.collections.LineCollection at 0x14501d90860>"
      ]
     },
     "execution_count": 37,
     "metadata": {},
     "output_type": "execute_result"
    },
    {
     "data": {
      "image/png": "[encoded data removed]",
      "text/plain": [
       "<Figure size 432x288 with 1 Axes>"
      ]
     },
     "metadata": {
      "needs_background": "light"
     },
     "output_type": "display_data"
    }
   ],
   "source": [
    "(df[df.install == 1].apps.value_counts()/df.apps.value_counts()).plot()\n",
    "plt.hlines(prior_inst_rate,xmin = 0,xmax = 200)"
   ]
  },
  {
   "cell_type": "code",
   "execution_count": 38,
   "metadata": {
    "scrolled": true
   },
   "outputs": [
    {
     "data": {
      "text/plain": [
       "5.0      26974\n",
       "4.0      26764\n",
       "6.0      25701\n",
       "7.0      25033\n",
       "3.0      25006\n",
       "8.0      24896\n",
       "9.0      23022\n",
       "1.0      22054\n",
       "10.0     21788\n",
       "2.0      21143\n",
       "11.0     20124\n",
       "12.0     18068\n",
       "13.0     16838\n",
       "14.0     16054\n",
       "15.0     14536\n",
       "16.0     13107\n",
       "17.0     12386\n",
       "18.0     10934\n",
       "19.0     10198\n",
       "20.0      9549\n",
       "21.0      8672\n",
       "22.0      8476\n",
       "23.0      7559\n",
       "24.0      6750\n",
       "25.0      6399\n",
       "26.0      6125\n",
       "27.0      5745\n",
       "28.0      5198\n",
       "29.0      4880\n",
       "30.0      4516\n",
       "         ...  \n",
       "320.0        1\n",
       "597.0        1\n",
       "312.0        1\n",
       "331.0        1\n",
       "421.0        1\n",
       "710.0        1\n",
       "340.0        1\n",
       "275.0        1\n",
       "330.0        1\n",
       "704.0        1\n",
       "259.0        1\n",
       "414.0        1\n",
       "642.0        1\n",
       "258.0        1\n",
       "329.0        1\n",
       "442.0        1\n",
       "308.0        1\n",
       "364.0        1\n",
       "443.0        1\n",
       "327.0        1\n",
       "349.0        1\n",
       "251.0        1\n",
       "614.0        1\n",
       "449.0        1\n",
       "416.0        1\n",
       "606.0        1\n",
       "284.0        1\n",
       "249.0        1\n",
       "701.0        1\n",
       "313.0        1\n",
       "Name: apps, Length: 378, dtype: int64"
      ]
     },
     "execution_count": 38,
     "metadata": {},
     "output_type": "execute_result"
    }
   ],
   "source": [
    "df.apps.value_counts()"
   ]
  },
  {
   "cell_type": "markdown",
   "metadata": {},
   "source": [
    "## Exploration of crids - creative data that is shown to the user."
   ]
  },
  {
   "cell_type": "code",
   "execution_count": 39,
   "metadata": {},
   "outputs": [
    {
     "data": {
      "text/plain": [
       "<matplotlib.collections.LineCollection at 0x14501dba748>"
      ]
     },
     "execution_count": 39,
     "metadata": {},
     "output_type": "execute_result"
    },
    {
     "data": {
      "image/png": "[encoded data removed]",
      "text/plain": [
       "<Figure size 432x288 with 1 Axes>"
      ]
     },
     "metadata": {
      "needs_background": "light"
     },
     "output_type": "display_data"
    }
   ],
   "source": [
    "(df[df.install ==1].crid.value_counts()/df.crid.value_counts()).plot.bar()\n",
    "plt.hlines(prior_inst_rate,xmin = 0,xmax = 20)"
   ]
  },
  {
   "cell_type": "code",
   "execution_count": 40,
   "metadata": {},
   "outputs": [],
   "source": [
    "crids = df[['crid','Impression_Price','installprice']].groupby('crid').sum()\n",
    "crids['ROAS'] = 100*crids.installprice/crids.Impression_Price"
   ]
  },
  {
   "cell_type": "code",
   "execution_count": 41,
   "metadata": {},
   "outputs": [
    {
     "data": {
      "text/html": [
       "<div>\n",
       "<style scoped>\n",
       "    .dataframe tbody tr th:only-of-type {\n",
       "        vertical-align: middle;\n",
       "    }\n",
       "\n",
       "    .dataframe tbody tr th {\n",
       "        vertical-align: top;\n",
       "    }\n",
       "\n",
       "    .dataframe thead th {\n",
       "        text-align: right;\n",
       "    }\n",
       "</style>\n",
       "<table border=\"1\" class=\"dataframe\">\n",
       "  <thead>\n",
       "    <tr style=\"text-align: right;\">\n",
       "      <th></th>\n",
       "      <th>Impression_Price</th>\n",
       "      <th>installprice</th>\n",
       "      <th>ROAS</th>\n",
       "    </tr>\n",
       "    <tr>\n",
       "      <th>crid</th>\n",
       "      <th></th>\n",
       "      <th></th>\n",
       "      <th></th>\n",
       "    </tr>\n",
       "  </thead>\n",
       "  <tbody>\n",
       "    <tr>\n",
       "      <th>1169</th>\n",
       "      <td>2067.436909</td>\n",
       "      <td>3000.0</td>\n",
       "      <td>145.107209</td>\n",
       "    </tr>\n",
       "    <tr>\n",
       "      <th>1170</th>\n",
       "      <td>1242.925590</td>\n",
       "      <td>1990.0</td>\n",
       "      <td>160.106125</td>\n",
       "    </tr>\n",
       "    <tr>\n",
       "      <th>1171</th>\n",
       "      <td>499.429231</td>\n",
       "      <td>620.0</td>\n",
       "      <td>124.141712</td>\n",
       "    </tr>\n",
       "    <tr>\n",
       "      <th>1193</th>\n",
       "      <td>2241.071788</td>\n",
       "      <td>4295.0</td>\n",
       "      <td>191.649372</td>\n",
       "    </tr>\n",
       "    <tr>\n",
       "      <th>1194</th>\n",
       "      <td>2123.986538</td>\n",
       "      <td>3600.0</td>\n",
       "      <td>169.492600</td>\n",
       "    </tr>\n",
       "    <tr>\n",
       "      <th>1468</th>\n",
       "      <td>209.284184</td>\n",
       "      <td>300.0</td>\n",
       "      <td>143.345758</td>\n",
       "    </tr>\n",
       "    <tr>\n",
       "      <th>1469</th>\n",
       "      <td>215.169498</td>\n",
       "      <td>270.0</td>\n",
       "      <td>125.482470</td>\n",
       "    </tr>\n",
       "  </tbody>\n",
       "</table>\n",
       "</div>"
      ],
      "text/plain": [
       "      Impression_Price  installprice        ROAS\n",
       "crid                                            \n",
       "1169       2067.436909        3000.0  145.107209\n",
       "1170       1242.925590        1990.0  160.106125\n",
       "1171        499.429231         620.0  124.141712\n",
       "1193       2241.071788        4295.0  191.649372\n",
       "1194       2123.986538        3600.0  169.492600\n",
       "1468        209.284184         300.0  143.345758\n",
       "1469        215.169498         270.0  125.482470"
      ]
     },
     "execution_count": 41,
     "metadata": {},
     "output_type": "execute_result"
    }
   ],
   "source": [
    "#Creating a threshold of aggregated amount of spend of 180$\n",
    "crids= crids[crids.Impression_Price > 180]\n",
    "crids"
   ]
  },
  {
   "cell_type": "code",
   "execution_count": 43,
   "metadata": {},
   "outputs": [
    {
     "data": {
      "text/plain": [
       "<matplotlib.collections.LineCollection at 0x14501d86240>"
      ]
     },
     "execution_count": 43,
     "metadata": {},
     "output_type": "execute_result"
    },
    {
     "data": {
      "image/png": "[encoded data removed]",
      "text/plain": [
       "<Figure size 432x288 with 1 Axes>"
      ]
     },
     "metadata": {
      "needs_background": "light"
     },
     "output_type": "display_data"
    }
   ],
   "source": [
    "crids.ROAS.plot.bar()\n",
    "plt.hlines(Prior_ROAS,xmin = 0, xmax = 20)"
   ]
  },
  {
   "cell_type": "markdown",
   "metadata": {},
   "source": [
    "### SiteName Engineering of words"
   ]
  },
  {
   "cell_type": "code",
   "execution_count": 44,
   "metadata": {},
   "outputs": [
    {
     "data": {
      "text/plain": [
       "0                       Zombie Ghosts Coin Party Dozer\n",
       "1    Slots! CashHit Slot Machines & Casino Games Party\n",
       "2    Cashmania Slots 2019: Free Vegas Casino Slot G...\n",
       "3                   GSN Casino - Mediation (no blocks)\n",
       "4           Lucky CASH Slots - Win Real Money & Prizes\n",
       "5                                           Free Slots\n",
       "6              Cleopatra Slots Fortunes of Luxor Egypt\n",
       "7           Lucky CASH Slots - Win Real Money & Prizes\n",
       "8     Viva Slots Vegas™ Free Slot Jackpot Casino Games\n",
       "9        Royal Slots Free Slot Machines & Casino Games\n",
       "Name: sitename, dtype: object"
      ]
     },
     "execution_count": 44,
     "metadata": {},
     "output_type": "execute_result"
    }
   ],
   "source": [
    "df.sitename.head(10)"
   ]
  },
  {
   "cell_type": "code",
   "execution_count": 45,
   "metadata": {},
   "outputs": [],
   "source": [
    "set_aside = set(df.sitename)\n",
    "set_aside = list(set_aside)\n",
    "set_aside2= []\n",
    "for i in set_aside:\n",
    "    if type(i) == str:\n",
    "        set_aside2 = set_aside2 + i.split()"
   ]
  },
  {
   "cell_type": "code",
   "execution_count": 46,
   "metadata": {},
   "outputs": [],
   "source": [
    "set_aside = pd.DataFrame(set_aside2)[0].value_counts().reset_index().rename(columns = {\"index\":'word',0:'Count'})\n",
    "set_aside = set_aside[set_aside.word.astype(str).str.contains('[A-Za-z]')]"
   ]
  },
  {
   "cell_type": "markdown",
   "metadata": {},
   "source": [
    "### get 7 top words in site name description "
   ]
  },
  {
   "cell_type": "code",
   "execution_count": 47,
   "metadata": {},
   "outputs": [],
   "source": [
    "global top7\n",
    "top7 = set_aside.word.head(7).tolist()"
   ]
  },
  {
   "cell_type": "code",
   "execution_count": 48,
   "metadata": {},
   "outputs": [],
   "source": [
    "def isin7(x):\n",
    "    if type(x) == float:\n",
    "        return np.nan\n",
    "    elif (set(x.split()) & set(top7)) == set():\n",
    "        return 0\n",
    "    return 1"
   ]
  },
  {
   "cell_type": "code",
   "execution_count": 49,
   "metadata": {},
   "outputs": [],
   "source": [
    "df['isintop6words'] = df.sitename.apply(isin7)"
   ]
  },
  {
   "cell_type": "markdown",
   "metadata": {},
   "source": [
    "### checking the amount of times the user was seen in different apps in the same category"
   ]
  },
  {
   "cell_type": "code",
   "execution_count": null,
   "metadata": {},
   "outputs": [],
   "source": [
    "df[df.install==1].isintop6words.value_counts()/df.isintop6words.value_counts()"
   ]
  },
  {
   "cell_type": "code",
   "execution_count": 59,
   "metadata": {},
   "outputs": [
    {
     "data": {
      "text/plain": [
       "1    0.005798\n",
       "0    0.002048\n",
       "Name: cat_is_casino, dtype: float64"
      ]
     },
     "execution_count": 59,
     "metadata": {},
     "output_type": "execute_result"
    }
   ],
   "source": [
    "df[df.install==1].cat_is_casino.value_counts()/df.cat_is_casino.value_counts()"
   ]
  }
 ],
 "metadata": {
  "kernelspec": {
   "display_name": "Python 3",
   "language": "python",
   "name": "python3"
  },
  "language_info": {
   "codemirror_mode": {
    "name": "ipython",
    "version": 3
   },
   "file_extension": ".py",
   "mimetype": "text/x-python",
   "name": "python",
   "nbconvert_exporter": "python",
   "pygments_lexer": "ipython3",
   "version": "3.6.6"
  }
 },
 "nbformat": 4,
 "nbformat_minor": 2
}
